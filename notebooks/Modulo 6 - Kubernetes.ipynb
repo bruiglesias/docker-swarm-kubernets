{
 "cells": [
  {
   "cell_type": "markdown",
   "metadata": {},
   "source": [
    "###  Kubernetes"
   ]
  },
  {
   "cell_type": "markdown",
   "metadata": {},
   "source": [
    "<b> O que é Kubernetes?</b>\n",
    "\n",
    "- Uma ferramenta de orquestração de containers;\n",
    "\n",
    "- Permite a criação de múltiplos containers em diferentes máquinas (nodes);\n",
    "\n",
    "- Escalando projetos, formando um cluster;\n",
    "\n",
    "- Gerencia serviços, garantindo que as aplicações sejam executadas sempre da mesma forma;\n",
    "\n",
    "- Criada pelo Google;\n",
    "\n"
   ]
  },
  {
   "cell_type": "markdown",
   "metadata": {},
   "source": [
    "<b> Conceitos fundamentais</b>\n",
    "\n",
    "- ```Control Plane```: Onde é gerenciado o controle dos processos dos Nodes;\n",
    "\n",
    "- ```Nodes```: Máquinas que são gerenciadas pelo Control Plane;\n",
    "\n",
    "- ```Deployment```: A execução de uma imagem/projeto em um Pod;\n",
    "\n",
    "- ```Pod```: um ou mais containers que estão em um Node;\n",
    "\n",
    "- ```Services```: Serviços que expõe os Pods ao mundo externo;\n",
    "\n",
    "- ```kubectl```: Cliente de linha de comando para o Kubernetes;\n",
    "\n"
   ]
  },
  {
   "cell_type": "markdown",
   "metadata": {},
   "source": [
    "<b> Dependências necessárias</b>\n",
    "\n",
    "- O Kubernetes pode ser executado de uma maneira simples em nossa máquina;\n",
    "\n",
    "- Vamos precisar do client, ```kubectl```, que é a maneira de executar o Kubernetes;\n",
    "\n",
    "- E também o Minikube, uma espécie de simulador de Kubernetes, para não precisarmos de vários computadores/servidores;\n",
    "\n"
   ]
  },
  {
   "cell_type": "markdown",
   "metadata": {},
   "source": [
    "<b> Kubernetes no Windows</b>\n",
    "\n",
    "- Primeiramente vamos instalar o gerenciador de pacotes Chocolatey;\n",
    "\n",
    "- Depois seguiremos a documentação de instalação do client de Kubernetes;\n",
    "\n",
    "- Devemos também instalar o Virtualbox (não é necessário se você tem o Hyper-V ou o Docker instalado);\n",
    "\n",
    "- E por fim o Minikube;\n",
    "\n",
    "- Na próxima aula vamos inicializar o Minikube!\n",
    "\n"
   ]
  },
  {
   "cell_type": "markdown",
   "metadata": {},
   "source": [
    "<b> Kubernetes no Linux</b>\n",
    "\n",
    "- No Linux vamos instalar primeiramente o client do Kubernetes, seguindo a documentação;\n",
    "\n",
    "- E depois também seguiremos a documentação do Minikube;\n",
    "\n",
    "- Um dos requisitos do Minikube é ter um gerenciador de VMs/containers como: ```Docker```, ```Virtual box```, ```Hiper-V```;\n",
    "\n",
    "- Na próxima aula vamos inicializar o Minikube!\n",
    "\n"
   ]
  },
  {
   "cell_type": "markdown",
   "metadata": {},
   "source": [
    "<b> Iniciando o Minikube</b>\n",
    "\n",
    "- Para inicializar o Minikube vamos utilizar o comando: ```minikube start --driver=<DRIVER>```\n",
    "\n",
    "- Onde o driver vai depender de como foi sua instalação das dependências, e por qualquer um deles atingiremos os mesmos resultados!\n",
    "\n",
    "- Você pode tentar: ```virtualbox```, ```hyperv``` e ```docker```\n",
    "\n",
    "- Podemos testar o Minikube com: ```minikube status```\n",
    "\n"
   ]
  },
  {
   "cell_type": "code",
   "execution_count": null,
   "metadata": {},
   "outputs": [],
   "source": [
    "! minikube start --docker"
   ]
  },
  {
   "cell_type": "code",
   "execution_count": null,
   "metadata": {},
   "outputs": [],
   "source": [
    "! minikube status"
   ]
  },
  {
   "cell_type": "markdown",
   "metadata": {},
   "source": [
    "<b> Parando o Minikube</b>\n",
    "\n",
    "- Obs: sempre que o computador for reiniciado, deveremos iniciar o Minikube;\n",
    "\n",
    "- E podemos pará-lo também com o comando: ```minikube stop```\n",
    "\n",
    "- Para iniciar novamente, digite: ```minikube start --driver=<DRIVER>```\n",
    "\n"
   ]
  },
  {
   "cell_type": "code",
   "execution_count": null,
   "metadata": {},
   "outputs": [],
   "source": [
    "! minikube stop"
   ]
  },
  {
   "cell_type": "code",
   "execution_count": null,
   "metadata": {},
   "outputs": [],
   "source": [
    "! minikube start --docker"
   ]
  },
  {
   "cell_type": "markdown",
   "metadata": {},
   "source": [
    "<b> Acessando a dashboard do Kubernetes</b>\n",
    "\n",
    "- O Minikube nos disponibiliza uma dashboard;\n",
    "\n",
    "- Nela podemos ver todo o detalhamento de nosso projeto: serviços, pods e etc;\n",
    "\n",
    "- Vamos acessar com o comando: ```minikube dashboard```\n",
    "\n",
    "- Ou para apenas obter a URL: ```minibuke dashboard --url```\n",
    "\n"
   ]
  },
  {
   "cell_type": "code",
   "execution_count": null,
   "metadata": {},
   "outputs": [],
   "source": [
    "! minikube dashboard"
   ]
  },
  {
   "cell_type": "markdown",
   "metadata": {},
   "source": [
    "<b> Deployment teoria</b>\n",
    "\n",
    "- O Deployment é uma parte fundamental do Kubernetes;\n",
    "\n",
    "- Com ele criamos nosso serviço que vai rodar nos Pods;\n",
    "\n",
    "- Definimos uma imagem e um nome, para posteriormente ser replicado entre os servidores;\n",
    "\n",
    "- A partir da criação do deployment teremos containers rodando;\n",
    "\n",
    "- Vamos precisar de uma imagem no Hub do Docker, para gerar um Deployment;\n",
    "\n"
   ]
  },
  {
   "cell_type": "markdown",
   "metadata": {},
   "source": [
    "<b> Criar projeto</b>\n",
    "\n",
    "- Primeiramente vamos criar um pequeno projeto, novamente em Flask;\n",
    "\n",
    "- Buildar a imagem do mesmo;\n",
    "\n",
    "- Enviar a imagem para o Docker Hub;\n",
    "\n",
    "- E testar rodar em um container;\n",
    "\n",
    "- Este projeto será utilizado no Kubernetes!"
   ]
  },
  {
   "cell_type": "code",
   "execution_count": null,
   "metadata": {},
   "outputs": [],
   "source": [
    "! docker push bruiglesias/flask-image"
   ]
  },
  {
   "cell_type": "markdown",
   "metadata": {},
   "source": [
    "<b>Criando nosso Deployment</b>\n",
    "\n",
    "- Após este mini setup é hora de rodar nosso projeto no Kubernetes;\n",
    "\n",
    "- Para isso vamos precisar de um Deployment, que é onde rodamos os containers das aplicações nos Pods;\n",
    "\n",
    "- O comando é:```kubectl create deployment <NOME> --image=<IMAGEM>```\n",
    "\n",
    "- Desta maneira o projeto de Flask estará sendo orquestrado pelo Kubernetes;"
   ]
  },
  {
   "cell_type": "code",
   "execution_count": null,
   "metadata": {},
   "outputs": [],
   "source": [
    "! kubectl create deployment flask-deployment --image=bruiglesias/flask-image"
   ]
  },
  {
   "cell_type": "markdown",
   "metadata": {},
   "source": [
    "<b>Checando Deployments</b>\n",
    "\n",
    "- Podemos checar se tudo foi criado corretamente, tanto o Deployment quanto a recepção do projeto pelo Pod;\n",
    "\n",
    "- Para verificar o Deployment vamos utilizar: ```kubectl get deployments```\n",
    "\n",
    "- E para receber mais detalhes deles: ```kubectl describe deployments```\n",
    "\n",
    "- Desta forma conseguimos saber se o projeto está de fato rodando e também o que está rodando nele;\n"
   ]
  },
  {
   "cell_type": "code",
   "execution_count": 1,
   "metadata": {},
   "outputs": [
    {
     "name": "stdout",
     "output_type": "stream",
     "text": [
      "NAME               READY   UP-TO-DATE   AVAILABLE   AGE\n",
      "flask-deployment   1/1     1            1           2m22s\n"
     ]
    }
   ],
   "source": [
    "! kubectl get deployments"
   ]
  },
  {
   "cell_type": "code",
   "execution_count": 2,
   "metadata": {},
   "outputs": [
    {
     "name": "stdout",
     "output_type": "stream",
     "text": [
      "Name:                   flask-deployment\n",
      "Namespace:              default\n",
      "CreationTimestamp:      Sat, 07 Dec 2024 13:13:35 -0400\n",
      "Labels:                 app=flask-deployment\n",
      "Annotations:            deployment.kubernetes.io/revision: 1\n",
      "Selector:               app=flask-deployment\n",
      "Replicas:               1 desired | 1 updated | 1 total | 1 available | 0 unavailable\n",
      "StrategyType:           RollingUpdate\n",
      "MinReadySeconds:        0\n",
      "RollingUpdateStrategy:  25% max unavailable, 25% max surge\n",
      "Pod Template:\n",
      "  Labels:  app=flask-deployment\n",
      "  Containers:\n",
      "   flask-image:\n",
      "    Image:         bruiglesias/flask-image\n",
      "    Port:          <none>\n",
      "    Host Port:     <none>\n",
      "    Environment:   <none>\n",
      "    Mounts:        <none>\n",
      "  Volumes:         <none>\n",
      "  Node-Selectors:  <none>\n",
      "  Tolerations:     <none>\n",
      "Conditions:\n",
      "  Type           Status  Reason\n",
      "  ----           ------  ------\n",
      "  Available      True    MinimumReplicasAvailable\n",
      "  Progressing    True    NewReplicaSetAvailable\n",
      "OldReplicaSets:  <none>\n",
      "NewReplicaSet:   flask-deployment-847d89546f (1/1 replicas created)\n",
      "Events:\n",
      "  Type    Reason             Age   From                   Message\n",
      "  ----    ------             ----  ----                   -------\n",
      "  Normal  ScalingReplicaSet  3m1s  deployment-controller  Scaled up replica set flask-deployment-847d89546f to 1\n"
     ]
    }
   ],
   "source": [
    "! kubectl describe deployments"
   ]
  },
  {
   "cell_type": "markdown",
   "metadata": {},
   "source": [
    "<b>Checando Pods</b>\n",
    "\n",
    "- Os Pods são componentes muito importantes também, onde os containers realmente são executados;\n",
    "\n",
    "- Para verificar os Pods utilizamos: ```kubectl get pods```\n",
    "\n",
    "- E para saber mais detalhes deles: ```kubectl describe pods```\n",
    "\n",
    "- Recebemos o status dos Pods que estão ligados e também informações importantes sobre eles;\n",
    "\n"
   ]
  },
  {
   "cell_type": "code",
   "execution_count": 3,
   "metadata": {},
   "outputs": [
    {
     "name": "stdout",
     "output_type": "stream",
     "text": [
      "NAME                                READY   STATUS    RESTARTS   AGE\n",
      "flask-deployment-847d89546f-jnf98   1/1     Running   0          5m40s\n"
     ]
    }
   ],
   "source": [
    "! kubectl get pods"
   ]
  },
  {
   "cell_type": "code",
   "execution_count": 4,
   "metadata": {},
   "outputs": [
    {
     "name": "stdout",
     "output_type": "stream",
     "text": [
      "Name:             flask-deployment-847d89546f-jnf98\n",
      "Namespace:        default\n",
      "Priority:         0\n",
      "Service Account:  default\n",
      "Node:             minikube/192.168.49.2\n",
      "Start Time:       Sat, 07 Dec 2024 13:13:35 -0400\n",
      "Labels:           app=flask-deployment\n",
      "                  pod-template-hash=847d89546f\n",
      "Annotations:      <none>\n",
      "Status:           Running\n",
      "IP:               10.244.0.6\n",
      "IPs:\n",
      "  IP:           10.244.0.6\n",
      "Controlled By:  ReplicaSet/flask-deployment-847d89546f\n",
      "Containers:\n",
      "  flask-image:\n",
      "    Container ID:   docker://7df7f5853871d72dac3eaa1002b51f947f23e29277b845ba59051bf3ab1ec70a\n",
      "    Image:          bruiglesias/flask-image\n",
      "    Image ID:       docker-pullable://bruiglesias/flask-image@sha256:d5f65796668da89425e34c8f03648e04c337d585b3b8afd2e2e7b3669ada6b0c\n",
      "    Port:           <none>\n",
      "    Host Port:      <none>\n",
      "    State:          Running\n",
      "      Started:      Sat, 07 Dec 2024 13:14:53 -0400\n",
      "    Ready:          True\n",
      "    Restart Count:  0\n",
      "    Environment:    <none>\n",
      "    Mounts:\n",
      "      /var/run/secrets/kubernetes.io/serviceaccount from kube-api-access-6xmn8 (ro)\n",
      "Conditions:\n",
      "  Type                        Status\n",
      "  PodReadyToStartContainers   True \n",
      "  Initialized                 True \n",
      "  Ready                       True \n",
      "  ContainersReady             True \n",
      "  PodScheduled                True \n",
      "Volumes:\n",
      "  kube-api-access-6xmn8:\n",
      "    Type:                    Projected (a volume that contains injected data from multiple sources)\n",
      "    TokenExpirationSeconds:  3607\n",
      "    ConfigMapName:           kube-root-ca.crt\n",
      "    ConfigMapOptional:       <nil>\n",
      "    DownwardAPI:             true\n",
      "QoS Class:                   BestEffort\n",
      "Node-Selectors:              <none>\n",
      "Tolerations:                 node.kubernetes.io/not-ready:NoExecute op=Exists for 300s\n",
      "                             node.kubernetes.io/unreachable:NoExecute op=Exists for 300s\n",
      "Events:\n",
      "  Type    Reason     Age    From               Message\n",
      "  ----    ------     ----   ----               -------\n",
      "  Normal  Scheduled  5m54s  default-scheduler  Successfully assigned default/flask-deployment-847d89546f-jnf98 to minikube\n",
      "  Normal  Pulling    5m53s  kubelet            Pulling image \"bruiglesias/flask-image\"\n",
      "  Normal  Pulled     4m36s  kubelet            Successfully pulled image \"bruiglesias/flask-image\" in 1m17.062s (1m17.062s including waiting). Image size: 1110163517 bytes.\n",
      "  Normal  Created    4m36s  kubelet            Created container flask-image\n",
      "  Normal  Started    4m36s  kubelet            Started container flask-image\n"
     ]
    }
   ],
   "source": [
    "! kubectl describe pods"
   ]
  },
  {
   "cell_type": "markdown",
   "metadata": {},
   "source": [
    "<b>Configurações do Kubernetes</b>\n",
    "\n",
    "- Podemos também verificar como o Kubernetes está configurado;\n",
    "\n",
    "- O comando é: ```kubectl config view```\n",
    "\n",
    "- No nosso caso: vamos receber informações importantes baseadas no Minikube, que é por onde o Kubernetes está sendo executado;\n",
    "\n"
   ]
  },
  {
   "cell_type": "code",
   "execution_count": 5,
   "metadata": {},
   "outputs": [
    {
     "name": "stdout",
     "output_type": "stream",
     "text": [
      "apiVersion: v1\n",
      "clusters:\n",
      "- cluster:\n",
      "    certificate-authority: /home/iglesias/.minikube/ca.crt\n",
      "    extensions:\n",
      "    - extension:\n",
      "        last-update: Sat, 07 Dec 2024 12:07:00 -04\n",
      "        provider: minikube.sigs.k8s.io\n",
      "        version: v1.34.0\n",
      "      name: cluster_info\n",
      "    server: https://192.168.49.2:8443\n",
      "  name: minikube\n",
      "contexts:\n",
      "- context:\n",
      "    cluster: minikube\n",
      "    extensions:\n",
      "    - extension:\n",
      "        last-update: Sat, 07 Dec 2024 12:07:00 -04\n",
      "        provider: minikube.sigs.k8s.io\n",
      "        version: v1.34.0\n",
      "      name: context_info\n",
      "    namespace: default\n",
      "    user: minikube\n",
      "  name: minikube\n",
      "current-context: minikube\n",
      "kind: Config\n",
      "preferences: {}\n",
      "users:\n",
      "- name: minikube\n",
      "  user:\n",
      "    client-certificate: /home/iglesias/.minikube/profiles/minikube/client.crt\n",
      "    client-key: /home/iglesias/.minikube/profiles/minikube/client.key\n"
     ]
    }
   ],
   "source": [
    "! kubectl config view"
   ]
  },
  {
   "cell_type": "markdown",
   "metadata": {},
   "source": [
    "<b>Services teoria</b>\n",
    "\n",
    "- As aplicações do Kubernetes ```não tem conexão com o mundo externo```;\n",
    "\n",
    "- Por isso ```precisamos criar um Service```, que é o que possibilita expor os Pods;\n",
    "\n",
    "- Isso acontece pois ```os Pods são criados para serem destruídos e perderem tudo```, ou seja, os dados gerados neles também são apagados;\n",
    "\n",
    "- Então o ```Service é uma entidade separada dos Pods```, que expõe eles a uma rede;\n",
    "\n"
   ]
  },
  {
   "cell_type": "markdown",
   "metadata": {},
   "source": [
    "<b>Criando nosso Service</b>\n",
    "\n",
    "- Para criar um serviço e expor nossos Pods devemos utilizar o comando: ```kubectl expose deployment <NOME> --type=<TIPO> --port=<PORT>```\n",
    "\n",
    "- Colocaremos o nome do Deployment já criado;\n",
    "\n",
    "- O tipo de Service, há vários para utilizarmos, porém o ```LoadBalancer ```é o mais comum, onde todos os Pods são expostos;\n",
    "\n",
    "- E uma porta para o serviço ser consumido;\n",
    "\n"
   ]
  },
  {
   "cell_type": "code",
   "execution_count": 6,
   "metadata": {},
   "outputs": [
    {
     "name": "stdout",
     "output_type": "stream",
     "text": [
      "NAME               READY   UP-TO-DATE   AVAILABLE   AGE\n",
      "flask-deployment   1/1     1            1           15m\n"
     ]
    }
   ],
   "source": [
    "! kubectl get deployments"
   ]
  },
  {
   "cell_type": "code",
   "execution_count": 7,
   "metadata": {},
   "outputs": [
    {
     "name": "stdout",
     "output_type": "stream",
     "text": [
      "service/flask-deployment exposed\n"
     ]
    }
   ],
   "source": [
    "! kubectl expose deployment flask-deployment --type=LoadBalancer --port=5000"
   ]
  },
  {
   "cell_type": "markdown",
   "metadata": {},
   "source": [
    "<b>Gerando Ip de acesso</b>\n",
    "\n",
    "- Podemos acessar o nosso serviço com o comando: ```minikube service <NOME>```\n",
    "\n",
    "- Desta forma o IP aparece no nosso terminal;\n",
    "\n",
    "- E também uma aba no navegador é aberta com o projeto;\n",
    "\n",
    "- E pronto! Temos um projeto rodando pelo Kubernetes!\n",
    "\n"
   ]
  },
  {
   "cell_type": "code",
   "execution_count": null,
   "metadata": {},
   "outputs": [],
   "source": [
    "! minikube service flask-deployment"
   ]
  },
  {
   "cell_type": "markdown",
   "metadata": {},
   "source": [
    "<b>Verificando os nosso serviços</b>\n",
    "\n",
    "- Podemos também obter detalhes dos Services já criados;\n",
    "\n",
    "- O comando para verificar todos é: ```kubectl get services```\n",
    "\n",
    "- E podemos obter informações de um serviço em específico com: ```kubectl describe services/<NOME>```\n",
    "\n"
   ]
  },
  {
   "cell_type": "code",
   "execution_count": 8,
   "metadata": {},
   "outputs": [
    {
     "name": "stdout",
     "output_type": "stream",
     "text": [
      "NAME               TYPE           CLUSTER-IP       EXTERNAL-IP   PORT(S)          AGE\n",
      "flask-deployment   LoadBalancer   10.105.101.192   <pending>     5000:32520/TCP   4m30s\n",
      "kubernetes         ClusterIP      10.96.0.1        <none>        443/TCP          91m\n"
     ]
    }
   ],
   "source": [
    "! kubectl get services"
   ]
  },
  {
   "cell_type": "code",
   "execution_count": 9,
   "metadata": {},
   "outputs": [
    {
     "name": "stdout",
     "output_type": "stream",
     "text": [
      "Name:                     flask-deployment\n",
      "Namespace:                default\n",
      "Labels:                   app=flask-deployment\n",
      "Annotations:              <none>\n",
      "Selector:                 app=flask-deployment\n",
      "Type:                     LoadBalancer\n",
      "IP Family Policy:         SingleStack\n",
      "IP Families:              IPv4\n",
      "IP:                       10.105.101.192\n",
      "IPs:                      10.105.101.192\n",
      "Port:                     <unset>  5000/TCP\n",
      "TargetPort:               5000/TCP\n",
      "NodePort:                 <unset>  32520/TCP\n",
      "Endpoints:                10.244.0.6:5000\n",
      "Session Affinity:         None\n",
      "External Traffic Policy:  Cluster\n",
      "Internal Traffic Policy:  Cluster\n",
      "Events:                   <none>\n"
     ]
    }
   ],
   "source": [
    "! kubectl describe services/flask-deployment"
   ]
  },
  {
   "cell_type": "markdown",
   "metadata": {},
   "source": [
    "<b>Replicando nossa aplicação</b>\n",
    "\n",
    "- Vamos aprender agora a como utilizar outros Pods, replicando assim a nossa aplicação;\n",
    "\n",
    "- O comando é: ```kubectl scale deployment/<NOME> --replicas=<NUMERO>```\n",
    "\n",
    "- Podemos agora verificar no Dashboard o aumento de Pods;\n",
    "\n",
    "- E também com o comando de: ```kubectl get pods```\n",
    "\n"
   ]
  },
  {
   "cell_type": "code",
   "execution_count": 10,
   "metadata": {},
   "outputs": [
    {
     "name": "stdout",
     "output_type": "stream",
     "text": [
      "deployment.apps/flask-deployment scaled\n"
     ]
    }
   ],
   "source": [
    "! kubectl scale deployment/flask-deployment --replicas=5"
   ]
  },
  {
   "cell_type": "code",
   "execution_count": 12,
   "metadata": {},
   "outputs": [
    {
     "name": "stdout",
     "output_type": "stream",
     "text": [
      "NAME                                READY   STATUS    RESTARTS   AGE\n",
      "flask-deployment-847d89546f-55cdb   1/1     Running   0          34s\n",
      "flask-deployment-847d89546f-gn7sw   1/1     Running   0          34s\n",
      "flask-deployment-847d89546f-hg8jj   1/1     Running   0          34s\n",
      "flask-deployment-847d89546f-hr26h   1/1     Running   0          34s\n",
      "flask-deployment-847d89546f-jnf98   1/1     Running   0          66m\n"
     ]
    }
   ],
   "source": [
    "! kubectl get pods"
   ]
  },
  {
   "cell_type": "markdown",
   "metadata": {},
   "source": [
    "<b>Checar número de réplicas</b>\n",
    "\n",
    "- Além do get pods e da Dashboard, temos mais um comando para checar réplicas;\n",
    "\n",
    "- Que é o: ```kubectl get rs```\n",
    "\n",
    "- Desta maneira temos os status das réplicas dos projetos;\n",
    "\n"
   ]
  },
  {
   "cell_type": "code",
   "execution_count": 13,
   "metadata": {},
   "outputs": [
    {
     "name": "stdout",
     "output_type": "stream",
     "text": [
      "NAME                          DESIRED   CURRENT   READY   AGE\n",
      "flask-deployment-847d89546f   5         5         5       67m\n"
     ]
    }
   ],
   "source": [
    "! kubectl get rs"
   ]
  },
  {
   "cell_type": "markdown",
   "metadata": {},
   "source": [
    "<b>Diminuindo a escala</b>\n",
    "\n",
    "- Podemos facilmente também reduzir o número de Pods;\n",
    "\n",
    "- Esta técnica é chamada de scale down;\n",
    "\n",
    "- O comando é o mesmo, porém colocamos menos réplicas e o Kubernetes faz o resto;\n",
    "\n",
    "- Comando: ```kubectl scale deployment/<NOME> --replicas=<NUMERO_MENOR>```\n",
    "\n"
   ]
  },
  {
   "cell_type": "code",
   "execution_count": 14,
   "metadata": {},
   "outputs": [
    {
     "name": "stdout",
     "output_type": "stream",
     "text": [
      "deployment.apps/flask-deployment scaled\n"
     ]
    }
   ],
   "source": [
    "! kubectl scale deployment/flask-deployment --replicas=3"
   ]
  },
  {
   "cell_type": "code",
   "execution_count": 15,
   "metadata": {},
   "outputs": [
    {
     "name": "stdout",
     "output_type": "stream",
     "text": [
      "NAME                                READY   STATUS    RESTARTS   AGE\n",
      "flask-deployment-847d89546f-55cdb   1/1     Running   0          3m39s\n",
      "flask-deployment-847d89546f-hr26h   1/1     Running   0          3m39s\n",
      "flask-deployment-847d89546f-jnf98   1/1     Running   0          69m\n"
     ]
    }
   ],
   "source": [
    "! kubectl get pods"
   ]
  },
  {
   "cell_type": "markdown",
   "metadata": {},
   "source": [
    "<b>Resgatar o IP do serviço</b>\n",
    "\n",
    "- Podemos sempre relembrar o IP/URL do nosso serviço;\n",
    "\n",
    "- O comando é: ```minikube service --url <NOME>```\n",
    "\n",
    "- Desta maneira a URL é exibida no terminal;\n",
    "\n"
   ]
  },
  {
   "cell_type": "markdown",
   "metadata": {},
   "source": [
    "<b>Atualização de imagem</b>\n",
    "\n",
    "- Para atualizar a imagem vamos precisar do nome do container, isso é dado na Dashboard dentro do Pod;\n",
    "\n",
    "- E também a nova imagem deve ser uma outra versão da atual, precisamos subir uma nova tag no Hub;\n",
    "\n",
    "- Depois utilizamos o comando: ```kubectl set image deployment/<NOME> <NOME_CONTAINER>=<NOVA_IMAGEM>```\n"
   ]
  },
  {
   "cell_type": "code",
   "execution_count": 16,
   "metadata": {},
   "outputs": [
    {
     "name": "stdout",
     "output_type": "stream",
     "text": [
      "deployment.apps/flask-deployment image updated\n"
     ]
    }
   ],
   "source": [
    "! kubectl set image deployment/flask-deployment  flask-image=bruiglesias/flask-image:2"
   ]
  },
  {
   "cell_type": "code",
   "execution_count": 17,
   "metadata": {},
   "outputs": [
    {
     "name": "stdout",
     "output_type": "stream",
     "text": [
      "NAME               READY   UP-TO-DATE   AVAILABLE   AGE\n",
      "flask-deployment   3/3     3            3           77m\n"
     ]
    }
   ],
   "source": [
    "! kubectl get deployments"
   ]
  },
  {
   "cell_type": "code",
   "execution_count": 18,
   "metadata": {},
   "outputs": [
    {
     "name": "stdout",
     "output_type": "stream",
     "text": [
      "NAME                                READY   STATUS    RESTARTS   AGE\n",
      "flask-deployment-556894d6df-2wkdq   1/1     Running   0          27s\n",
      "flask-deployment-556894d6df-bzttm   1/1     Running   0          35s\n",
      "flask-deployment-556894d6df-zszsp   1/1     Running   0          30s\n"
     ]
    }
   ],
   "source": [
    "! kubectl get pods"
   ]
  },
  {
   "cell_type": "markdown",
   "metadata": {},
   "source": [
    "\n",
    "<b>Desfazer alteração</b>\n",
    "\n",
    "- Para desfazer uma alteração utilizamos uma ação conhecida como rollback;\n",
    "\n",
    "- O comando para verificar uma alteração é: ```kubectl rollout status deployment/<NOME>```\n",
    "\n",
    "- Com ele e com o ```kubectl get pods```, podemos identificar problemas;\n",
    "\n",
    "- Para voltar a alteração utilizamos: ```kubectl rollout undo deployment/<NOME>```\n",
    "\n"
   ]
  },
  {
   "cell_type": "code",
   "execution_count": 19,
   "metadata": {},
   "outputs": [
    {
     "name": "stdout",
     "output_type": "stream",
     "text": [
      "deployment.apps/flask-deployment image updated\n"
     ]
    }
   ],
   "source": [
    "! kubectl set image deployment/flask-deployment  flask-image=bruiglesias/flask-image:3"
   ]
  },
  {
   "cell_type": "code",
   "execution_count": 20,
   "metadata": {},
   "outputs": [
    {
     "name": "stdout",
     "output_type": "stream",
     "text": [
      "NAME                                READY   STATUS             RESTARTS   AGE\n",
      "flask-deployment-556894d6df-2wkdq   1/1     Running            0          3m20s\n",
      "flask-deployment-556894d6df-bzttm   1/1     Running            0          3m28s\n",
      "flask-deployment-556894d6df-zszsp   1/1     Running            0          3m23s\n",
      "flask-deployment-5df84688c6-kv5f4   0/1     ImagePullBackOff   0          33s\n"
     ]
    }
   ],
   "source": [
    "! kubectl get pods"
   ]
  },
  {
   "cell_type": "code",
   "execution_count": 21,
   "metadata": {},
   "outputs": [
    {
     "name": "stdout",
     "output_type": "stream",
     "text": [
      "Waiting for deployment \"flask-deployment\" rollout to finish: 1 out of 3 new replicas have been updated...\n",
      "^C\n"
     ]
    }
   ],
   "source": [
    "! kubectl rollout status deployment/flask-deployment"
   ]
  },
  {
   "cell_type": "code",
   "execution_count": 22,
   "metadata": {},
   "outputs": [
    {
     "name": "stdout",
     "output_type": "stream",
     "text": [
      "deployment.apps/flask-deployment rolled back\n"
     ]
    }
   ],
   "source": [
    "! kubectl rollout undo deployment/flask-deployment"
   ]
  },
  {
   "cell_type": "code",
   "execution_count": 23,
   "metadata": {},
   "outputs": [
    {
     "name": "stdout",
     "output_type": "stream",
     "text": [
      "NAME                                READY   STATUS    RESTARTS   AGE\n",
      "flask-deployment-556894d6df-2wkdq   1/1     Running   0          5m16s\n",
      "flask-deployment-556894d6df-bzttm   1/1     Running   0          5m24s\n",
      "flask-deployment-556894d6df-zszsp   1/1     Running   0          5m19s\n"
     ]
    }
   ],
   "source": [
    "! kubectl get pods"
   ]
  },
  {
   "cell_type": "code",
   "execution_count": 24,
   "metadata": {},
   "outputs": [
    {
     "name": "stdout",
     "output_type": "stream",
     "text": [
      "deployment \"flask-deployment\" successfully rolled out\n"
     ]
    }
   ],
   "source": [
    "! kubectl rollout status deployment/flask-deployment"
   ]
  },
  {
   "cell_type": "markdown",
   "metadata": {},
   "source": [
    "<b>Desfazer alteração</b>\n",
    "\n",
    "- Para desfazer uma alteração utilizamos uma ação conhecida como rollback;\n",
    "\n",
    "- O comando para verificar uma alteração é: ```kubectl rollout status deployment/<NOME>```\n",
    "\n",
    "- Com ele e com o ```kubectl get pods```, podemos identificar problemas;\n",
    "\n",
    "- Para voltar a alteração utilizamos: ```kubectl rollout undo deployment/<NOME>```\n",
    "\n"
   ]
  },
  {
   "cell_type": "markdown",
   "metadata": {},
   "source": [
    "<b>Deletar um Service</b>\n",
    "\n",
    "- Para deletar um serviço do Kubernetes vamos utilizar o comando: ```kubectl delete service <NOME>```\n",
    "\n",
    "- Desta maneira nossos Pods não terão mais a conexão externa;\n",
    "\n",
    "- Ou seja, não poderemos mais acessar eles;\n",
    "\n"
   ]
  },
  {
   "cell_type": "code",
   "execution_count": 25,
   "metadata": {},
   "outputs": [
    {
     "name": "stdout",
     "output_type": "stream",
     "text": [
      "NAME               TYPE           CLUSTER-IP       EXTERNAL-IP   PORT(S)          AGE\n",
      "flask-deployment   LoadBalancer   10.105.101.192   <pending>     5000:32520/TCP   67m\n",
      "kubernetes         ClusterIP      10.96.0.1        <none>        443/TCP          154m\n"
     ]
    }
   ],
   "source": [
    "! kubectl get services"
   ]
  },
  {
   "cell_type": "code",
   "execution_count": 26,
   "metadata": {},
   "outputs": [
    {
     "name": "stdout",
     "output_type": "stream",
     "text": [
      "service \"flask-deployment\" deleted\n"
     ]
    }
   ],
   "source": [
    "! kubectl delete service flask-deployment"
   ]
  },
  {
   "cell_type": "code",
   "execution_count": 27,
   "metadata": {},
   "outputs": [
    {
     "name": "stdout",
     "output_type": "stream",
     "text": [
      "NAME         TYPE        CLUSTER-IP   EXTERNAL-IP   PORT(S)   AGE\n",
      "kubernetes   ClusterIP   10.96.0.1    <none>        443/TCP   155m\n"
     ]
    }
   ],
   "source": [
    "! kubectl get services"
   ]
  },
  {
   "cell_type": "code",
   "execution_count": 28,
   "metadata": {},
   "outputs": [
    {
     "name": "stdout",
     "output_type": "stream",
     "text": [
      "NAME                                READY   STATUS    RESTARTS   AGE\n",
      "flask-deployment-556894d6df-2wkdq   1/1     Running   0          8m26s\n",
      "flask-deployment-556894d6df-bzttm   1/1     Running   0          8m34s\n",
      "flask-deployment-556894d6df-zszsp   1/1     Running   0          8m29s\n"
     ]
    }
   ],
   "source": [
    "! kubectl get pods"
   ]
  },
  {
   "cell_type": "markdown",
   "metadata": {},
   "source": [
    "<b>Deletar um Deployment</b>\n",
    "\n",
    "- Para deletar um Deployment do Kubernetes vamos utilizar o comando: ```kubectl delete deploymnet <NOME>```\n",
    "\n",
    "- Desta maneira o container não estará mais rodando, pois paramos os Pods;\n",
    "\n",
    "- Assim precisaremos criar um deployment novamente com a mesma ou outra imagem, para acessar algum projeto;"
   ]
  },
  {
   "cell_type": "code",
   "execution_count": 29,
   "metadata": {},
   "outputs": [
    {
     "name": "stdout",
     "output_type": "stream",
     "text": [
      "NAME               READY   UP-TO-DATE   AVAILABLE   AGE\n",
      "flask-deployment   3/3     3            3           86m\n"
     ]
    }
   ],
   "source": [
    "! kubectl get deployments"
   ]
  },
  {
   "cell_type": "code",
   "execution_count": 30,
   "metadata": {},
   "outputs": [
    {
     "name": "stdout",
     "output_type": "stream",
     "text": [
      "NAME                                READY   STATUS    RESTARTS   AGE\n",
      "flask-deployment-556894d6df-2wkdq   1/1     Running   0          9m35s\n",
      "flask-deployment-556894d6df-bzttm   1/1     Running   0          9m43s\n",
      "flask-deployment-556894d6df-zszsp   1/1     Running   0          9m38s\n"
     ]
    }
   ],
   "source": [
    "! kubectl get pods"
   ]
  },
  {
   "cell_type": "code",
   "execution_count": 32,
   "metadata": {},
   "outputs": [
    {
     "name": "stdout",
     "output_type": "stream",
     "text": [
      "deployment.apps \"flask-deployment\" deleted\n"
     ]
    }
   ],
   "source": [
    "! kubectl delete deployment flask-deployment"
   ]
  },
  {
   "cell_type": "code",
   "execution_count": 33,
   "metadata": {},
   "outputs": [
    {
     "name": "stdout",
     "output_type": "stream",
     "text": [
      "No resources found in default namespace.\n"
     ]
    }
   ],
   "source": [
    "! kubectl get deployments"
   ]
  },
  {
   "cell_type": "code",
   "execution_count": 34,
   "metadata": {},
   "outputs": [
    {
     "name": "stdout",
     "output_type": "stream",
     "text": [
      "No resources found in default namespace.\n"
     ]
    }
   ],
   "source": [
    "! kubectl get pods"
   ]
  },
  {
   "cell_type": "markdown",
   "metadata": {},
   "source": [
    "<b>Modo declarativo</b>\n",
    "\n",
    "- Até agora utilizamos o ```modo imperativo```, que é quando iniciamos a aplicação com comandos;\n",
    "\n",
    "- O modo ```declarativo é guiado por um arquivo```, semelhante ao ```Docker Compose```;\n",
    "\n",
    "- Desta maneira tornamos nossas configurações mais simples e ```centralizamos tudo em um comando```;\n",
    "\n",
    "- Também escrevemos em ```YAML``` o arquivo de Kubernetes;"
   ]
  },
  {
   "cell_type": "markdown",
   "metadata": {},
   "source": [
    "<b>Chaves mais utilizadas</b>\n",
    "\n",
    "- ```apiVersion```: versão utilizada da ferramenta;\n",
    "\n",
    "- ```kind```: tipo do arquivo (Deployment, Service);\n",
    "\n",
    "- ```metadata```: descrever algum objeto, inserindo chaves como name;\n",
    "\n",
    "- ```replicas```: número de réplicas de Nodes/Pods;\n",
    "\n",
    "- ```containers```: definir as especificações de containers como: nome e imagem;\n",
    "\n"
   ]
  },
  {
   "cell_type": "markdown",
   "metadata": {},
   "source": [
    "<b>Criando nosso arquivo</b>\n",
    "\n",
    "- Agora vamos transformar nosso projeto em declarativo;\n",
    "\n",
    "- Para isso vamos criar um arquivo para realizar o Deployment;\n",
    "\n",
    "- Desta maneira vamos aprender a criar os arquivos declarativos e utilizar as chaves e valores;\n",
    "\n",
    "- Mãos à obra!\n",
    "\n"
   ]
  },
  {
   "cell_type": "markdown",
   "metadata": {},
   "source": [
    "<b>Criando o arquivo flask.yaml </b>"
   ]
  },
  {
   "cell_type": "markdown",
   "metadata": {},
   "source": [
    "```yaml\n",
    "apiVersion: apps/v1\n",
    "kind: Deployment\n",
    "name: flask-app-depoyment\n",
    "spec:\n",
    "  replicas: 5\n",
    "  selector:\n",
    "    matchLabels:\n",
    "      app: flask-app\n",
    "  template:\n",
    "    metadata:\n",
    "      labels:\n",
    "        app: flask-app\n",
    "    spec:\n",
    "      containers:\n",
    "        - name: flask\n",
    "          image: bruiglesias/flask-image:2\n",
    "```"
   ]
  },
  {
   "cell_type": "markdown",
   "metadata": {},
   "source": [
    "<b>Executando arquivo de Deployment</b>\n",
    "\n",
    "- Vamos então executar nosso arquivo de Deployment!\n",
    "\n",
    "- O comando é: ```kubectl apply -f <ARQUIVO>```\n",
    "\n",
    "- Desta maneira o Deployment será criado conforme configurado no arquivo ```.yaml```;\n",
    "\n"
   ]
  },
  {
   "cell_type": "code",
   "execution_count": null,
   "metadata": {},
   "outputs": [],
   "source": [
    "! kubectl apply -f flask.yaml"
   ]
  },
  {
   "cell_type": "code",
   "execution_count": 35,
   "metadata": {},
   "outputs": [
    {
     "name": "stdout",
     "output_type": "stream",
     "text": [
      "NAME                                   READY   STATUS    RESTARTS   AGE\n",
      "flask-app-depoyment-76fbbbf97f-4kmqz   1/1     Running   0          32s\n",
      "flask-app-depoyment-76fbbbf97f-dkbs2   1/1     Running   0          32s\n",
      "flask-app-depoyment-76fbbbf97f-f9w7w   1/1     Running   0          32s\n",
      "flask-app-depoyment-76fbbbf97f-t7pr2   1/1     Running   0          32s\n"
     ]
    }
   ],
   "source": [
    "! kubectl get pods"
   ]
  },
  {
   "cell_type": "markdown",
   "metadata": {},
   "source": [
    "<b>Parando o Deployment</b>\n",
    "\n",
    "- Para parar de executar este deployment baseado em arquivo, o declarativo, utilizamos também o delete;\n",
    "\n",
    "- O comando é: ```kubectl delete -f <ARQUIVO>```\n",
    "\n",
    "- Desta maneira teremos os Pods sendo excluídos e o serviço finalizado;\n"
   ]
  },
  {
   "cell_type": "code",
   "execution_count": null,
   "metadata": {},
   "outputs": [],
   "source": [
    "! kubectl delete -f flask.yaml"
   ]
  },
  {
   "cell_type": "code",
   "execution_count": 36,
   "metadata": {},
   "outputs": [
    {
     "name": "stdout",
     "output_type": "stream",
     "text": [
      "No resources found in default namespace.\n"
     ]
    }
   ],
   "source": [
    "! kubectl get pods"
   ]
  },
  {
   "cell_type": "markdown",
   "metadata": {},
   "source": [
    "\n",
    "<b>Criando o serviço</b>\n",
    "\n",
    "- Agora vamos criar o serviço em declarativo;\n",
    "\n",
    "- Para isso vamos criar um arquivo para realizar o Service (kind);\n",
    "\n",
    "- O arquivo será semelhante ao de Deployment, porém tem uma responsabilidade diferente;\n",
    "\n"
   ]
  },
  {
   "cell_type": "code",
   "execution_count": 37,
   "metadata": {},
   "outputs": [
    {
     "name": "stdout",
     "output_type": "stream",
     "text": [
      "NAME                                   READY   STATUS    RESTARTS   AGE\n",
      "flask-app-depoyment-76fbbbf97f-c26px   1/1     Running   0          10s\n",
      "flask-app-depoyment-76fbbbf97f-dxvvj   1/1     Running   0          10s\n",
      "flask-app-depoyment-76fbbbf97f-wwczz   1/1     Running   0          10s\n",
      "flask-app-depoyment-76fbbbf97f-xknlv   1/1     Running   0          10s\n"
     ]
    }
   ],
   "source": [
    "! kubectl get pods"
   ]
  },
  {
   "cell_type": "markdown",
   "metadata": {},
   "source": [
    "<b>Criando o arquivo flask-service.yaml </b>"
   ]
  },
  {
   "cell_type": "markdown",
   "metadata": {},
   "source": [
    "```yaml\n",
    "apiVersion: v1\n",
    "kind: Service\n",
    "metadata:\n",
    "  name: flask-service\n",
    "spec:\n",
    "  selector:\n",
    "    app: flask-app\n",
    "  ports:\n",
    "    - protocol: 'TCP'\n",
    "      port: 5000\n",
    "      targetPort: 5000\n",
    "  type: LoadBalancer\n",
    "```"
   ]
  },
  {
   "cell_type": "markdown",
   "metadata": {},
   "source": [
    "<b>Executando o serviço</b>\n",
    "\n",
    "- Vamos executar da mesma maneira: ```kubectl apply -f <ARQUIVO>```\n",
    "\n",
    "- E o serviço vai estar disponível;\n",
    "\n",
    "- Obs: precisamos gerar o IP de acesso com ```minikube service <NOME>```\n",
    "\n"
   ]
  },
  {
   "cell_type": "code",
   "execution_count": null,
   "metadata": {},
   "outputs": [],
   "source": [
    "! kubectl apply -f flask-service.yaml"
   ]
  },
  {
   "cell_type": "code",
   "execution_count": 38,
   "metadata": {},
   "outputs": [
    {
     "name": "stdout",
     "output_type": "stream",
     "text": [
      "NAME            TYPE           CLUSTER-IP      EXTERNAL-IP   PORT(S)          AGE\n",
      "flask-service   LoadBalancer   10.96.107.105   <pending>     5000:30951/TCP   28s\n",
      "kubernetes      ClusterIP      10.96.0.1       <none>        443/TCP          3h4m\n"
     ]
    }
   ],
   "source": [
    "! kubectl get services"
   ]
  },
  {
   "cell_type": "code",
   "execution_count": null,
   "metadata": {},
   "outputs": [],
   "source": [
    "! minikube service flask-service"
   ]
  },
  {
   "cell_type": "markdown",
   "metadata": {},
   "source": [
    "<b>Parando o Serviço</b>\n",
    "\n",
    "- Para parar de executar um serviço baseado em arquivo, o declarativo, utilizamos também o ```delete```;\n",
    "\n",
    "- O comando é: ```kubectl delete -f <ARQUIVO>```\n",
    "\n",
    "- Desta maneira o serviço não estará mais disponível, então perdemos o acesso ao projeto;\n",
    "\n"
   ]
  },
  {
   "cell_type": "code",
   "execution_count": null,
   "metadata": {},
   "outputs": [],
   "source": [
    "! kubectl delete -f flask-service.yaml"
   ]
  },
  {
   "cell_type": "code",
   "execution_count": 39,
   "metadata": {},
   "outputs": [
    {
     "name": "stdout",
     "output_type": "stream",
     "text": [
      "NAME         TYPE        CLUSTER-IP   EXTERNAL-IP   PORT(S)   AGE\n",
      "kubernetes   ClusterIP   10.96.0.1    <none>        443/TCP   3h7m\n"
     ]
    }
   ],
   "source": [
    "! kubectl get services"
   ]
  },
  {
   "cell_type": "markdown",
   "metadata": {},
   "source": [
    "<b>Atualizando o projeto no declarativo</b>\n",
    "\n",
    "- Primeiramente vamos criar uma nova versão da imagem;\n",
    "\n",
    "- E fazer o push para o Hub;\n",
    "\n",
    "- Depois é só alterar no arquivo de Deployment a tag;\n",
    "\n",
    "- E reaplicar o comando de apply, simples assim! =)\n",
    "\n"
   ]
  },
  {
   "cell_type": "code",
   "execution_count": null,
   "metadata": {},
   "outputs": [],
   "source": [
    "! docker build -t bruiglesias/flask-image:3 ."
   ]
  },
  {
   "cell_type": "code",
   "execution_count": null,
   "metadata": {},
   "outputs": [],
   "source": [
    "! docker push bruiglesias/flask-image:3"
   ]
  },
  {
   "cell_type": "code",
   "execution_count": null,
   "metadata": {},
   "outputs": [],
   "source": [
    "! kubectl apply -f flask.yaml"
   ]
  },
  {
   "cell_type": "code",
   "execution_count": 40,
   "metadata": {},
   "outputs": [
    {
     "name": "stdout",
     "output_type": "stream",
     "text": [
      "NAME                                   READY   STATUS    RESTARTS   AGE\n",
      "flask-app-depoyment-6997b65b5d-8k64s   1/1     Running   0          9s\n",
      "flask-app-depoyment-6997b65b5d-kfvr5   1/1     Running   0          15s\n",
      "flask-app-depoyment-6997b65b5d-p54ww   1/1     Running   0          15s\n",
      "flask-app-depoyment-6997b65b5d-vtmb5   1/1     Running   0          8s\n"
     ]
    }
   ],
   "source": [
    "! kubectl get pods"
   ]
  },
  {
   "cell_type": "markdown",
   "metadata": {},
   "source": [
    "<b>Unindo arquivos do projeto</b>\n",
    "\n",
    "- Vamos precisar unir o deployment e o service em um arquivo;\n",
    "\n",
    "- A separação de objetos para o YAML é com: ```---```\n",
    "\n",
    "- Desta forma cada um deles será executado;\n",
    "\n",
    "- Uma boa prática é colocar o service antes do deployment!"
   ]
  },
  {
   "cell_type": "code",
   "execution_count": 42,
   "metadata": {},
   "outputs": [
    {
     "name": "stdout",
     "output_type": "stream",
     "text": [
      "No resources found in default namespace.\n"
     ]
    }
   ],
   "source": [
    "! kubectl get pods"
   ]
  },
  {
   "cell_type": "code",
   "execution_count": 43,
   "metadata": {},
   "outputs": [
    {
     "name": "stdout",
     "output_type": "stream",
     "text": [
      "NAME         TYPE        CLUSTER-IP   EXTERNAL-IP   PORT(S)   AGE\n",
      "kubernetes   ClusterIP   10.96.0.1    <none>        443/TCP   3h49m\n"
     ]
    }
   ],
   "source": [
    "! kubectl get services"
   ]
  },
  {
   "cell_type": "markdown",
   "metadata": {},
   "source": [
    "```yaml\n",
    "\n",
    "---\n",
    "apiVersion: v1\n",
    "kind: Service\n",
    "metadata:\n",
    "  name: flask-service\n",
    "spec:\n",
    "  selector:\n",
    "    app: flask-app\n",
    "  ports:\n",
    "    - protocol: 'TCP'\n",
    "      port: 5000\n",
    "      targetPort: 5000\n",
    "  type: LoadBalancer\n",
    "---\n",
    "apiVersion: apps/v1\n",
    "kind: Deployment\n",
    "metadata:\n",
    "  name: flask-app-depoyment\n",
    "spec:\n",
    "  replicas: 4\n",
    "  selector:\n",
    "    matchLabels:\n",
    "      app: flask-app\n",
    "  template:\n",
    "    metadata:\n",
    "      labels:\n",
    "        app: flask-app\n",
    "    spec:\n",
    "      containers:\n",
    "        - name: flask\n",
    "          image: bruiglesias/flask-image:3\n",
    "```"
   ]
  },
  {
   "cell_type": "code",
   "execution_count": null,
   "metadata": {},
   "outputs": [],
   "source": [
    "! kubectl apply -f flask-project.yaml"
   ]
  },
  {
   "cell_type": "code",
   "execution_count": 44,
   "metadata": {},
   "outputs": [
    {
     "name": "stdout",
     "output_type": "stream",
     "text": [
      "NAME                                   READY   STATUS    RESTARTS   AGE\n",
      "flask-app-depoyment-6997b65b5d-dljd9   1/1     Running   0          13s\n",
      "flask-app-depoyment-6997b65b5d-nfmdz   1/1     Running   0          12s\n",
      "flask-app-depoyment-6997b65b5d-ns55j   1/1     Running   0          13s\n",
      "flask-app-depoyment-6997b65b5d-sphjf   1/1     Running   0          13s\n"
     ]
    }
   ],
   "source": [
    "! kubectl get pods"
   ]
  },
  {
   "cell_type": "code",
   "execution_count": 45,
   "metadata": {},
   "outputs": [
    {
     "name": "stdout",
     "output_type": "stream",
     "text": [
      "NAME            TYPE           CLUSTER-IP      EXTERNAL-IP   PORT(S)          AGE\n",
      "flask-service   LoadBalancer   10.106.40.233   <pending>     5000:32704/TCP   18s\n",
      "kubernetes      ClusterIP      10.96.0.1       <none>        443/TCP          3h52m\n"
     ]
    }
   ],
   "source": [
    "! kubectl get services"
   ]
  },
  {
   "cell_type": "code",
   "execution_count": null,
   "metadata": {},
   "outputs": [],
   "source": [
    "! minikube service flask-service"
   ]
  }
 ],
 "metadata": {
  "kernelspec": {
   "display_name": "docker-env",
   "language": "python",
   "name": "python3"
  },
  "language_info": {
   "codemirror_mode": {
    "name": "ipython",
    "version": 3
   },
   "file_extension": ".py",
   "mimetype": "text/x-python",
   "name": "python",
   "nbconvert_exporter": "python",
   "pygments_lexer": "ipython3",
   "version": "3.12.3"
  }
 },
 "nbformat": 4,
 "nbformat_minor": 2
}
