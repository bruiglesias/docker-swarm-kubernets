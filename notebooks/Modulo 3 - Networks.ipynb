{
 "cells": [
  {
   "cell_type": "markdown",
   "metadata": {},
   "source": [
    "### Networks"
   ]
  },
  {
   "cell_type": "markdown",
   "metadata": {},
   "source": [
    "<b>O que são Networks no Docker?</b>\n",
    "\n",
    "- Uma forma de gerenciar a conexão do Docker com outras plataformas ou até mesmo entre containers;\n",
    "\n",
    "- As redes ou networks são criadas separadas do containers, como os volumes;\n",
    "\n",
    "- Além disso existem alguns drivers de rede, que veremos em seguida;\n",
    "\n",
    "- Uma rede deixa muito simples a comunicação entre containers;\n"
   ]
  },
  {
   "cell_type": "markdown",
   "metadata": {},
   "source": [
    "<b>Tipos de rede (drivers)</b>\n",
    "\n",
    "- ```Bridge```: o mais comum e default do Docker, utilizado quando containers precisam se conectar (na maioria das vezes optamos por este driver);\n",
    "\n",
    "- ```host```: permite a conexão entre um container a máquina que está hosteando o Docker;\n",
    "\n",
    "- ```macvlan```: permite a conexão a um container por um MAC address;\n",
    "\n",
    "- ```none```: remove todas conexões de rede de um container;\n",
    "\n",
    "- ```plugins```: permite extensões de terceiros para criar outras redes;"
   ]
  },
  {
   "cell_type": "markdown",
   "metadata": {},
   "source": [
    "<b>Tipos de conexão</b>\n",
    "\n",
    "- Os containers costumam ter três principais tipos de comunicação:\n",
    "\n",
    "- ```Externa```: conexão com uma API de um servidor remoto;\n",
    "\n",
    "- ```Com o host```: comunicação com a máquina que está executando o Docker;\n",
    "\n",
    "- ```Entre containers```: comunicação que utiliza o driver bridge e permite a comunicação entre dois ou mais containers;"
   ]
  },
  {
   "cell_type": "markdown",
   "metadata": {},
   "source": [
    "<b>Listando redes</b>\n",
    "\n",
    "- Podemos verificar todas as redes do nosso ambiente com: ```docker network ls;```\n",
    "\n",
    "- Algumas redes já estão criadas, estas fazem parte da configuração inicial do docker; "
   ]
  },
  {
   "cell_type": "code",
   "execution_count": 1,
   "metadata": {},
   "outputs": [
    {
     "name": "stdout",
     "output_type": "stream",
     "text": [
      "NETWORK ID     NAME                          DRIVER    SCOPE\n",
      "db83cc9843e9   bridge                        bridge    local\n",
      "43002a0cebb8   emsoutlierpredictor_default   bridge    local\n",
      "1cfbd8b25862   host                          host      local\n",
      "2ae37ceb6410   lifetest-api_default          bridge    local\n",
      "72f85eb5c733   none                          null      local\n"
     ]
    }
   ],
   "source": [
    "! docker network ls"
   ]
  },
  {
   "cell_type": "markdown",
   "metadata": {},
   "source": [
    "<b>Criando rede</b>\n",
    "\n",
    "- Para criar uma rede vamos utilizar o comando ```docker network create <nome>```;\n",
    "\n",
    "- Esta rede será do tipo bridge, que é o mais utilizado;\n",
    "\n",
    "- Podemos criar diversas redes"
   ]
  },
  {
   "cell_type": "code",
   "execution_count": 2,
   "metadata": {},
   "outputs": [
    {
     "name": "stdout",
     "output_type": "stream",
     "text": [
      "1dd21d8919f9e4a7980e2a27188fd91e000f9a96a406134a52e2943e7a7e84fc\n"
     ]
    }
   ],
   "source": [
    "! docker network create rede-manual"
   ]
  },
  {
   "cell_type": "code",
   "execution_count": 3,
   "metadata": {},
   "outputs": [
    {
     "name": "stdout",
     "output_type": "stream",
     "text": [
      "NETWORK ID     NAME                          DRIVER    SCOPE\n",
      "db83cc9843e9   bridge                        bridge    local\n",
      "43002a0cebb8   emsoutlierpredictor_default   bridge    local\n",
      "1cfbd8b25862   host                          host      local\n",
      "2ae37ceb6410   lifetest-api_default          bridge    local\n",
      "72f85eb5c733   none                          null      local\n",
      "1dd21d8919f9   rede-manual                   bridge    local\n"
     ]
    }
   ],
   "source": [
    "! docker network ls"
   ]
  },
  {
   "cell_type": "code",
   "execution_count": 4,
   "metadata": {},
   "outputs": [
    {
     "name": "stdout",
     "output_type": "stream",
     "text": [
      "96159929a577d68c06f90bc073cf81dfd5cf9e095878cfb2b76f1c6c87640900\n"
     ]
    }
   ],
   "source": [
    "! docker network create -d macvlan rede-macvlan"
   ]
  },
  {
   "cell_type": "code",
   "execution_count": 5,
   "metadata": {},
   "outputs": [
    {
     "name": "stdout",
     "output_type": "stream",
     "text": [
      "NETWORK ID     NAME                          DRIVER    SCOPE\n",
      "db83cc9843e9   bridge                        bridge    local\n",
      "43002a0cebb8   emsoutlierpredictor_default   bridge    local\n",
      "1cfbd8b25862   host                          host      local\n",
      "2ae37ceb6410   lifetest-api_default          bridge    local\n",
      "72f85eb5c733   none                          null      local\n",
      "96159929a577   rede-macvlan                  macvlan   local\n",
      "1dd21d8919f9   rede-manual                   bridge    local\n"
     ]
    }
   ],
   "source": [
    "! docker network ls"
   ]
  },
  {
   "cell_type": "markdown",
   "metadata": {},
   "source": [
    "<b>Removendo redes</b>\n",
    "\n",
    "- Podemos remover redes de forma simples também: ```docker network rm <nome>```;\n",
    "\n",
    "- Assim a rede não estará mais disponível para utilizarmos;\n",
    "\n",
    "- Devemos tomar cuidado com containers já conectados;"
   ]
  },
  {
   "cell_type": "code",
   "execution_count": 6,
   "metadata": {},
   "outputs": [
    {
     "name": "stdout",
     "output_type": "stream",
     "text": [
      "rede-macvlan\n"
     ]
    }
   ],
   "source": [
    "! docker network rm rede-macvlan"
   ]
  },
  {
   "cell_type": "code",
   "execution_count": 7,
   "metadata": {},
   "outputs": [
    {
     "name": "stdout",
     "output_type": "stream",
     "text": [
      "NETWORK ID     NAME                          DRIVER    SCOPE\n",
      "db83cc9843e9   bridge                        bridge    local\n",
      "43002a0cebb8   emsoutlierpredictor_default   bridge    local\n",
      "1cfbd8b25862   host                          host      local\n",
      "2ae37ceb6410   lifetest-api_default          bridge    local\n",
      "72f85eb5c733   none                          null      local\n",
      "1dd21d8919f9   rede-manual                   bridge    local\n"
     ]
    }
   ],
   "source": [
    "! docker network ls"
   ]
  },
  {
   "cell_type": "markdown",
   "metadata": {},
   "source": [
    "<b>Removendo redes em massa</b>\n",
    "\n",
    "- Podemos remover redes de forma simples também: ```docker network prune```;\n",
    "\n",
    "- Assim todas as redes não utilizadas no momento serão removidas;\n",
    "\n",
    "- Receberemos uma mensagem de confirmação do Docker antes da ação ser executada;"
   ]
  },
  {
   "cell_type": "code",
   "execution_count": 9,
   "metadata": {},
   "outputs": [
    {
     "name": "stdout",
     "output_type": "stream",
     "text": [
      "Deleted Networks:\n",
      "lifetest-api_default\n",
      "rede-manual\n",
      "\n"
     ]
    }
   ],
   "source": [
    "! docker network prune -f"
   ]
  },
  {
   "cell_type": "markdown",
   "metadata": {},
   "source": [
    "<b>Instalação do Postman</b>\n",
    "\n",
    "- Vamos criar uma API para testar a conexão entre containers;\n",
    "\n",
    "- Para isso vamos utilizar o software Postman, que é o mais utilizado do mercado para desenvolvimento de APIs;\n",
    "\n",
    "- Link: https://www.postman.com/"
   ]
  },
  {
   "cell_type": "markdown",
   "metadata": {},
   "source": [
    "<b>Conexão externa</b>\n",
    "\n",
    "- Os containers podem se conectar livremente ao mundo externo;\n",
    "\n",
    "- Um caso seria: uma API de código aberto;\n",
    "\n",
    "- Podemos acessá-la livremente e utilizar seus dados;\n",
    "\n",
    "- Vamos testar!"
   ]
  },
  {
   "cell_type": "markdown",
   "metadata": {},
   "source": [
    "<b>Criando o arquivo Docker</b>"
   ]
  },
  {
   "cell_type": "markdown",
   "metadata": {},
   "source": [
    "```Dockerfile\n",
    "FROM python:3\n",
    "\n",
    "RUN apt-get update -y && \\\n",
    "  apt-get install -y python3-pip python3-dev\n",
    "\n",
    "WORKDIR /app\n",
    "\n",
    "RUN pip install Flask\n",
    "RUN pip install requests\n",
    "\n",
    "COPY . .\n",
    "\n",
    "EXPOSE 5000\n",
    "\n",
    "CMD [\"python\", \"./app.py\"]\n",
    "\n",
    "```"
   ]
  },
  {
   "cell_type": "markdown",
   "metadata": {},
   "source": [
    "<b>Criando o arquivo Python</b>"
   ]
  },
  {
   "cell_type": "markdown",
   "metadata": {},
   "source": [
    "```python\n",
    "import flask\n",
    "from flask import request, json, jsonify\n",
    "import requests\n",
    "\n",
    "app = flask.Flask(__name__)\n",
    "app.config[\"DEBUG\"] = True\n",
    "\n",
    "@app.route(\"/\", methods=[\"GET\"])\n",
    "def index():\n",
    "  data = requests.get('https://randomuser.me/api')\n",
    "  return data.json()\n",
    "\n",
    "if __name__ == \"__main__\":\n",
    "  app.run(host=\"0.0.0.0\", debug=True, port=\"5000\")\n",
    "\n",
    "```"
   ]
  },
  {
   "cell_type": "code",
   "execution_count": null,
   "metadata": {},
   "outputs": [],
   "source": [
    "! docker build -t bruiglesias/flask-image ."
   ]
  },
  {
   "cell_type": "code",
   "execution_count": 10,
   "metadata": {},
   "outputs": [
    {
     "name": "stdout",
     "output_type": "stream",
     "text": [
      "826ef2a25bfd0c4842a66a124697e733d493888e1aac27935a75db9aaad3d510\n"
     ]
    }
   ],
   "source": [
    "! docker run -d -p 5000:5000 --rm --name flask-container bruiglesias/flask-image"
   ]
  },
  {
   "cell_type": "code",
   "execution_count": 11,
   "metadata": {},
   "outputs": [
    {
     "name": "stdout",
     "output_type": "stream",
     "text": [
      "CONTAINER ID   IMAGE                                        COMMAND                  CREATED          STATUS                 PORTS                                       NAMES\n",
      "826ef2a25bfd   bruiglesias/flask-image                      \"python ./app.py\"        25 seconds ago   Up 24 seconds          0.0.0.0:5000->5000/tcp, :::5000->5000/tcp   flask-container\n",
      "49edf471047e   extending_airflow:latest                     \"/usr/bin/dumb-init …\"   3 hours ago      Up 3 hours (healthy)   0.0.0.0:8080->8080/tcp, :::8080->8080/tcp   emsoutlierpredictor-airflow-webserver-1\n",
      "9c15868999a6   extending_airflow:latest                     \"/usr/bin/dumb-init …\"   3 hours ago      Up 3 hours             8080/tcp                                    emsoutlierpredictor-airflow-scheduler-1\n",
      "2bb8a1667a31   postgres:13                                  \"docker-entrypoint.s…\"   3 hours ago      Up 3 hours (healthy)   0.0.0.0:5432->5432/tcp, :::5432->5432/tcp   emsoutlierpredictor-postgres-1\n",
      "62f5afc30660   mcr.microsoft.com/mssql/server:2022-latest   \"/opt/mssql/bin/perm…\"   3 hours ago      Up 3 hours             0.0.0.0:1433->1433/tcp, :::1433->1433/tcp   sqlserver\n"
     ]
    }
   ],
   "source": [
    "! docker ps"
   ]
  },
  {
   "cell_type": "markdown",
   "metadata": {},
   "source": [
    "<b>Conexão com o host</b>\n",
    "\n",
    "- Podemos também conectar um container com o host do Docker;\n",
    "\n",
    "- Host é a máquina que está executando o Docker;\n",
    "\n",
    "- Como ip de host utilizamos: host.docker.internal\n",
    "\n",
    "- No caso pode ser a nossa mesmo! =) "
   ]
  },
  {
   "cell_type": "markdown",
   "metadata": {},
   "source": [
    "<b>Criando o arquivo Docker</b>"
   ]
  },
  {
   "cell_type": "markdown",
   "metadata": {},
   "source": [
    "```Dockerfile\n",
    "FROM python:3\n",
    "\n",
    "RUN apt-get update -y && \\\n",
    "  apt-get install -y python3-pip python3-dev\n",
    "\n",
    "WORKDIR /app\n",
    "\n",
    "RUN pip install Flask requests flask_mysqldb\n",
    "\n",
    "COPY . .\n",
    "\n",
    "EXPOSE 5000\n",
    "\n",
    "CMD [\"python\", \"./app.py\"]\n",
    "```"
   ]
  },
  {
   "cell_type": "markdown",
   "metadata": {},
   "source": [
    "<b>Criando o arquivo Python</b>"
   ]
  },
  {
   "cell_type": "markdown",
   "metadata": {},
   "source": [
    "```python\n",
    "import flask\n",
    "from flask import request, json, jsonify\n",
    "import requests\n",
    "import flask_mysqldb\n",
    "from flask_mysqldb import MySQL\n",
    "\n",
    "app = flask.Flask(__name__)\n",
    "app.config[\"DEBUG\"] = True\n",
    "\n",
    "app.config['MYSQL_HOST'] = 'host.docker.internal'\n",
    "app.config['MYSQL_USER'] = 'root'\n",
    "app.config['MYSQL_PASSWORD'] = ''\n",
    "app.config['MYSQL_DB'] = 'flaskdb'\n",
    "\n",
    "mysql = MySQL(app)\n",
    "\n",
    "@app.route(\"/\", methods=[\"GET\"])\n",
    "def index():\n",
    "  data = requests.get('https://randomuser.me/api')\n",
    "  return data.json()\n",
    "\n",
    "@app.route(\"/inserthost\", methods=['POST'])\n",
    "def inserthost():\n",
    "  data = requests.get('https://randomuser.me/api').json()\n",
    "  username = data['results'][0]['name']['first']\n",
    "\n",
    "  cur = mysql.connection.cursor()\n",
    "  cur.execute(\"\"\"INSERT INTO users(name) VALUES(%s)\"\"\", (username,))\n",
    "  mysql.connection.commit()\n",
    "  cur.close()\n",
    "\n",
    "  return username\n",
    "\n",
    "if __name__ == \"__main__\":\n",
    "  app.run(host=\"0.0.0.0\", debug=True, port=\"5000\")\n",
    "\n",
    "```"
   ]
  },
  {
   "cell_type": "code",
   "execution_count": null,
   "metadata": {},
   "outputs": [],
   "source": [
    "! docker build -t bruiglesias/flask-image ."
   ]
  },
  {
   "cell_type": "code",
   "execution_count": null,
   "metadata": {},
   "outputs": [],
   "source": [
    "! docker run -d -p 5000:5000 --rm --name flask-container bruiglesias/flask-image"
   ]
  },
  {
   "cell_type": "markdown",
   "metadata": {},
   "source": [
    "<b>Conexão entre containers</b>\n",
    "\n",
    "- Podemos também estabelecer uma conexão entre containers;\n",
    "\n",
    "- Duas imagens distintas rodando em containers separados que precisam se conectar para inserir um dado no banco, por exemplo;\n",
    "\n",
    "- Vamos precisar de uma rede bridge, para fazer esta conexão;\n",
    "\n",
    "- Agora nosso container de flask vai inserir dados em um MySQL que roda pelo Docker também;"
   ]
  },
  {
   "cell_type": "markdown",
   "metadata": {},
   "source": [
    "<b>Criando o arquivo Docker</b>"
   ]
  },
  {
   "cell_type": "markdown",
   "metadata": {},
   "source": [
    "```Dockerfile\n",
    "FROM mysql:5.7\n",
    "\n",
    "COPY schema.sql /docker-entrypoint-initdb.d/\n",
    "\n",
    "EXPOSE 3306\n",
    "\n",
    "VOLUME [\"/backup/\"]\n",
    "```"
   ]
  },
  {
   "cell_type": "markdown",
   "metadata": {},
   "source": [
    "<b>Criando o arquivo SQL</b>"
   ]
  },
  {
   "cell_type": "markdown",
   "metadata": {},
   "source": [
    "```sql\n",
    "CREATE DATABASE flaskdb;\n",
    "\n",
    "USE flaskdb;\n",
    "\n",
    "CREATE TABLE `flaskdb`.`users` (\n",
    "  `id` INT NOT NULL AUTO_INCREMENT,\n",
    "  `name` VARCHAR(255),\n",
    "  PRIMARY KEY (ID));\n",
    "\n",
    "```"
   ]
  },
  {
   "cell_type": "markdown",
   "metadata": {},
   "source": [
    "<b>Criando o arquivo Python</b>"
   ]
  },
  {
   "cell_type": "markdown",
   "metadata": {},
   "source": [
    "```python\n",
    "import flask\n",
    "from flask import request, json, jsonify\n",
    "import requests\n",
    "import flask_mysqldb\n",
    "from flask_mysqldb import MySQL\n",
    "\n",
    "app = flask.Flask(__name__)\n",
    "app.config[\"DEBUG\"] = True\n",
    "\n",
    "app.config['MYSQL_HOST'] = 'mysql-container'\n",
    "app.config['MYSQL_USER'] = 'root'\n",
    "app.config['MYSQL_PASSWORD'] = ''\n",
    "app.config['MYSQL_DB'] = 'flaskdb'\n",
    "\n",
    "mysql = MySQL(app)\n",
    "\n",
    "@app.route(\"/\", methods=[\"GET\"])\n",
    "def index():\n",
    "  data = requests.get('https://randomuser.me/api')\n",
    "  return data.json()\n",
    "\n",
    "@app.route(\"/inserthost\", methods=['POST'])\n",
    "def inserthost():\n",
    "  data = requests.get('https://randomuser.me/api').json()\n",
    "  username = data['results'][0]['name']['first']\n",
    "\n",
    "  cur = mysql.connection.cursor()\n",
    "  cur.execute(\"\"\"INSERT INTO users(name) VALUES(%s)\"\"\", (username,))\n",
    "  mysql.connection.commit()\n",
    "  cur.close()\n",
    "\n",
    "  return username\n",
    "\n",
    "if __name__ == \"__main__\":\n",
    "  app.run(host=\"0.0.0.0\", debug=True, port=\"5000\")\n",
    "  ```"
   ]
  },
  {
   "cell_type": "markdown",
   "metadata": {},
   "source": [
    "! docker build -t bruiglesias/mysql-image ."
   ]
  },
  {
   "cell_type": "code",
   "execution_count": null,
   "metadata": {},
   "outputs": [],
   "source": [
    "! docker run -d -p 3306:3306 --name mysql-container --rm --network flask-network -e MYSQL_ALLOW_EMPTY_PASSWORD=True bruiglesias/mysql-image"
   ]
  },
  {
   "cell_type": "code",
   "execution_count": null,
   "metadata": {},
   "outputs": [],
   "source": [
    "! docker build -t bruiglesias/flask-image ."
   ]
  },
  {
   "cell_type": "code",
   "execution_count": null,
   "metadata": {},
   "outputs": [],
   "source": [
    "! docker run -d -p 5000:5000 --name flask-container --rm --network flask-network bruiglesias/flask-image"
   ]
  },
  {
   "cell_type": "markdown",
   "metadata": {},
   "source": [
    "<b>Conectar container</b>\n",
    "\n",
    "- Podemos conectar um container a uma rede;\n",
    "\n",
    "- Vamos utilizar o comando ```docker network connect <rede> <container>```\n",
    "\n",
    "- Após o comando o container estará dentro da rede! "
   ]
  },
  {
   "cell_type": "code",
   "execution_count": null,
   "metadata": {},
   "outputs": [],
   "source": [
    "! docker network connect flask-network flask-container"
   ]
  },
  {
   "cell_type": "markdown",
   "metadata": {},
   "source": [
    "<b>Desconectar container</b>\n",
    "\n",
    "- Podemos desconectar um container a uma rede também;\n",
    "\n",
    "- Vamos utilizar o comando ```docker network disconnect <rede> <container>```\n",
    "\n",
    "- Após o comando o container estará fora da rede!"
   ]
  },
  {
   "cell_type": "code",
   "execution_count": null,
   "metadata": {},
   "outputs": [],
   "source": [
    "! docker network disconnect flask-network flask-container"
   ]
  },
  {
   "cell_type": "markdown",
   "metadata": {},
   "source": [
    "\n",
    "<b>Inspecionando redes</b>\n",
    "\n",
    "- Podemos analisar os detalhes de uma rede com o comando: ```docker network inspect <nome>```\n",
    "\n",
    "- Vamos receber informações como: data de criação, driver, nome e muito mais!"
   ]
  },
  {
   "cell_type": "code",
   "execution_count": null,
   "metadata": {},
   "outputs": [],
   "source": [
    "! docker network inspect flask-network"
   ]
  }
 ],
 "metadata": {
  "kernelspec": {
   "display_name": "docker-env",
   "language": "python",
   "name": "python3"
  },
  "language_info": {
   "codemirror_mode": {
    "name": "ipython",
    "version": 3
   },
   "file_extension": ".py",
   "mimetype": "text/x-python",
   "name": "python",
   "nbconvert_exporter": "python",
   "pygments_lexer": "ipython3",
   "version": "3.12.3"
  }
 },
 "nbformat": 4,
 "nbformat_minor": 2
}
