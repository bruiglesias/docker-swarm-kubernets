{
 "cells": [
  {
   "cell_type": "markdown",
   "metadata": {},
   "source": [
    "### YAML"
   ]
  },
  {
   "cell_type": "markdown",
   "metadata": {},
   "source": [
    "<b>O que é YAML?</b>\n",
    "\n",
    "- Uma linguagem de serialização, seu nome é YAML ain’t Markup Language (YAML não é uma linguagem de marcação);\n",
    "\n",
    "- Usada geralmente para arquivos de configuração, inclusive do Docker, para configurar o Docker Compose;\n",
    "\n",
    "- É de fácil leitura para nós humanos;\n",
    "\n",
    "- A extensão dos arquivos é yml ou yaml;\n"
   ]
  },
  {
   "cell_type": "markdown",
   "metadata": {},
   "source": [
    "<b>Vamos criar nosso arquivo YAML</b>\n",
    "\n",
    "- O arquivo .yaml geralmente possui chaves e valores;\n",
    "\n",
    "- Que é de onde vamos retirar as configurações do nosso sistema;\n",
    "\n",
    "- Para definir uma chave apenas inserimos o nome dela, em seguida colocamos dois pontos e depois o valor;\n",
    "\n",
    "- Vamos criar nosso primeiro arquivo YAML!\n"
   ]
  },
  {
   "cell_type": "markdown",
   "metadata": {},
   "source": [
    "<b>Criando um arquivo python</b>"
   ]
  },
  {
   "cell_type": "markdown",
   "metadata": {},
   "source": [
    "```python\n",
    "import yaml\n",
    "\n",
    "if __name__ == '__main__':\n",
    "\n",
    "  stream = open(\"arquivo.yaml\", \"r\")\n",
    "\n",
    "  dictionary = yaml.safe_load(stream)\n",
    "\n",
    "  for key, value in dictionary.items():\n",
    "    print(key + \" : \" + str(value))\n",
    "```"
   ]
  },
  {
   "cell_type": "markdown",
   "metadata": {},
   "source": [
    "<b>Criando um arquivo yaml</b>"
   ]
  },
  {
   "cell_type": "markdown",
   "metadata": {},
   "source": [
    "```yaml\n",
    "nome: \"Bruno\"\n",
    "idade: 30\n",
    "```"
   ]
  },
  {
   "cell_type": "markdown",
   "metadata": {},
   "source": [
    "<b>Espaçamento e indentação</b>\n",
    "\n",
    "- O fim de uma linha indica o fim de uma instrução, não há ponto e vírgula;\n",
    "\n",
    "- A indentação deve conter um ou mais espaços, e não devemos utilizar\n",
    "tab;\n",
    "\n",
    "- E cada uma define um novo bloco;\n",
    "\n",
    "- O espaço é obrigatório após a declaração da chave;\n",
    "\n",
    "- Vamos ver na prática!"
   ]
  },
  {
   "cell_type": "markdown",
   "metadata": {},
   "source": [
    "``` yaml\n",
    "nome: \"Bruno\"\n",
    "idade: 30\n",
    "\n",
    "objeto:\n",
    "  versao: 3\n",
    "  arquivo: \"arquivo.yaml\"\n",
    "```"
   ]
  },
  {
   "cell_type": "markdown",
   "metadata": {},
   "source": [
    "<b>Comentários</b>\n",
    "\n",
    "- Podemos escrever comentários em YAML também, utilizando o símbolo ```#```;\n",
    "\n",
    "- O processador de YAML ignora comentários;\n",
    "\n",
    "- Eles são úteis para escrever como o arquivo funciona/foi configurado; "
   ]
  },
  {
   "cell_type": "markdown",
   "metadata": {},
   "source": [
    "```yaml\n",
    "nome: \"Bruno\"\n",
    "idade: 30\n",
    "\n",
    "# Este objeto descreve o projeto\n",
    "objeto:\n",
    "  versao: 3\n",
    "  arquivo: \"arquivo.yaml\"\n",
    "```"
   ]
  },
  {
   "cell_type": "markdown",
   "metadata": {},
   "source": [
    "<b>Dados numéricos</b>\n",
    "\n",
    "- Em YAML podemos escrever dados numéricos com:\n",
    "\n",
    "- ```Inteiros = 12 ```;\n",
    "\n",
    "- ```Floats = 15.8 ```;"
   ]
  },
  {
   "cell_type": "markdown",
   "metadata": {},
   "source": [
    "```yaml\n",
    "nome: \"Bruno\"\n",
    "idade: 30\n",
    "\n",
    "# Este objeto descreve o projeto\n",
    "objeto:\n",
    "  versao: 3\n",
    "  arquivo: \"arquivo.yaml\"\n",
    "\n",
    "versao: 2\n",
    "versao_completa: 3.14\n",
    "\n",
    "```"
   ]
  },
  {
   "cell_type": "markdown",
   "metadata": {},
   "source": [
    "<b>Strings</b>\n",
    "\n",
    "- Em YAML podemos escrever textos de duas formas:\n",
    "\n",
    "- ```Sem aspas```: este é um texto válido\n",
    "\n",
    "- ```Com aspas```: “e este também”\n"
   ]
  },
  {
   "cell_type": "markdown",
   "metadata": {},
   "source": [
    "```yaml\n",
    "nome: \"Bruno\"\n",
    "idade: 30\n",
    "\n",
    "# Este objeto descreve o projeto\n",
    "objeto:\n",
    "  versao: 3\n",
    "  arquivo: \"arquivo.yaml\"\n",
    "\n",
    "versao: 2\n",
    "versao_completa: 3.14\n",
    "\n",
    "string_sem_aspas: Digite um texto aqui\n",
    "texto: \"Este tambem e um texto valido para o YAML\"\n",
    "```"
   ]
  },
  {
   "cell_type": "markdown",
   "metadata": {},
   "source": [
    "<b>Dados nulos</b>\n",
    "\n",
    "- Em YAML podemos definir um dado como nulo de duas formas:\n",
    "- ```~``` ou ```null```\n",
    "- Os dois vão resultar em None, após a interpretação"
   ]
  },
  {
   "cell_type": "markdown",
   "metadata": {},
   "source": [
    "```yaml\n",
    "nome: \"Bruno\"\n",
    "idade: 30\n",
    "\n",
    "# Este objeto descreve o projeto\n",
    "objeto:\n",
    "  versao: 3\n",
    "  arquivo: \"arquivo.yaml\"\n",
    "\n",
    "versao: 2\n",
    "versao_completa: 3.14\n",
    "\n",
    "string_sem_aspas: Digite um texto aqui\n",
    "texto: \"Este tambem e um texto valido para o YAML\"\n",
    "\n",
    "nulo: ~\n",
    "nulo_dois: null\n",
    "```"
   ]
  },
  {
   "cell_type": "markdown",
   "metadata": {},
   "source": [
    "<b>Booleanos</b>\n",
    "\n",
    "- Podemos inserir booleanos em YAML da seguinte forma:\n",
    "- ```True``` e ```On = verdadeiro```;\n",
    "- ```False``` e ```Off = falso```;"
   ]
  },
  {
   "cell_type": "markdown",
   "metadata": {},
   "source": [
    "```yaml\n",
    "nome: \"Bruno\"\n",
    "idade: 30\n",
    "\n",
    "# Este objeto descreve o projeto\n",
    "objeto:\n",
    "  versao: 3\n",
    "  arquivo: \"arquivo.yaml\"\n",
    "\n",
    "versao: 2\n",
    "versao_completa: 3.14\n",
    "\n",
    "string_sem_aspas: Digite um texto aqui\n",
    "texto: \"Este tambem e um texto valido para o YAML\"\n",
    "\n",
    "nulo: ~\n",
    "nulo_dois: null\n",
    "\n",
    "verdadeiro: True\n",
    "verdadeiro_dois: On\n",
    "\n",
    "falso: False\n",
    "falso_dois: Off\n",
    "```"
   ]
  },
  {
   "cell_type": "markdown",
   "metadata": {},
   "source": [
    "<b>Arrays</b>\n",
    "\n",
    "- Os arrays, tipos de dados para listas, possuem duas sintaxes:\n",
    "\n",
    "```\n",
    "Primeira: [1, 2, 3, 4, 5]\n",
    "```\n",
    "```\n",
    "Segunda:\n",
    "  items:\n",
    "    -1\n",
    "    -2\n",
    "    -3\n",
    "```"
   ]
  },
  {
   "cell_type": "markdown",
   "metadata": {},
   "source": [
    "```yaml\n",
    "nome: \"Bruno\"\n",
    "idade: 30\n",
    "\n",
    "# Este objeto descreve o projeto\n",
    "objeto:\n",
    "  versao: 3\n",
    "  arquivo: \"arquivo.yaml\"\n",
    "\n",
    "versao: 2\n",
    "versao_completa: 3.14\n",
    "\n",
    "string_sem_aspas: Digite um texto aqui\n",
    "texto: \"Este tambem e um texto valido para o YAML\"\n",
    "\n",
    "nulo: ~\n",
    "nulo_dois: null\n",
    "\n",
    "verdadeiro: True\n",
    "verdadeiro_dois: On\n",
    "\n",
    "falso: False\n",
    "falso_dois: Off\n",
    "\n",
    "lista: [1, 2, 3, 4, 5]\n",
    "\n",
    "lista_dois:\n",
    "  - \"teste\"\n",
    "  - 10\n",
    "  - outro teste\n",
    "  - True\n",
    "\n",
    "```"
   ]
  },
  {
   "cell_type": "markdown",
   "metadata": {},
   "source": [
    "<b>Dicionários</b>\n",
    "\n",
    "- Os dicionários, tipo de dados para objetos ou listas com chaves e valores,\n",
    "podem ser escritos assim:\n",
    "\n",
    "```\n",
    "obj: {a: 1, b: 2, c: 3}\n",
    "```\n",
    "\n",
    "- E também com o nesting:\n",
    "```\n",
    "objeto:\n",
    "  chave: 1\n",
    "  chave: 2\n",
    "```"
   ]
  },
  {
   "cell_type": "markdown",
   "metadata": {},
   "source": [
    "```yaml\n",
    "nome: \"Bruno\"\n",
    "idade: 30\n",
    "\n",
    "# Este objeto descreve o projeto\n",
    "objeto:\n",
    "  versao: 3\n",
    "  arquivo: \"arquivo.yaml\"\n",
    "\n",
    "versao: 2\n",
    "versao_completa: 3.14\n",
    "\n",
    "string_sem_aspas: Digite um texto aqui\n",
    "texto: \"Este tambem e um texto valido para o YAML\"\n",
    "\n",
    "nulo: ~\n",
    "nulo_dois: null\n",
    "\n",
    "verdadeiro: True\n",
    "verdadeiro_dois: On\n",
    "\n",
    "falso: False\n",
    "falso_dois: Off\n",
    "\n",
    "lista: [1, 2, 3, 4, 5]\n",
    "\n",
    "lista_dois:\n",
    "  - \"teste\"\n",
    "  - 10\n",
    "  - outro teste\n",
    "  - True\n",
    "\n",
    "obj: {a: 1, b: 2, c: 3, objeto_interno: {a: 1}}\n",
    "\n",
    "objeto:\n",
    "  a: 1\n",
    "  b: 2\n",
    "  objeto_interno:\n",
    "    x: 2\n",
    "```"
   ]
  }
 ],
 "metadata": {
  "kernelspec": {
   "display_name": "docker-env",
   "language": "python",
   "name": "python3"
  },
  "language_info": {
   "codemirror_mode": {
    "name": "ipython",
    "version": 3
   },
   "file_extension": ".py",
   "mimetype": "text/x-python",
   "name": "python",
   "nbconvert_exporter": "python",
   "pygments_lexer": "ipython3",
   "version": "3.12.3"
  }
 },
 "nbformat": 4,
 "nbformat_minor": 2
}
