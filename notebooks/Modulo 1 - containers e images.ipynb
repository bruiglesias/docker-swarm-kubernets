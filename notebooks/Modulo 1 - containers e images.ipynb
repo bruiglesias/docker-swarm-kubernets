{
 "cells": [
  {
   "cell_type": "markdown",
   "metadata": {},
   "source": [
    "### Docker"
   ]
  },
  {
   "cell_type": "markdown",
   "metadata": {},
   "source": [
    "<b>O que é Docker?</b>\n",
    "\n",
    "- O Docker é um software que reduz a complexidade de setup de aplicações;\n",
    "\n",
    "- Onde configuramos containers, que são como servidores para rodar nossas aplicações;\n",
    "\n",
    "- Com facilidade, podemos criar ambientes independentes e que funcionam em diversos SO’s;\n",
    "\n",
    "- E ainda deixa os projetos performáticos;"
   ]
  },
  {
   "cell_type": "markdown",
   "metadata": {},
   "source": [
    "<b>Por quê Docker?</b>\n",
    "\n",
    "- O Docker proporciona mais velocidade na configuração do ambiente de um dev;\n",
    "\n",
    "- Pouco tempo gasto em manutenção, containers são executados como configurados;\n",
    "\n",
    "- Performance para executar aplicação, mais performático que uma VM;\n",
    "\n",
    "- Nos livra da Matrix from Hell;"
   ]
  },
  {
   "cell_type": "markdown",
   "metadata": {},
   "source": [
    "<b>Qual versão utilizar?</b>\n",
    "\n",
    "- O Docker é dividido em duas versões: CE x EE\n",
    "\n",
    "- CE é a Community Edition, edição gratuita, que nos possibilita utilizar o Docker normalmente, é a que vamos optar;\n",
    "\n",
    "- EE é a Enterprise Edition, edição paga, há uma garantia maior das versões que são disponibilizadas e você tem suporte do time do Docker;"
   ]
  },
  {
   "cell_type": "markdown",
   "metadata": {},
   "source": [
    "<b>Instalação Linux</b>\n",
    "\n",
    "- Para Linux vamos precisar escolher a versão baseada em nossa distribuição;\n",
    "\n",
    "- Vamos precisar executar comandos no terminal, seguindo a documentação;\n",
    "\n",
    "- Desta maneira teremos o Docker disponível;"
   ]
  },
  {
   "cell_type": "code",
   "execution_count": 4,
   "metadata": {},
   "outputs": [
    {
     "name": "stdout",
     "output_type": "stream",
     "text": [
      "Docker version 27.3.1, build ce12230\n"
     ]
    }
   ],
   "source": [
    "! docker --version"
   ]
  },
  {
   "cell_type": "code",
   "execution_count": 5,
   "metadata": {},
   "outputs": [
    {
     "name": "stdout",
     "output_type": "stream",
     "text": [
      "CONTAINER ID   IMAGE     COMMAND   CREATED   STATUS    PORTS     NAMES\n"
     ]
    }
   ],
   "source": [
    "! docker ps"
   ]
  },
  {
   "cell_type": "markdown",
   "metadata": {},
   "source": [
    "<b>Problemas de instalação</b>\n",
    "\n",
    "- Caso você ainda não conseguiu instalar, por algum erro ou incompatibilidade visite o site: https://docs.docker.com/get-docker/\n",
    "\n",
    "- Nele há um guia para cada sistema operacional e também por distribuição de Linux;\n",
    "\n",
    "- Infelizmente ainda não há uma maneira global e única de instalar o Docker;"
   ]
  },
  {
   "cell_type": "markdown",
   "metadata": {},
   "source": [
    "<b>Editor de código do curso</b>\n",
    "\n",
    "- Neste curso vamos utilizar o VS Code;\n",
    "\n",
    "- Ele possui um terminal integrado, o que ajuda muito a trabalhar com o Docker;\n",
    "\n",
    "- Além de ser, provavelmente, o mais utilizado em empresas atualmente;\n",
    "\n",
    "- Obs: é opcional;"
   ]
  },
  {
   "cell_type": "markdown",
   "metadata": {},
   "source": [
    "<b>Extensão Docker do VS Code</b>\n",
    "\n",
    "- A extensão de Docker no VS Code vai ajudar a criar código para arquivos de Docker no editor;\n",
    "\n",
    "- Esta extensão sugere código (auto complete) e também trás um highlight que ajuda a programar arquivos Docker;\n",
    "\n",
    "- Vamos escrever nossas imagens com ajuda dela e do VS Code;"
   ]
  },
  {
   "cell_type": "markdown",
   "metadata": {},
   "source": [
    "<b>Testando o Docker!</b>\n",
    "\n",
    "- Vamos testar o Docker utilizando uma imagem real;\n",
    "\n",
    "- Para rodar containers utilizamos o comando ```docker run```;\n",
    "\n",
    "- Neste comando podemos passar diversos parâmetros;\n",
    "\n",
    "- Neste exemplo vamos passar apenas o nome da imagem que é ```docker/whalesay```\n",
    "\n",
    "- Um comando chamado cowsay e uma mensagem;"
   ]
  },
  {
   "cell_type": "code",
   "execution_count": 2,
   "metadata": {},
   "outputs": [
    {
     "name": "stdout",
     "output_type": "stream",
     "text": [
      "\n",
      "Hello from Docker!\n",
      "This message shows that your installation appears to be working correctly.\n",
      "\n",
      "To generate this message, Docker took the following steps:\n",
      " 1. The Docker client contacted the Docker daemon.\n",
      " 2. The Docker daemon pulled the \"hello-world\" image from the Docker Hub.\n",
      "    (amd64)\n",
      " 3. The Docker daemon created a new container from that image which runs the\n",
      "    executable that produces the output you are currently reading.\n",
      " 4. The Docker daemon streamed that output to the Docker client, which sent it\n",
      "    to your terminal.\n",
      "\n",
      "To try something more ambitious, you can run an Ubuntu container with:\n",
      " $ docker run -it ubuntu bash\n",
      "\n",
      "Share images, automate workflows, and more with a free Docker ID:\n",
      " https://hub.docker.com/\n",
      "\n",
      "For more examples and ideas, visit:\n",
      " https://docs.docker.com/get-started/\n",
      "\n"
     ]
    }
   ],
   "source": [
    "! docker run hello-world"
   ]
  },
  {
   "cell_type": "markdown",
   "metadata": {},
   "source": [
    "### Containers"
   ]
  },
  {
   "cell_type": "markdown",
   "metadata": {},
   "source": [
    "<b>Container x Imagem</b>\n",
    "\n",
    "- Imagem e Container são recursos fundamentais do Docker;\n",
    "\n",
    "- Imagem é o “projeto” que será executado pelo container, todas as instruções estarão declaradas nela;\n",
    "\n",
    "- Container é o Docker rodando alguma imagem, consequentemente executando algum código proposto por ela;\n",
    "\n",
    "- O fluxo é: programamos uma imagem e a executamos por meio de um container;"
   ]
  },
  {
   "cell_type": "markdown",
   "metadata": {},
   "source": [
    "<b>Onde encontrar imagens?</b>\n",
    "\n",
    "- Vamos encontrar imagens no repositório do Docker: https://hub.docker.com\n",
    "\n",
    "- Neste site podemos verificar quais as imagens existem da tecnologia que estamos procurando, por exemplo: ```Node.js```;\n",
    "\n",
    "- E também aprender a como utilizá-las;\n",
    "\n",
    "- Vamos executar uma imagem em um container com o comando: ```docker run <imagem>```"
   ]
  },
  {
   "cell_type": "code",
   "execution_count": 3,
   "metadata": {},
   "outputs": [
    {
     "name": "stdout",
     "output_type": "stream",
     "text": [
      "Unable to find image 'ubuntu:latest' locally\n",
      "latest: Pulling from library/ubuntu\n",
      "\n",
      "\u001b[1B30e59d72: Pull complete .75MB/29.75MBB\u001b[1A\u001b[2K\u001b[1A\u001b[2K\u001b[1A\u001b[2K\u001b[1A\u001b[2K\u001b[1A\u001b[2K\u001b[1A\u001b[2K\u001b[1A\u001b[2K\u001b[1A\u001b[2K\u001b[1A\u001b[2K\u001b[1A\u001b[2K\u001b[1A\u001b[2K\u001b[1A\u001b[2K\u001b[1A\u001b[2K\u001b[1A\u001b[2K\u001b[1A\u001b[2K\u001b[1A\u001b[2K\u001b[1A\u001b[2K\u001b[1A\u001b[2K\u001b[1A\u001b[2K\u001b[1A\u001b[2K\u001b[1A\u001b[2K\u001b[1A\u001b[2K\u001b[1A\u001b[2K\u001b[1A\u001b[2K\u001b[1A\u001b[2K\u001b[1A\u001b[2K\u001b[1A\u001b[2K\u001b[1A\u001b[2K\u001b[1A\u001b[2K\u001b[1A\u001b[2K\u001b[1A\u001b[2K\u001b[1A\u001b[2K\u001b[1A\u001b[2K\u001b[1A\u001b[2K\u001b[1A\u001b[2K\u001b[1A\u001b[2K\u001b[1A\u001b[2K\u001b[1A\u001b[2K\u001b[1A\u001b[2K\u001b[1A\u001b[2K\u001b[1A\u001b[2K\u001b[1A\u001b[2K\u001b[1A\u001b[2K\u001b[1A\u001b[2K\u001b[1A\u001b[2K\u001b[1A\u001b[2K\u001b[1A\u001b[2K\u001b[1A\u001b[2K\u001b[1A\u001b[2K\u001b[1A\u001b[2K\u001b[1A\u001b[2K\u001b[1A\u001b[2K\u001b[1A\u001b[2K\u001b[1A\u001b[2K\u001b[1A\u001b[2K\u001b[1A\u001b[2K\u001b[1A\u001b[2K\u001b[1A\u001b[2K\u001b[1A\u001b[2K\u001b[1A\u001b[2K\u001b[1A\u001b[2K\u001b[1A\u001b[2K\u001b[1A\u001b[2K\u001b[1A\u001b[2K\u001b[1A\u001b[2KDigest: sha256:278628f08d4979fb9af9ead44277dbc9c92c2465922310916ad0c46ec9999295\n",
      "Status: Downloaded newer image for ubuntu:latest\n"
     ]
    }
   ],
   "source": [
    "! docker run ubuntu:latest"
   ]
  },
  {
   "cell_type": "code",
   "execution_count": null,
   "metadata": {},
   "outputs": [],
   "source": [
    "! docker run -it ubuntu:latest"
   ]
  },
  {
   "cell_type": "markdown",
   "metadata": {},
   "source": [
    "<b>Verificar containers executados</b>\n",
    "\n",
    "- O comando  ```docker ps ``` ou  ```docker container ls ``` exibe quais containers estão sendo executados no momento;\n",
    "\n",
    "- Utilizando a ```flag -a```, temos também todos os containers já executados na máquina;\n",
    "\n",
    "- Este comando é útil para entender o que está sendo executado e acontece no nosso ambiente;"
   ]
  },
  {
   "cell_type": "code",
   "execution_count": 4,
   "metadata": {},
   "outputs": [
    {
     "name": "stdout",
     "output_type": "stream",
     "text": [
      "CONTAINER ID   IMAGE     COMMAND   CREATED   STATUS    PORTS     NAMES\n"
     ]
    }
   ],
   "source": [
    "! docker ps"
   ]
  },
  {
   "cell_type": "code",
   "execution_count": 5,
   "metadata": {},
   "outputs": [
    {
     "name": "stdout",
     "output_type": "stream",
     "text": [
      "CONTAINER ID   IMAGE           COMMAND       CREATED              STATUS                          PORTS     NAMES\n",
      "ad51b97f404d   ubuntu:latest   \"/bin/bash\"   About a minute ago   Exited (0) About a minute ago             keen_thompson\n",
      "528d67478491   hello-world     \"/hello\"      24 minutes ago       Exited (0) 24 minutes ago                 gracious_villani\n",
      "c82a1c8010f3   hello-world     \"/hello\"      38 hours ago         Exited (0) 38 hours ago                   angry_dijkstra\n"
     ]
    }
   ],
   "source": [
    "! docker ps -a"
   ]
  },
  {
   "cell_type": "markdown",
   "metadata": {},
   "source": [
    "<b>Executar container com interação</b>\n",
    "\n",
    "- Podemos rodar um container e deixá-lo executando no terminal;\n",
    "\n",
    "- Vamos utilizar a ```flag -it```;\n",
    "\n",
    "- Desta maneira podemos executar comandos disponíveis no container que estamos utilizando o comando ```run```;\n",
    "\n",
    "- Podemos utilizar a imagem do ubuntu para isso!"
   ]
  },
  {
   "cell_type": "code",
   "execution_count": null,
   "metadata": {},
   "outputs": [],
   "source": [
    "! docker run -it node"
   ]
  },
  {
   "cell_type": "markdown",
   "metadata": {},
   "source": [
    "<b>Container X VM (Virtual Machine)</b>\n",
    "\n",
    "- Container é uma aplicação que serve para um determinado fim, não possui sistema operacional, seu tamanho é de alguns mbs;\n",
    "\n",
    "- VM possui sistema operacional próprio, tamanho de gbs, pode executar diversas funções ao mesmo tempo;\n",
    "\n",
    "- Containers acabam gastando menos recursos para serem executados, por causa do seu uso específico;\n",
    "\n",
    "- VMs gastam mais recursos, porém podem exercer mais funções;"
   ]
  },
  {
   "cell_type": "markdown",
   "metadata": {},
   "source": [
    "<b>Executar container em background</b>\n",
    "\n",
    "- Quando iniciamos um container que persiste, ele fica ocupando o terminal;\n",
    "\n",
    "- Podemos executar um container em background, para não precisar ficar com diversas abas de terminal aberto, utilizamos a ```flag -d``` (detached);\n",
    "\n",
    "- Verificamos containers em background com docker ps também;\n",
    "\n",
    "- Podemos utilizar o nginx para este exemplo!"
   ]
  },
  {
   "cell_type": "code",
   "execution_count": 6,
   "metadata": {},
   "outputs": [
    {
     "name": "stdout",
     "output_type": "stream",
     "text": [
      "5887c947a2a6512f692357b33ebd048921a7ef1b409c9639f50f375d22bac334\n"
     ]
    }
   ],
   "source": [
    "! docker run -d nginx"
   ]
  },
  {
   "cell_type": "code",
   "execution_count": 7,
   "metadata": {},
   "outputs": [
    {
     "name": "stdout",
     "output_type": "stream",
     "text": [
      "CONTAINER ID   IMAGE     COMMAND                  CREATED          STATUS          PORTS     NAMES\n",
      "5887c947a2a6   nginx     \"/docker-entrypoint.…\"   28 seconds ago   Up 28 seconds   80/tcp    stupefied_meitner\n"
     ]
    }
   ],
   "source": [
    "! docker ps"
   ]
  },
  {
   "cell_type": "code",
   "execution_count": 8,
   "metadata": {},
   "outputs": [
    {
     "name": "stdout",
     "output_type": "stream",
     "text": [
      "5887c947a2a6\n"
     ]
    }
   ],
   "source": [
    "! docker stop 5887c947a2a6"
   ]
  },
  {
   "cell_type": "code",
   "execution_count": 9,
   "metadata": {},
   "outputs": [
    {
     "name": "stdout",
     "output_type": "stream",
     "text": [
      "CONTAINER ID   IMAGE     COMMAND   CREATED   STATUS    PORTS     NAMES\n"
     ]
    }
   ],
   "source": [
    "! docker ps"
   ]
  },
  {
   "cell_type": "markdown",
   "metadata": {},
   "source": [
    "<b>Expor portas</b>\n",
    "\n",
    "- Os containers de docker não tem conexão com nada de fora deles;\n",
    "\n",
    "- Por isso precisamos expor portas, a flag é a ```-p``` e podemos fazer assim: ```-p 80:80```;\n",
    "\n",
    "- Desta maneira o container estará acessível na ```porta 80```;\n",
    "\n",
    "- Podemos testar este exemplo com o nginx!"
   ]
  },
  {
   "cell_type": "code",
   "execution_count": 10,
   "metadata": {},
   "outputs": [
    {
     "name": "stdout",
     "output_type": "stream",
     "text": [
      "809618730d99f09f2f537966af9c4a5c3130c17ed7d04e1738b3e3e85b67b7ff\n"
     ]
    }
   ],
   "source": [
    "! docker run -d -p 80:80 nginx"
   ]
  },
  {
   "cell_type": "code",
   "execution_count": 11,
   "metadata": {},
   "outputs": [
    {
     "name": "stdout",
     "output_type": "stream",
     "text": [
      "CONTAINER ID   IMAGE     COMMAND                  CREATED         STATUS         PORTS                               NAMES\n",
      "809618730d99   nginx     \"/docker-entrypoint.…\"   5 seconds ago   Up 5 seconds   0.0.0.0:80->80/tcp, :::80->80/tcp   gallant_gould\n"
     ]
    }
   ],
   "source": [
    "! docker ps"
   ]
  },
  {
   "cell_type": "markdown",
   "metadata": {},
   "source": [
    "<b>Parando containers</b>\n",
    "\n",
    "- Podemos parar um container com o comando ```docker stop <id ou nome>```;\n",
    "\n",
    "- Desta maneira estaremos liberando recursos que estão sendo gastos pelo mesmo;\n",
    "\n",
    "- Podemos verificar os containers rodando com o comando ```docker ps ```"
   ]
  },
  {
   "cell_type": "code",
   "execution_count": null,
   "metadata": {},
   "outputs": [
    {
     "name": "stdout",
     "output_type": "stream",
     "text": [
      "809618730d99\n"
     ]
    }
   ],
   "source": [
    "! docker stop 809618730d99"
   ]
  },
  {
   "cell_type": "code",
   "execution_count": 13,
   "metadata": {},
   "outputs": [
    {
     "name": "stdout",
     "output_type": "stream",
     "text": [
      "CONTAINER ID   IMAGE     COMMAND   CREATED   STATUS    PORTS     NAMES\n"
     ]
    }
   ],
   "source": [
    "! docker ps"
   ]
  },
  {
   "cell_type": "markdown",
   "metadata": {},
   "source": [
    "<b>Hack para execução de comandos</b>\n",
    "\n",
    "- Podemos utilizar qualquer comando que necessite um id de um container ou imagem com apenas seus 3 primeiros dígitos;\n",
    "\n",
    "- ```docker stop a2b```;\n",
    "\n",
    "- O Docker é inteligente o suficiente para entender essa abreviação;\n",
    "\n",
    "- E ele tenta ao máximo criar ids únicos;"
   ]
  },
  {
   "cell_type": "markdown",
   "metadata": {},
   "source": [
    "<b>Iniciando container</b>\n",
    "\n",
    "- Aprendemos já a parar um container com o ```stop```, para voltar a rodar um container podemos usar o comando ```docker start <id>```;\n",
    "\n",
    "- Lembre-se que o ```run``` sempre cria um novo container;\n",
    "\n",
    "- Então caso seja necessário aproveitar um antigo, opte pelo ```start```;"
   ]
  },
  {
   "cell_type": "code",
   "execution_count": 14,
   "metadata": {},
   "outputs": [
    {
     "name": "stdout",
     "output_type": "stream",
     "text": [
      "809618730d99\n"
     ]
    }
   ],
   "source": [
    "! docker start 809618730d99"
   ]
  },
  {
   "cell_type": "code",
   "execution_count": 15,
   "metadata": {},
   "outputs": [
    {
     "name": "stdout",
     "output_type": "stream",
     "text": [
      "CONTAINER ID   IMAGE     COMMAND                  CREATED          STATUS         PORTS                               NAMES\n",
      "809618730d99   nginx     \"/docker-entrypoint.…\"   22 minutes ago   Up 5 seconds   0.0.0.0:80->80/tcp, :::80->80/tcp   gallant_gould\n"
     ]
    }
   ],
   "source": [
    "! docker ps"
   ]
  },
  {
   "cell_type": "code",
   "execution_count": 16,
   "metadata": {},
   "outputs": [
    {
     "name": "stdout",
     "output_type": "stream",
     "text": [
      "809618730d99\n"
     ]
    }
   ],
   "source": [
    "! docker stop 809618730d99"
   ]
  },
  {
   "cell_type": "markdown",
   "metadata": {},
   "source": [
    "<b>Definindo nome do container</b>\n",
    "\n",
    "- Podemos definir um nome do container com a ```flag --name```;\n",
    "\n",
    "- Se não colocamos, recebemos um nome aleatório, o que pode ser um problema para uma aplicação profissional;\n",
    "\n",
    "- A flag ```run``` é inserida junto do comando ```run```;"
   ]
  },
  {
   "cell_type": "code",
   "execution_count": 17,
   "metadata": {},
   "outputs": [
    {
     "name": "stdout",
     "output_type": "stream",
     "text": [
      "92a98bc8d2e2ae44091d555cb9fc3edf8e03ca8ce17fdc18f09d5d281dc6fea6\n"
     ]
    }
   ],
   "source": [
    "! docker run -d -p 80:80 --name nginx-container nginx"
   ]
  },
  {
   "cell_type": "code",
   "execution_count": 18,
   "metadata": {},
   "outputs": [
    {
     "name": "stdout",
     "output_type": "stream",
     "text": [
      "CONTAINER ID   IMAGE     COMMAND                  CREATED         STATUS         PORTS                               NAMES\n",
      "92a98bc8d2e2   nginx     \"/docker-entrypoint.…\"   7 seconds ago   Up 6 seconds   0.0.0.0:80->80/tcp, :::80->80/tcp   nginx-container\n"
     ]
    }
   ],
   "source": [
    "! docker ps"
   ]
  },
  {
   "cell_type": "code",
   "execution_count": 19,
   "metadata": {},
   "outputs": [
    {
     "name": "stdout",
     "output_type": "stream",
     "text": [
      "nginx-container\n"
     ]
    }
   ],
   "source": [
    "! docker stop nginx-container"
   ]
  },
  {
   "cell_type": "markdown",
   "metadata": {},
   "source": [
    "<b>Verificando os logs</b>\n",
    "\n",
    "- Podemos verificar o que aconteceu em um container com o comando ```logs```;\n",
    "\n",
    "- Utilizamos da seguinte maneira: ```docker logs <id>```\n",
    "\n",
    "- As últimas ações realizadas no container, serão exibidas no terminal;"
   ]
  },
  {
   "cell_type": "code",
   "execution_count": 20,
   "metadata": {},
   "outputs": [
    {
     "name": "stdout",
     "output_type": "stream",
     "text": [
      "/docker-entrypoint.sh: /docker-entrypoint.d/ is not empty, will attempt to perform configuration\n",
      "/docker-entrypoint.sh: Looking for shell scripts in /docker-entrypoint.d/\n",
      "/docker-entrypoint.sh: Launching /docker-entrypoint.d/10-listen-on-ipv6-by-default.sh\n",
      "10-listen-on-ipv6-by-default.sh: info: Getting the checksum of /etc/nginx/conf.d/default.conf\n",
      "10-listen-on-ipv6-by-default.sh: info: Enabled listen on IPv6 in /etc/nginx/conf.d/default.conf\n",
      "/docker-entrypoint.sh: Sourcing /docker-entrypoint.d/15-local-resolvers.envsh\n",
      "/docker-entrypoint.sh: Launching /docker-entrypoint.d/20-envsubst-on-templates.sh\n",
      "/docker-entrypoint.sh: Launching /docker-entrypoint.d/30-tune-worker-processes.sh\n",
      "/docker-entrypoint.sh: Configuration complete; ready for start up\n",
      "2024/11/24 00:26:33 [notice] 1#1: using the \"epoll\" event method\n",
      "2024/11/24 00:26:33 [notice] 1#1: nginx/1.27.2\n",
      "2024/11/24 00:26:33 [notice] 1#1: built by gcc 12.2.0 (Debian 12.2.0-14) \n",
      "2024/11/24 00:26:33 [notice] 1#1: OS: Linux 6.8.0-49-generic\n",
      "2024/11/24 00:26:33 [notice] 1#1: getrlimit(RLIMIT_NOFILE): 1048576:1048576\n",
      "2024/11/24 00:26:33 [notice] 1#1: start worker processes\n",
      "2024/11/24 00:26:33 [notice] 1#1: start worker process 28\n",
      "2024/11/24 00:26:33 [notice] 1#1: start worker process 29\n",
      "2024/11/24 00:26:33 [notice] 1#1: start worker process 30\n",
      "2024/11/24 00:26:33 [notice] 1#1: start worker process 31\n",
      "2024/11/24 00:26:33 [notice] 1#1: start worker process 32\n",
      "2024/11/24 00:26:33 [notice] 1#1: start worker process 33\n",
      "2024/11/24 00:26:33 [notice] 1#1: start worker process 34\n",
      "2024/11/24 00:26:33 [notice] 1#1: start worker process 35\n",
      "2024/11/24 00:26:33 [notice] 1#1: start worker process 36\n",
      "2024/11/24 00:26:33 [notice] 1#1: start worker process 37\n",
      "2024/11/24 00:26:33 [notice] 1#1: start worker process 38\n",
      "2024/11/24 00:26:33 [notice] 1#1: start worker process 39\n",
      "2024/11/24 00:26:33 [notice] 1#1: start worker process 40\n",
      "2024/11/24 00:26:33 [notice] 1#1: start worker process 41\n",
      "2024/11/24 00:26:33 [notice] 1#1: start worker process 42\n",
      "2024/11/24 00:26:33 [notice] 1#1: start worker process 43\n",
      "2024/11/24 00:27:15 [notice] 1#1: signal 3 (SIGQUIT) received, shutting down\n",
      "2024/11/24 00:27:15 [notice] 28#28: gracefully shutting down\n",
      "2024/11/24 00:27:15 [notice] 30#30: gracefully shutting down\n",
      "2024/11/24 00:27:15 [notice] 29#29: gracefully shutting down\n",
      "2024/11/24 00:27:15 [notice] 32#32: gracefully shutting down\n",
      "2024/11/24 00:27:15 [notice] 31#31: gracefully shutting down\n",
      "2024/11/24 00:27:15 [notice] 33#33: gracefully shutting down\n",
      "2024/11/24 00:27:15 [notice] 34#34: gracefully shutting down\n",
      "2024/11/24 00:27:15 [notice] 35#35: gracefully shutting down\n",
      "2024/11/24 00:27:15 [notice] 36#36: gracefully shutting down\n",
      "2024/11/24 00:27:15 [notice] 30#30: exiting\n",
      "2024/11/24 00:27:15 [notice] 29#29: exiting\n",
      "2024/11/24 00:27:15 [notice] 28#28: exiting\n",
      "2024/11/24 00:27:15 [notice] 31#31: exiting\n",
      "2024/11/24 00:27:15 [notice] 32#32: exiting\n",
      "2024/11/24 00:27:15 [notice] 37#37: gracefully shutting down\n",
      "2024/11/24 00:27:15 [notice] 39#39: gracefully shutting down\n",
      "2024/11/24 00:27:15 [notice] 33#33: exiting\n",
      "2024/11/24 00:27:15 [notice] 34#34: exiting\n",
      "2024/11/24 00:27:15 [notice] 36#36: exiting\n",
      "2024/11/24 00:27:15 [notice] 35#35: exiting\n",
      "2024/11/24 00:27:15 [notice] 39#39: exiting\n",
      "2024/11/24 00:27:15 [notice] 37#37: exiting\n",
      "2024/11/24 00:27:15 [notice] 42#42: gracefully shutting down\n",
      "2024/11/24 00:27:15 [notice] 43#43: gracefully shutting down\n",
      "2024/11/24 00:27:15 [notice] 42#42: exiting\n",
      "2024/11/24 00:27:15 [notice] 36#36: exit\n",
      "2024/11/24 00:27:15 [notice] 35#35: exit\n",
      "2024/11/24 00:27:15 [notice] 28#28: exit\n",
      "2024/11/24 00:27:15 [notice] 32#32: exit\n",
      "2024/11/24 00:27:15 [notice] 34#34: exit\n",
      "2024/11/24 00:27:15 [notice] 43#43: exiting\n",
      "2024/11/24 00:27:15 [notice] 33#33: exit\n",
      "2024/11/24 00:27:15 [notice] 29#29: exit\n",
      "2024/11/24 00:27:15 [notice] 30#30: exit\n",
      "2024/11/24 00:27:15 [notice] 31#31: exit\n",
      "2024/11/24 00:27:15 [notice] 39#39: exit\n",
      "2024/11/24 00:27:15 [notice] 37#37: exit\n",
      "2024/11/24 00:27:15 [notice] 42#42: exit\n",
      "2024/11/24 00:27:15 [notice] 43#43: exit\n",
      "2024/11/24 00:27:15 [notice] 40#40: gracefully shutting down\n",
      "2024/11/24 00:27:15 [notice] 40#40: exiting\n",
      "2024/11/24 00:27:15 [notice] 40#40: exit\n",
      "2024/11/24 00:27:15 [notice] 41#41: gracefully shutting down\n",
      "2024/11/24 00:27:15 [notice] 41#41: exiting\n",
      "2024/11/24 00:27:15 [notice] 38#38: gracefully shutting down\n",
      "2024/11/24 00:27:15 [notice] 41#41: exit\n",
      "2024/11/24 00:27:15 [notice] 38#38: exiting\n",
      "2024/11/24 00:27:15 [notice] 38#38: exit\n",
      "2024/11/24 00:27:15 [notice] 1#1: signal 17 (SIGCHLD) received from 36\n",
      "2024/11/24 00:27:15 [notice] 1#1: worker process 31 exited with code 0\n",
      "2024/11/24 00:27:15 [notice] 1#1: worker process 36 exited with code 0\n",
      "2024/11/24 00:27:15 [notice] 1#1: worker process 42 exited with code 0\n",
      "2024/11/24 00:27:15 [notice] 1#1: signal 29 (SIGIO) received\n",
      "2024/11/24 00:27:15 [notice] 1#1: signal 17 (SIGCHLD) received from 31\n",
      "2024/11/24 00:27:15 [notice] 1#1: signal 17 (SIGCHLD) received from 40\n",
      "2024/11/24 00:27:15 [notice] 1#1: worker process 40 exited with code 0\n",
      "2024/11/24 00:27:15 [notice] 1#1: signal 29 (SIGIO) received\n",
      "2024/11/24 00:27:15 [notice] 1#1: signal 17 (SIGCHLD) received from 32\n",
      "2024/11/24 00:27:15 [notice] 1#1: worker process 32 exited with code 0\n",
      "2024/11/24 00:27:15 [notice] 1#1: signal 29 (SIGIO) received\n",
      "2024/11/24 00:27:15 [notice] 1#1: signal 17 (SIGCHLD) received from 33\n",
      "2024/11/24 00:27:15 [notice] 1#1: worker process 33 exited with code 0\n",
      "2024/11/24 00:27:15 [notice] 1#1: signal 29 (SIGIO) received\n",
      "2024/11/24 00:27:15 [notice] 1#1: signal 17 (SIGCHLD) received from 35\n",
      "2024/11/24 00:27:15 [notice] 1#1: worker process 35 exited with code 0\n",
      "2024/11/24 00:27:15 [notice] 1#1: signal 29 (SIGIO) received\n",
      "2024/11/24 00:27:15 [notice] 1#1: signal 17 (SIGCHLD) received from 41\n",
      "2024/11/24 00:27:15 [notice] 1#1: worker process 41 exited with code 0\n",
      "2024/11/24 00:27:15 [notice] 1#1: signal 29 (SIGIO) received\n",
      "2024/11/24 00:27:15 [notice] 1#1: signal 17 (SIGCHLD) received from 29\n",
      "2024/11/24 00:27:15 [notice] 1#1: worker process 29 exited with code 0\n",
      "2024/11/24 00:27:15 [notice] 1#1: signal 29 (SIGIO) received\n",
      "2024/11/24 00:27:15 [notice] 1#1: signal 17 (SIGCHLD) received from 37\n",
      "2024/11/24 00:27:15 [notice] 1#1: worker process 37 exited with code 0\n",
      "2024/11/24 00:27:15 [notice] 1#1: worker process 38 exited with code 0\n",
      "2024/11/24 00:27:15 [notice] 1#1: signal 29 (SIGIO) received\n",
      "2024/11/24 00:27:15 [notice] 1#1: signal 17 (SIGCHLD) received from 28\n",
      "2024/11/24 00:27:15 [notice] 1#1: worker process 28 exited with code 0\n",
      "2024/11/24 00:27:15 [notice] 1#1: worker process 34 exited with code 0\n",
      "2024/11/24 00:27:15 [notice] 1#1: signal 29 (SIGIO) received\n",
      "2024/11/24 00:27:15 [notice] 1#1: signal 17 (SIGCHLD) received from 34\n",
      "2024/11/24 00:27:15 [notice] 1#1: worker process 43 exited with code 0\n",
      "2024/11/24 00:27:15 [notice] 1#1: signal 29 (SIGIO) received\n",
      "2024/11/24 00:27:15 [notice] 1#1: signal 17 (SIGCHLD) received from 30\n",
      "2024/11/24 00:27:15 [notice] 1#1: worker process 30 exited with code 0\n",
      "2024/11/24 00:27:15 [notice] 1#1: signal 29 (SIGIO) received\n",
      "2024/11/24 00:27:15 [notice] 1#1: signal 17 (SIGCHLD) received from 39\n",
      "2024/11/24 00:27:15 [notice] 1#1: worker process 39 exited with code 0\n",
      "2024/11/24 00:27:15 [notice] 1#1: exit\n"
     ]
    }
   ],
   "source": [
    "! docker logs nginx-container"
   ]
  },
  {
   "cell_type": "markdown",
   "metadata": {},
   "source": [
    "<b>Removendo containers</b>\n",
    "\n",
    "- Podemos remover um container da máquina que estamos executando o Docker;\n",
    "\n",
    "- O comando é ```docker -rm <id>```;\n",
    "\n",
    "- Se o container estiver rodando ainda, podemos utilizar a ```flag -f``` (force);\n",
    "\n",
    "- O container removido não é mais listado em ```docker ps -a```;"
   ]
  },
  {
   "cell_type": "code",
   "execution_count": 25,
   "metadata": {},
   "outputs": [
    {
     "name": "stdout",
     "output_type": "stream",
     "text": [
      "CONTAINER ID   IMAGE           COMMAND                  CREATED             STATUS                         PORTS     NAMES\n",
      "92a98bc8d2e2   nginx           \"/docker-entrypoint.…\"   5 minutes ago       Exited (0) 4 minutes ago                 nginx-container\n",
      "809618730d99   nginx           \"/docker-entrypoint.…\"   30 minutes ago      Exited (0) 7 minutes ago                 gallant_gould\n",
      "5887c947a2a6   nginx           \"/docker-entrypoint.…\"   33 minutes ago      Exited (0) 32 minutes ago                stupefied_meitner\n",
      "879cf135e6e0   nginx           \"/docker-entrypoint.…\"   33 minutes ago      Exited (0) 33 minutes ago                heuristic_moser\n",
      "ad51b97f404d   ubuntu:latest   \"/bin/bash\"              49 minutes ago      Exited (0) 49 minutes ago                keen_thompson\n",
      "528d67478491   hello-world     \"/hello\"                 About an hour ago   Exited (0) About an hour ago             gracious_villani\n"
     ]
    }
   ],
   "source": [
    "! docker ps -a"
   ]
  },
  {
   "cell_type": "code",
   "execution_count": 26,
   "metadata": {},
   "outputs": [
    {
     "name": "stdout",
     "output_type": "stream",
     "text": [
      "528d67478491\n",
      "ad51b97f404d\n",
      "879cf135e6e0\n",
      "5887c947a2a6\n",
      "809618730d99\n"
     ]
    }
   ],
   "source": [
    "! docker rm -f 528d67478491 ad51b97f404d 879cf135e6e0 5887c947a2a6 809618730d99"
   ]
  },
  {
   "cell_type": "code",
   "execution_count": 27,
   "metadata": {},
   "outputs": [
    {
     "name": "stdout",
     "output_type": "stream",
     "text": [
      "CONTAINER ID   IMAGE     COMMAND                  CREATED         STATUS                     PORTS     NAMES\n",
      "92a98bc8d2e2   nginx     \"/docker-entrypoint.…\"   5 minutes ago   Exited (0) 4 minutes ago             nginx-container\n"
     ]
    }
   ],
   "source": [
    "! docker ps -a"
   ]
  },
  {
   "cell_type": "markdown",
   "metadata": {},
   "source": [
    "### Containers e imagens"
   ]
  },
  {
   "cell_type": "markdown",
   "metadata": {},
   "source": [
    "<b>O que são imagens?</b>\n",
    "\n",
    "- Imagens são originadas de arquivos que programamos para que o Docker crie uma estrutura que execute determinadas ações emcontainers;\n",
    "\n",
    "- Elas contém informações como: imagens base, diretório base, comandos a serem executados, porta da aplicação e etc;\n",
    "\n",
    "- Ao rodar um container baseado na imagem, as instruções serão executadas em camadas;"
   ]
  },
  {
   "cell_type": "markdown",
   "metadata": {},
   "source": [
    "<b>Como escolher uma boa imagem</b>\n",
    "\n",
    "- Podemos fazer download das imagens em: https://hub.docker.com;\n",
    "\n",
    "- Porém qualquer um pode fazer upload de uma imagem, isso é um problema;\n",
    "\n",
    "- Devemos então nos atentar as imagens oficiais;\n",
    "\n",
    "- Outro parâmetro interessante é a quantidade de downloads e a quantidade de stars;"
   ]
  },
  {
   "cell_type": "code",
   "execution_count": null,
   "metadata": {},
   "outputs": [
    {
     "name": "stdout",
     "output_type": "stream",
     "text": [
      "Unable to find image 'httpd:latest' locally\n",
      "latest: Pulling from library/httpd\n",
      "\n",
      "\u001b[1B9b9e73a6: Already exists \n",
      "\u001b[1Bed392a91: Pulling fs layer \n",
      "\u001b[1Bb700ef54: Pulling fs layer \n",
      "\u001b[1Bd9182dde: Pulling fs layer \n",
      "\u001b[1B038102c9: Pulling fs layer \n",
      "\u001b[1BDigest: sha256:6bdbdf5ac16ac3d6ef543a693fd5dfafae2428b4b0cdc52a480166603a069136\u001b[2K\u001b[3A\u001b[2K\u001b[3A\u001b[2K\u001b[3A\u001b[2K\u001b[3A\u001b[2K\u001b[3A\u001b[2K\u001b[3A\u001b[2K\u001b[3A\u001b[2K\u001b[3A\u001b[2K\u001b[3A\u001b[2K\u001b[3A\u001b[2K\u001b[3A\u001b[2K\u001b[2A\u001b[2K\u001b[1A\u001b[2K\u001b[2A\u001b[2K\u001b[2A\u001b[2K\u001b[2A\u001b[2K\u001b[2A\u001b[2K\u001b[2A\u001b[2K\u001b[2A\u001b[2K\u001b[2A\u001b[2K\u001b[2A\u001b[2K\u001b[2A\u001b[2K\u001b[2A\u001b[2K\u001b[2A\u001b[2K\u001b[2A\u001b[2K\u001b[2A\u001b[2K\u001b[2A\u001b[2K\u001b[2A\u001b[2K\u001b[2A\u001b[2K\u001b[2A\u001b[2K\u001b[2A\u001b[2K\u001b[2A\u001b[2K\u001b[2A\u001b[2K\u001b[2A\u001b[2K\u001b[2A\u001b[2K\u001b[2A\u001b[2K\u001b[2A\u001b[2K\u001b[2A\u001b[2K\u001b[2A\u001b[2K\u001b[2A\u001b[2K\u001b[2A\u001b[2K\u001b[2A\u001b[2K\u001b[2A\u001b[2K\u001b[2A\u001b[2K\u001b[2A\u001b[2K\u001b[2A\u001b[2K\u001b[2A\u001b[2K\u001b[2A\u001b[2K\u001b[2A\u001b[2K\u001b[2A\u001b[2K\u001b[2A\u001b[2K\u001b[2A\u001b[2K\u001b[2A\u001b[2K\u001b[2A\u001b[2K\u001b[2A\u001b[2K\u001b[2A\u001b[2K\u001b[2A\u001b[2K\u001b[2A\u001b[2K\u001b[2A\u001b[2K\u001b[2A\u001b[2K\u001b[2A\u001b[2K\u001b[2A\u001b[2K\u001b[2A\u001b[2K\u001b[2A\u001b[2K\u001b[2A\u001b[2K\u001b[2A\u001b[2K\u001b[2A\u001b[2K\u001b[2A\u001b[2K\u001b[2A\u001b[2K\u001b[2A\u001b[2K\u001b[2A\u001b[2K\u001b[2A\u001b[2K\n",
      "Status: Downloaded newer image for httpd:latest\n",
      "618aad7b1f7dfaa01ba518337dfe13b8b554022a75b7baa4d558103c5c78d38a\n"
     ]
    }
   ],
   "source": [
    "! docker run -d -p 80:80 --name apache-container httpd"
   ]
  },
  {
   "cell_type": "code",
   "execution_count": 29,
   "metadata": {},
   "outputs": [
    {
     "name": "stdout",
     "output_type": "stream",
     "text": [
      "CONTAINER ID   IMAGE     COMMAND              CREATED          STATUS          PORTS                               NAMES\n",
      "618aad7b1f7d   httpd     \"httpd-foreground\"   27 seconds ago   Up 26 seconds   0.0.0.0:80->80/tcp, :::80->80/tcp   apache-container\n"
     ]
    }
   ],
   "source": [
    "!docker ps"
   ]
  },
  {
   "cell_type": "code",
   "execution_count": 30,
   "metadata": {},
   "outputs": [
    {
     "name": "stdout",
     "output_type": "stream",
     "text": [
      "apache-container\n"
     ]
    }
   ],
   "source": [
    "! docker stop apache-container"
   ]
  },
  {
   "cell_type": "markdown",
   "metadata": {},
   "source": [
    "<b>Criando uma imagem</b>\n",
    "\n",
    "- Para criar uma imagem vamos precisar de um arquivo Dockerfile em uma pasta que ficará o projeto;\n",
    "\n",
    "- Este arquivo vai precisar de algumas instruções para poder ser executado;\n",
    "\n",
    "- ```FROM```: imagem base;\n",
    "\n",
    "- ```WORKDIR```: diretório da aplicação;\n",
    "\n",
    "- ```EXPOSE```: porta da aplicação;\n",
    "\n",
    "- ```COPY```: quais arquivos precisam ser copiados;"
   ]
  },
  {
   "cell_type": "markdown",
   "metadata": {},
   "source": [
    "<b>Criando o arquivo app.js</b>"
   ]
  },
  {
   "cell_type": "markdown",
   "metadata": {},
   "source": [
    "```js\n",
    "const express = require('express')\n",
    "const app = express()\n",
    "const port = 3000\n",
    "\n",
    "\n",
    "app.length('/', (req, res) => (\n",
    "    res.send(\"Olá minha imagem\")\n",
    "))\n",
    "\n",
    "\n",
    "app.listen(port, () => {\n",
    "    console.log(`Executando na porta: ${port}`)\n",
    "})\n",
    "```"
   ]
  },
  {
   "cell_type": "markdown",
   "metadata": {},
   "source": [
    "<b>Criando o arquivo Dockerfile</b>"
   ]
  },
  {
   "cell_type": "markdown",
   "metadata": {},
   "source": [
    "```Dockerfile\n",
    "FROM node:latest\n",
    "\n",
    "WORKDIR /app\n",
    "\n",
    "\n",
    "COPY package*.json .\n",
    "\n",
    "\n",
    "RUN npm install\n",
    "\n",
    "\n",
    "COPY . .\n",
    "\n",
    "\n",
    "EXPOSE 3000\n",
    "\n",
    "CMD [ \"node\", \"app.js\" ]\n",
    "\n",
    "```"
   ]
  },
  {
   "cell_type": "markdown",
   "metadata": {},
   "source": [
    "<b>Executando uma imagem</b>\n",
    "\n",
    "- Para executar a imagem primeiramente vamos precisar fazer o build;\n",
    "\n",
    "- O comando é ```docker build <diretório da imagem>```;\n",
    "\n",
    "- Depois vamos utilizar o ```docker run <imagem>``` para executá-la;"
   ]
  },
  {
   "cell_type": "code",
   "execution_count": null,
   "metadata": {},
   "outputs": [],
   "source": [
    "! docker build ."
   ]
  },
  {
   "cell_type": "code",
   "execution_count": 46,
   "metadata": {},
   "outputs": [
    {
     "name": "stdout",
     "output_type": "stream",
     "text": [
      "REPOSITORY    TAG       IMAGE ID       CREATED         SIZE\n",
      "<none>        <none>    80b3f4901d4f   8 seconds ago   1.13GB\n",
      "<none>        <none>    6c554976d898   5 minutes ago   1.13GB\n",
      "ubuntu        latest    fec8bfd95b54   5 weeks ago     78.1MB\n",
      "nginx         latest    60c8a892f36f   7 weeks ago     192MB\n",
      "httpd         latest    dad6ca1caf78   4 months ago    148MB\n",
      "hello-world   latest    d2c94e258dcb   19 months ago   13.3kB\n"
     ]
    }
   ],
   "source": [
    "! docker image ls"
   ]
  },
  {
   "cell_type": "code",
   "execution_count": 47,
   "metadata": {},
   "outputs": [
    {
     "name": "stdout",
     "output_type": "stream",
     "text": [
      "ce3f8bb27e23056d91e6a52d27e79c375b6a4cfd0f0dea07401ec5cf77d646ee\n"
     ]
    }
   ],
   "source": [
    "! docker run -d -p 3000:3000 80b3f4901d4f"
   ]
  },
  {
   "cell_type": "code",
   "execution_count": 52,
   "metadata": {},
   "outputs": [
    {
     "name": "stdout",
     "output_type": "stream",
     "text": [
      "CONTAINER ID   IMAGE     COMMAND   CREATED   STATUS    PORTS     NAMES\n"
     ]
    }
   ],
   "source": [
    "! docker ps"
   ]
  },
  {
   "cell_type": "code",
   "execution_count": null,
   "metadata": {},
   "outputs": [
    {
     "name": "stdout",
     "output_type": "stream",
     "text": [
      "Error response from daemon: No such container: 80b3f4901d4f\n"
     ]
    }
   ],
   "source": [
    "! docker rm -f ce3f8bb27e23"
   ]
  },
  {
   "cell_type": "markdown",
   "metadata": {},
   "source": [
    "<b>Alterando uma imagem</b>\n",
    "\n",
    "- Sempre que alterarmos o código de uma imagem vamos precisar fazer o build novamente;\n",
    "\n",
    "- Para o Docker é como se fosse uma imagem completamente nova;\n",
    "\n",
    "- Após fazer o build vamos executá-la por o outro id único criada com o ```docker run```;"
   ]
  },
  {
   "cell_type": "code",
   "execution_count": null,
   "metadata": {},
   "outputs": [],
   "source": [
    "! docker build ."
   ]
  },
  {
   "cell_type": "code",
   "execution_count": 50,
   "metadata": {},
   "outputs": [
    {
     "name": "stdout",
     "output_type": "stream",
     "text": [
      "REPOSITORY    TAG       IMAGE ID       CREATED          SIZE\n",
      "<none>        <none>    97a359c9af96   23 seconds ago   1.13GB\n",
      "<none>        <none>    80b3f4901d4f   6 minutes ago    1.13GB\n",
      "<none>        <none>    6c554976d898   11 minutes ago   1.13GB\n",
      "ubuntu        latest    fec8bfd95b54   5 weeks ago      78.1MB\n",
      "nginx         latest    60c8a892f36f   7 weeks ago      192MB\n",
      "httpd         latest    dad6ca1caf78   4 months ago     148MB\n",
      "hello-world   latest    d2c94e258dcb   19 months ago    13.3kB\n"
     ]
    }
   ],
   "source": [
    "! docker image ls"
   ]
  },
  {
   "cell_type": "code",
   "execution_count": 53,
   "metadata": {},
   "outputs": [
    {
     "name": "stdout",
     "output_type": "stream",
     "text": [
      "32c319b18db67afbb53c1496e5dbe145acb7e72a7480ad066a053e98f72b56eb\n"
     ]
    }
   ],
   "source": [
    "! docker run -d -p 3000:3000 97a359c9af96"
   ]
  },
  {
   "cell_type": "code",
   "execution_count": 54,
   "metadata": {},
   "outputs": [
    {
     "name": "stdout",
     "output_type": "stream",
     "text": [
      "CONTAINER ID   IMAGE          COMMAND                  CREATED         STATUS         PORTS                                       NAMES\n",
      "32c319b18db6   97a359c9af96   \"docker-entrypoint.s…\"   7 seconds ago   Up 6 seconds   0.0.0.0:3000->3000/tcp, :::3000->3000/tcp   strange_bhaskara\n"
     ]
    }
   ],
   "source": [
    "! docker ps"
   ]
  },
  {
   "cell_type": "code",
   "execution_count": 55,
   "metadata": {},
   "outputs": [
    {
     "name": "stdout",
     "output_type": "stream",
     "text": [
      "32c319b18db6\n"
     ]
    }
   ],
   "source": [
    "! docker rm -f 32c319b18db6 "
   ]
  },
  {
   "cell_type": "markdown",
   "metadata": {},
   "source": [
    "<b>Camadas das imagens</b>\n",
    "\n",
    "- As imagens do Docker são divididas em camadas (layers);\n",
    "\n",
    "- Cada instrução no Dockerfile representa uma layer;\n",
    "\n",
    "- Quando algo é atualizado apenas as layers depois da linha atualizada são refeitas;\n",
    "\n",
    "- O resto permanece em cache, tornando o build mais rápido;"
   ]
  },
  {
   "cell_type": "code",
   "execution_count": null,
   "metadata": {},
   "outputs": [],
   "source": [
    "! docker build ."
   ]
  },
  {
   "cell_type": "code",
   "execution_count": 60,
   "metadata": {},
   "outputs": [
    {
     "name": "stdout",
     "output_type": "stream",
     "text": [
      "7dd1efc2fb6cfa43ca2e080b55f31ca6f140130ffc492c84a0a45eb6943dc9cb\n"
     ]
    }
   ],
   "source": [
    "! docker run -d -p 3000:3000 --name node-container 97a359c9af96 "
   ]
  },
  {
   "cell_type": "code",
   "execution_count": 61,
   "metadata": {},
   "outputs": [
    {
     "name": "stdout",
     "output_type": "stream",
     "text": [
      "CONTAINER ID   IMAGE          COMMAND                  CREATED         STATUS         PORTS                                       NAMES\n",
      "7dd1efc2fb6c   97a359c9af96   \"docker-entrypoint.s…\"   4 seconds ago   Up 4 seconds   0.0.0.0:3000->3000/tcp, :::3000->3000/tcp   node-container\n"
     ]
    }
   ],
   "source": [
    "! docker ps"
   ]
  },
  {
   "cell_type": "markdown",
   "metadata": {},
   "source": [
    "<b>Download de imagens</b>\n",
    "\n",
    "- Podemos fazer o download de alguma imagem do hub e deixá-la disponível em nosso ambiente;\n",
    "\n",
    "- Vamos utilizar o comando ```docker pull <imagem>```;\n",
    "\n",
    "- Desta maneira, caso se use em outro container, a imagem já estará pronta para ser utilizada;"
   ]
  },
  {
   "cell_type": "code",
   "execution_count": 62,
   "metadata": {},
   "outputs": [
    {
     "name": "stdout",
     "output_type": "stream",
     "text": [
      "Using default tag: latest\n",
      "latest: Pulling from library/python\n",
      "\n",
      "\u001b[1B1b28ee3c: Already exists \n",
      "\u001b[1B7b6f0473: Already exists \n",
      "\u001b[1Be5e7c3ff: Already exists \n",
      "\u001b[1B7aac0764: Already exists \n",
      "\u001b[1Bf15f570b: Pulling fs layer \n",
      "\u001b[1Bd670c3ff: Pulling fs layer \n",
      "\u001b[1Bf00b0d2c: Pull complete  248B/248B9MBBA\u001b[2K\u001b[3A\u001b[2K\u001b[2A\u001b[2K\u001b[3A\u001b[2K\u001b[2A\u001b[2K\u001b[3A\u001b[2K\u001b[2A\u001b[2K\u001b[3A\u001b[2K\u001b[2A\u001b[2K\u001b[3A\u001b[2K\u001b[2A\u001b[2K\u001b[3A\u001b[2K\u001b[2A\u001b[2K\u001b[3A\u001b[2K\u001b[2A\u001b[2K\u001b[3A\u001b[2K\u001b[2A\u001b[2K\u001b[3A\u001b[2K\u001b[2A\u001b[2K\u001b[3A\u001b[2K\u001b[2A\u001b[2K\u001b[3A\u001b[2K\u001b[2A\u001b[2K\u001b[3A\u001b[2K\u001b[2A\u001b[2K\u001b[3A\u001b[2K\u001b[2A\u001b[2K\u001b[3A\u001b[2K\u001b[2A\u001b[2K\u001b[2A\u001b[2K\u001b[2A\u001b[2K\u001b[3A\u001b[2K\u001b[2A\u001b[2K\u001b[3A\u001b[2K\u001b[3A\u001b[2K\u001b[2A\u001b[2K\u001b[3A\u001b[2K\u001b[2A\u001b[2K\u001b[3A\u001b[2K\u001b[3A\u001b[2K\u001b[2A\u001b[2K\u001b[2A\u001b[2K\u001b[2A\u001b[2K\u001b[2A\u001b[2K\u001b[2A\u001b[2K\u001b[2A\u001b[2K\u001b[2A\u001b[2K\u001b[2A\u001b[2K\u001b[2A\u001b[2K\u001b[2A\u001b[2K\u001b[2A\u001b[2K\u001b[2A\u001b[2K\u001b[2A\u001b[2K\u001b[2A\u001b[2K\u001b[2A\u001b[2K\u001b[2A\u001b[2K\u001b[2A\u001b[2K\u001b[2A\u001b[2K\u001b[2A\u001b[2K\u001b[2A\u001b[2K\u001b[2A\u001b[2K\u001b[2A\u001b[2K\u001b[2A\u001b[2K\u001b[2A\u001b[2KDigest: sha256:bc78d3c007f86dbb87d711b8b082d9d564b8025487e780d24ccb8581d83ef8b0\n",
      "Status: Downloaded newer image for python:latest\n",
      "docker.io/library/python:latest\n"
     ]
    }
   ],
   "source": [
    "!docker pull python"
   ]
  },
  {
   "cell_type": "markdown",
   "metadata": {},
   "source": [
    "<b>Aprender mais sobre os comandos</b>\n",
    "\n",
    "- Todo comando no docker tem acesso a uma ```flag --help```;\n",
    "\n",
    "- Utilizando desta maneira, podemos ver todas as opções disponíveis nos comandos;\n",
    "\n",
    "- Para relembrar algo ou executar uma tarefa diferente com o mesmo;\n",
    "\n",
    "- Ex: ```docker run --help```;"
   ]
  },
  {
   "cell_type": "code",
   "execution_count": 63,
   "metadata": {},
   "outputs": [
    {
     "name": "stdout",
     "output_type": "stream",
     "text": [
      "\n",
      "Usage:  docker run [OPTIONS] IMAGE [COMMAND] [ARG...]\n",
      "\n",
      "Create and run a new container from an image\n",
      "\n",
      "Aliases:\n",
      "  docker container run, docker run\n",
      "\n",
      "Options:\n",
      "      --add-host list                    Add a custom host-to-IP mapping\n",
      "                                         (host:ip)\n",
      "      --annotation map                   Add an annotation to the\n",
      "                                         container (passed through to the\n",
      "                                         OCI runtime) (default map[])\n",
      "  -a, --attach list                      Attach to STDIN, STDOUT or STDERR\n",
      "      --blkio-weight uint16              Block IO (relative weight),\n",
      "                                         between 10 and 1000, or 0 to\n",
      "                                         disable (default 0)\n",
      "      --blkio-weight-device list         Block IO weight (relative device\n",
      "                                         weight) (default [])\n",
      "      --cap-add list                     Add Linux capabilities\n",
      "      --cap-drop list                    Drop Linux capabilities\n",
      "      --cgroup-parent string             Optional parent cgroup for the\n",
      "                                         container\n",
      "      --cgroupns string                  Cgroup namespace to use\n",
      "                                         (host|private)\n",
      "                                         'host':    Run the container in\n",
      "                                         the Docker host's cgroup\n",
      "                                         namespace\n",
      "                                         'private': Run the container in\n",
      "                                         its own private cgroup namespace\n",
      "                                         '':        Use the cgroup\n",
      "                                         namespace as configured by the\n",
      "                                                    default-cgroupns-mode\n",
      "                                         option on the daemon (default)\n",
      "      --cidfile string                   Write the container ID to the file\n",
      "      --cpu-period int                   Limit CPU CFS (Completely Fair\n",
      "                                         Scheduler) period\n",
      "      --cpu-quota int                    Limit CPU CFS (Completely Fair\n",
      "                                         Scheduler) quota\n",
      "      --cpu-rt-period int                Limit CPU real-time period in\n",
      "                                         microseconds\n",
      "      --cpu-rt-runtime int               Limit CPU real-time runtime in\n",
      "                                         microseconds\n",
      "  -c, --cpu-shares int                   CPU shares (relative weight)\n",
      "      --cpus decimal                     Number of CPUs\n",
      "      --cpuset-cpus string               CPUs in which to allow execution\n",
      "                                         (0-3, 0,1)\n",
      "      --cpuset-mems string               MEMs in which to allow execution\n",
      "                                         (0-3, 0,1)\n",
      "  -d, --detach                           Run container in background and\n",
      "                                         print container ID\n",
      "      --detach-keys string               Override the key sequence for\n",
      "                                         detaching a container\n",
      "      --device list                      Add a host device to the container\n",
      "      --device-cgroup-rule list          Add a rule to the cgroup allowed\n",
      "                                         devices list\n",
      "      --device-read-bps list             Limit read rate (bytes per\n",
      "                                         second) from a device (default [])\n",
      "      --device-read-iops list            Limit read rate (IO per second)\n",
      "                                         from a device (default [])\n",
      "      --device-write-bps list            Limit write rate (bytes per\n",
      "                                         second) to a device (default [])\n",
      "      --device-write-iops list           Limit write rate (IO per second)\n",
      "                                         to a device (default [])\n",
      "      --disable-content-trust            Skip image verification (default\n",
      "                                         true)\n",
      "      --dns list                         Set custom DNS servers\n",
      "      --dns-option list                  Set DNS options\n",
      "      --dns-search list                  Set custom DNS search domains\n",
      "      --domainname string                Container NIS domain name\n",
      "      --entrypoint string                Overwrite the default ENTRYPOINT\n",
      "                                         of the image\n",
      "  -e, --env list                         Set environment variables\n",
      "      --env-file list                    Read in a file of environment\n",
      "                                         variables\n",
      "      --expose list                      Expose a port or a range of ports\n",
      "      --gpus gpu-request                 GPU devices to add to the\n",
      "                                         container ('all' to pass all GPUs)\n",
      "      --group-add list                   Add additional groups to join\n",
      "      --health-cmd string                Command to run to check health\n",
      "      --health-interval duration         Time between running the check\n",
      "                                         (ms|s|m|h) (default 0s)\n",
      "      --health-retries int               Consecutive failures needed to\n",
      "                                         report unhealthy\n",
      "      --health-start-interval duration   Time between running the check\n",
      "                                         during the start period\n",
      "                                         (ms|s|m|h) (default 0s)\n",
      "      --health-start-period duration     Start period for the container\n",
      "                                         to initialize before starting\n",
      "                                         health-retries countdown\n",
      "                                         (ms|s|m|h) (default 0s)\n",
      "      --health-timeout duration          Maximum time to allow one check\n",
      "                                         to run (ms|s|m|h) (default 0s)\n",
      "      --help                             Print usage\n",
      "  -h, --hostname string                  Container host name\n",
      "      --init                             Run an init inside the container\n",
      "                                         that forwards signals and reaps\n",
      "                                         processes\n",
      "  -i, --interactive                      Keep STDIN open even if not attached\n",
      "      --ip string                        IPv4 address (e.g., 172.30.100.104)\n",
      "      --ip6 string                       IPv6 address (e.g., 2001:db8::33)\n",
      "      --ipc string                       IPC mode to use\n",
      "      --isolation string                 Container isolation technology\n",
      "      --kernel-memory bytes              Kernel memory limit\n",
      "  -l, --label list                       Set meta data on a container\n",
      "      --label-file list                  Read in a line delimited file of\n",
      "                                         labels\n",
      "      --link list                        Add link to another container\n",
      "      --link-local-ip list               Container IPv4/IPv6 link-local\n",
      "                                         addresses\n",
      "      --log-driver string                Logging driver for the container\n",
      "      --log-opt list                     Log driver options\n",
      "      --mac-address string               Container MAC address (e.g.,\n",
      "                                         92:d0:c6:0a:29:33)\n",
      "  -m, --memory bytes                     Memory limit\n",
      "      --memory-reservation bytes         Memory soft limit\n",
      "      --memory-swap bytes                Swap limit equal to memory plus\n",
      "                                         swap: '-1' to enable unlimited swap\n",
      "      --memory-swappiness int            Tune container memory swappiness\n",
      "                                         (0 to 100) (default -1)\n",
      "      --mount mount                      Attach a filesystem mount to the\n",
      "                                         container\n",
      "      --name string                      Assign a name to the container\n",
      "      --network network                  Connect a container to a network\n",
      "      --network-alias list               Add network-scoped alias for the\n",
      "                                         container\n",
      "      --no-healthcheck                   Disable any container-specified\n",
      "                                         HEALTHCHECK\n",
      "      --oom-kill-disable                 Disable OOM Killer\n",
      "      --oom-score-adj int                Tune host's OOM preferences\n",
      "                                         (-1000 to 1000)\n",
      "      --pid string                       PID namespace to use\n",
      "      --pids-limit int                   Tune container pids limit (set\n",
      "                                         -1 for unlimited)\n",
      "      --platform string                  Set platform if server is\n",
      "                                         multi-platform capable\n",
      "      --privileged                       Give extended privileges to this\n",
      "                                         container\n",
      "  -p, --publish list                     Publish a container's port(s) to\n",
      "                                         the host\n",
      "  -P, --publish-all                      Publish all exposed ports to\n",
      "                                         random ports\n",
      "      --pull string                      Pull image before running\n",
      "                                         (\"always\", \"missing\", \"never\")\n",
      "                                         (default \"missing\")\n",
      "  -q, --quiet                            Suppress the pull output\n",
      "      --read-only                        Mount the container's root\n",
      "                                         filesystem as read only\n",
      "      --restart string                   Restart policy to apply when a\n",
      "                                         container exits (default \"no\")\n",
      "      --rm                               Automatically remove the\n",
      "                                         container and its associated\n",
      "                                         anonymous volumes when it exits\n",
      "      --runtime string                   Runtime to use for this container\n",
      "      --security-opt list                Security Options\n",
      "      --shm-size bytes                   Size of /dev/shm\n",
      "      --sig-proxy                        Proxy received signals to the\n",
      "                                         process (default true)\n",
      "      --stop-signal string               Signal to stop the container\n",
      "      --stop-timeout int                 Timeout (in seconds) to stop a\n",
      "                                         container\n",
      "      --storage-opt list                 Storage driver options for the\n",
      "                                         container\n",
      "      --sysctl map                       Sysctl options (default map[])\n",
      "      --tmpfs list                       Mount a tmpfs directory\n",
      "  -t, --tty                              Allocate a pseudo-TTY\n",
      "      --ulimit ulimit                    Ulimit options (default [])\n",
      "  -u, --user string                      Username or UID (format:\n",
      "                                         <name|uid>[:<group|gid>])\n",
      "      --userns string                    User namespace to use\n",
      "      --uts string                       UTS namespace to use\n",
      "  -v, --volume list                      Bind mount a volume\n",
      "      --volume-driver string             Optional volume driver for the\n",
      "                                         container\n",
      "      --volumes-from list                Mount volumes from the specified\n",
      "                                         container(s)\n",
      "  -w, --workdir string                   Working directory inside the\n",
      "                                         container\n"
     ]
    }
   ],
   "source": [
    "! docker run --help"
   ]
  },
  {
   "cell_type": "markdown",
   "metadata": {},
   "source": [
    "<b>Múltiplas aplicações, mesmo container</b>\n",
    "\n",
    "- Podemos inicializar vários containers com a mesma imagem;\n",
    "\n",
    "- As aplicações funcionarão em paralelo;\n",
    "\n",
    "- Para testar isso, podemos determinar uma porta diferente para cada uma, e rodar no modo ```detached```;"
   ]
  },
  {
   "cell_type": "code",
   "execution_count": 69,
   "metadata": {},
   "outputs": [
    {
     "name": "stdout",
     "output_type": "stream",
     "text": [
      "CONTAINER ID   IMAGE          COMMAND                  CREATED         STATUS         PORTS                                       NAMES\n",
      "7dd1efc2fb6c   97a359c9af96   \"docker-entrypoint.s…\"   7 minutes ago   Up 7 minutes   0.0.0.0:3000->3000/tcp, :::3000->3000/tcp   node-container\n"
     ]
    }
   ],
   "source": [
    "! docker ps"
   ]
  },
  {
   "cell_type": "code",
   "execution_count": 70,
   "metadata": {},
   "outputs": [
    {
     "name": "stdout",
     "output_type": "stream",
     "text": [
      "849c2930abcd18c89a1f8677c8a7804e94186b4fbb4314da11f1eb3986011096\n"
     ]
    }
   ],
   "source": [
    "! docker run -d -p 3001:3000 --name node-container-2 97a359c9af96 "
   ]
  },
  {
   "cell_type": "code",
   "execution_count": 71,
   "metadata": {},
   "outputs": [
    {
     "name": "stdout",
     "output_type": "stream",
     "text": [
      "fc91a15a2837abbbd5a77d6eeae24b1f8a861d119898804e5771e7f863a08ce8\n"
     ]
    }
   ],
   "source": [
    "! docker run -d -p 3002:3000 --name node-container-3 97a359c9af96 "
   ]
  },
  {
   "cell_type": "code",
   "execution_count": 72,
   "metadata": {},
   "outputs": [
    {
     "name": "stdout",
     "output_type": "stream",
     "text": [
      "CONTAINER ID   IMAGE          COMMAND                  CREATED          STATUS          PORTS                                         NAMES\n",
      "fc91a15a2837   97a359c9af96   \"docker-entrypoint.s…\"   5 seconds ago    Up 5 seconds    0.0.0.0:3002->3000/tcp, [::]:3002->3000/tcp   node-container-3\n",
      "849c2930abcd   97a359c9af96   \"docker-entrypoint.s…\"   41 seconds ago   Up 41 seconds   0.0.0.0:3001->3000/tcp, [::]:3001->3000/tcp   node-container-2\n",
      "7dd1efc2fb6c   97a359c9af96   \"docker-entrypoint.s…\"   8 minutes ago    Up 8 minutes    0.0.0.0:3000->3000/tcp, :::3000->3000/tcp     node-container\n"
     ]
    }
   ],
   "source": [
    "! docker ps"
   ]
  },
  {
   "cell_type": "markdown",
   "metadata": {},
   "source": [
    "<b>Alterando o nome da imagem e tag</b>\n",
    "\n",
    "- Podemos nomear a imagem que criamos;\n",
    "\n",
    "- Vamos utilizar o comando docker ```tag <nome>``` para isso;\n",
    "\n",
    "- Também podemos modificar a tag, que seria como uma versão daimagem, semelhante ao git;\n",
    "\n",
    "- Para inserir a tag utilizamos: ```docker tag <nome>:<tag>```"
   ]
  },
  {
   "cell_type": "code",
   "execution_count": 73,
   "metadata": {},
   "outputs": [],
   "source": [
    "! docker tag 97a359c9af96 bruiglesias/node-image"
   ]
  },
  {
   "cell_type": "code",
   "execution_count": 74,
   "metadata": {},
   "outputs": [
    {
     "name": "stdout",
     "output_type": "stream",
     "text": [
      "REPOSITORY               TAG       IMAGE ID       CREATED          SIZE\n",
      "bruiglesias/node-image   latest    97a359c9af96   17 minutes ago   1.13GB\n",
      "<none>                   <none>    80b3f4901d4f   24 minutes ago   1.13GB\n",
      "<none>                   <none>    6c554976d898   29 minutes ago   1.13GB\n",
      "python                   latest    c41ea8273365   5 weeks ago      1.02GB\n",
      "ubuntu                   latest    fec8bfd95b54   5 weeks ago      78.1MB\n",
      "nginx                    latest    60c8a892f36f   7 weeks ago      192MB\n",
      "httpd                    latest    dad6ca1caf78   4 months ago     148MB\n",
      "hello-world              latest    d2c94e258dcb   19 months ago    13.3kB\n"
     ]
    }
   ],
   "source": [
    "! docker image ls"
   ]
  },
  {
   "cell_type": "markdown",
   "metadata": {},
   "source": [
    "<b>Iniciando imagem com um nome</b>\n",
    "\n",
    "- Podemos nomear a imagem já na sua criação;\n",
    "\n",
    "- Vamos utilizar a ```flag -t```;\n",
    "\n",
    "- É possível inserir o nome e a tag, na sintaxe: ```nome:tag```\n",
    "\n",
    "- Isso torna o processo de nomeação mais simples;"
   ]
  },
  {
   "cell_type": "code",
   "execution_count": null,
   "metadata": {},
   "outputs": [],
   "source": [
    "! docker build -t bruiglesias/node-image ."
   ]
  },
  {
   "cell_type": "markdown",
   "metadata": {},
   "source": [
    "<b>Comando start interativo</b>\n",
    "\n",
    "- A ```flag -i``` pode ser utilizada com o comando start também;\n",
    "\n",
    "- Ou seja, não precisamos criar um novo container para utilizá-lo no terminal;\n",
    "\n",
    "- O comando é: ```docker start -i <container>```"
   ]
  },
  {
   "cell_type": "code",
   "execution_count": null,
   "metadata": {},
   "outputs": [],
   "source": [
    "!docker start -i node-container"
   ]
  },
  {
   "cell_type": "markdown",
   "metadata": {},
   "source": [
    "<b>Removendo imagens</b>\n",
    "\n",
    "- Assim como nos containers, podemos remover imagens com um comando;\n",
    "\n",
    "- Ele é o: ```docker rmi <imagem>```\n",
    "\n",
    "- Imagens que estão sendo utilizadas por um container, apresentarão um erro no terminal;\n",
    "\n",
    "- Podemos utilizar a ```flag -f``` para forçar a remoção;"
   ]
  },
  {
   "cell_type": "code",
   "execution_count": 76,
   "metadata": {},
   "outputs": [
    {
     "name": "stdout",
     "output_type": "stream",
     "text": [
      "REPOSITORY               TAG       IMAGE ID       CREATED          SIZE\n",
      "bruiglesias/node-image   latest    97a359c9af96   27 minutes ago   1.13GB\n",
      "<none>                   <none>    80b3f4901d4f   33 minutes ago   1.13GB\n",
      "<none>                   <none>    6c554976d898   38 minutes ago   1.13GB\n",
      "python                   latest    c41ea8273365   5 weeks ago      1.02GB\n",
      "ubuntu                   latest    fec8bfd95b54   5 weeks ago      78.1MB\n",
      "nginx                    latest    60c8a892f36f   7 weeks ago      192MB\n",
      "httpd                    latest    dad6ca1caf78   4 months ago     148MB\n",
      "hello-world              latest    d2c94e258dcb   19 months ago    13.3kB\n"
     ]
    }
   ],
   "source": [
    "! docker images"
   ]
  },
  {
   "cell_type": "code",
   "execution_count": 77,
   "metadata": {},
   "outputs": [
    {
     "name": "stdout",
     "output_type": "stream",
     "text": [
      "Deleted: sha256:80b3f4901d4f5317fd95cb0b5f739b3cb890e3eb474c3ee490d84481a5c5322a\n",
      "Deleted: sha256:6c554976d89837055422b9985e4914edc5e7fdf0b37abd64da7b67e76ef2e375\n"
     ]
    }
   ],
   "source": [
    "! docker rmi -f 80b3f4901d4f 6c554976d898"
   ]
  },
  {
   "cell_type": "code",
   "execution_count": 78,
   "metadata": {},
   "outputs": [
    {
     "name": "stdout",
     "output_type": "stream",
     "text": [
      "REPOSITORY               TAG       IMAGE ID       CREATED          SIZE\n",
      "bruiglesias/node-image   latest    97a359c9af96   28 minutes ago   1.13GB\n",
      "python                   latest    c41ea8273365   5 weeks ago      1.02GB\n",
      "ubuntu                   latest    fec8bfd95b54   5 weeks ago      78.1MB\n",
      "nginx                    latest    60c8a892f36f   7 weeks ago      192MB\n",
      "httpd                    latest    dad6ca1caf78   4 months ago     148MB\n",
      "hello-world              latest    d2c94e258dcb   19 months ago    13.3kB\n"
     ]
    }
   ],
   "source": [
    "! docker images"
   ]
  },
  {
   "cell_type": "markdown",
   "metadata": {},
   "source": [
    "<b>Removendo imagens e containers</b>\n",
    "\n",
    "- Com o comando ```docker system prune```;\n",
    "\n",
    "- Podemos remover imagens, containers e networks não utilizados;\n",
    "\n",
    "- O sistema irá exigir uma confirmação para realizar a remoção;"
   ]
  },
  {
   "cell_type": "code",
   "execution_count": 79,
   "metadata": {},
   "outputs": [
    {
     "name": "stdout",
     "output_type": "stream",
     "text": [
      "Deleted Containers:\n",
      "fc91a15a2837abbbd5a77d6eeae24b1f8a861d119898804e5771e7f863a08ce8\n",
      "849c2930abcd18c89a1f8677c8a7804e94186b4fbb4314da11f1eb3986011096\n",
      "7dd1efc2fb6cfa43ca2e080b55f31ca6f140130ffc492c84a0a45eb6943dc9cb\n",
      "618aad7b1f7dfaa01ba518337dfe13b8b554022a75b7baa4d558103c5c78d38a\n",
      "92a98bc8d2e2ae44091d555cb9fc3edf8e03ca8ce17fdc18f09d5d281dc6fea6\n",
      "\n",
      "Deleted Images:\n",
      "untagged: bruiglesias/node-image:latest\n",
      "deleted: sha256:97a359c9af96e81aa55954869b32bc8f0175a72cee8d815f5d5475f1e77242fb\n",
      "untagged: python:latest\n",
      "untagged: python@sha256:bc78d3c007f86dbb87d711b8b082d9d564b8025487e780d24ccb8581d83ef8b0\n",
      "deleted: sha256:c41ea82733659810377a74cad7ee2a4d1d6f582395de8d12091be78c315cfee2\n",
      "deleted: sha256:76721e3673ce33f28a7a8a631e0a054fca21cfbde46a602be9b05cb092b99a82\n",
      "deleted: sha256:6848cc44454b832969062cd4879f3b4dbcfb6d25e0e8ca9a1fc753ac4b8365e7\n",
      "deleted: sha256:81938c5dc5338d35aafc71e2934db15fa34f4f58d56dbb61a2defe8bf735630a\n",
      "untagged: hello-world:latest\n",
      "untagged: hello-world@sha256:305243c734571da2d100c8c8b3c3167a098cab6049c9a5b066b6021a60fcb966\n",
      "deleted: sha256:d2c94e258dcb3c5ac2798d32e1249e42ef01cba4841c2234249495f87264ac5a\n",
      "deleted: sha256:ac28800ec8bb38d5c35b49d45a6ac4777544941199075dff8c4eb63e093aa81e\n",
      "untagged: ubuntu:latest\n",
      "untagged: ubuntu@sha256:278628f08d4979fb9af9ead44277dbc9c92c2465922310916ad0c46ec9999295\n",
      "deleted: sha256:fec8bfd95b54439b934c5033dc62d79b946291c327814f2d4df181e1d7536806\n",
      "deleted: sha256:27123a71e85e0540333291adccf7b9c340d089e8c3717c380d3b75cc8c7df90f\n",
      "untagged: nginx:latest\n",
      "untagged: nginx@sha256:bc5eac5eafc581aeda3008b4b1f07ebba230de2f27d47767129a6a905c84f470\n",
      "deleted: sha256:60c8a892f36faf6c9215464005ee6fb8cf0585f70b113c0b030f6cb497a41876\n",
      "deleted: sha256:47984982982b32672d3b0cc6ebc1016e70916a8347c79765dc2ba09ed9afc97c\n",
      "deleted: sha256:f8fffef24ebb396c3e1721168923665f594d6b0ec1270700f642155fb51179cb\n",
      "deleted: sha256:ceff183e9da02c76af52712096cbe7e26e01909f827f18141058afbf4f7e32db\n",
      "deleted: sha256:01c22c5216c94ae4a6285e21b0ccb6bb786d437aa7eb7d3e2de8a454115d17a8\n",
      "deleted: sha256:9a980991ece0116dad7650d5af48faa2f693f9277bfd99f4fb3c8c2ce0b4e27d\n",
      "deleted: sha256:d775439dbfb804d168b7ab8501c32013896d40d66b14944d2429778d995c7fe4\n",
      "untagged: httpd:latest\n",
      "untagged: httpd@sha256:6bdbdf5ac16ac3d6ef543a693fd5dfafae2428b4b0cdc52a480166603a069136\n",
      "deleted: sha256:dad6ca1caf78e98e22e8e5a406ab4a3427cedfff254c7fcc9dc3b2ca922c642b\n",
      "deleted: sha256:092628e738116611e1bda846f338ba9bef1cc2a033dcc436b44b4dacead40078\n",
      "deleted: sha256:456ff357a71a1c90c94e4495325203fa902f8382cac26c0a03714dce602dcd99\n",
      "deleted: sha256:14d87f17c8b8cdb6546161cf49ff82631b15543e54b678c2dee4f7888456f5f7\n",
      "deleted: sha256:565135b3f0ec83dab78e23227d394efd5739080a312269f96b184740e562cb06\n",
      "deleted: sha256:559984f97411f386dcbe5f41ffc76ef63f5af393a69c3834317da70eb4d16f48\n",
      "deleted: sha256:c3548211b8264f8bfa47a6727043a64f1791b82ac965a284a7ea187e971a95e2\n",
      "\n",
      "Deleted build cache objects:\n",
      "qyifkardoko3r000llu55ihch\n",
      "ioyu813olo3d9nqdjjjbppfob\n",
      "wl66up6u2tuynv0f3u6be5z0z\n",
      "iuwonzv0gzig6q3wlh2ahs4vm\n",
      "ml2gw9rnhauc2tnbhpvapj5cd\n",
      "w93r92nrzkbl4ukthw4zf6gao\n",
      "r71nvxqckp1x3tj2zqg1auqbq\n",
      "l3xjqmsrebavwaplkxvykmr9x\n",
      "hl5n8q1ic62jg84oz8e64mman\n",
      "j01e38fhmu7rhj70rh5xq0tr6\n",
      "c769ct2mcjn16lp3jot0qr5h2\n",
      "wdz1gupyrvwqeqhmwn9os8q53\n",
      "wfe5vidze4y1e2e4fa6k7ng7i\n",
      "omn7e6a9y70iygqje8is70y6v\n",
      "2kdlrikjjgz169vh35tk2ob7j\n",
      "vamwr0k3mpq2gaulj49bxzwo8\n",
      "msxkmtpjwucb8vuvinm8cpo9q\n",
      "\n",
      "Total reclaimed space: 443.1MB\n"
     ]
    }
   ],
   "source": [
    "! docker system prune -a -f"
   ]
  },
  {
   "cell_type": "markdown",
   "metadata": {},
   "source": [
    "<b>Removendo container após utilizar</b>\n",
    "\n",
    "- Um container pode ser automaticamente deletado após sua utilização;\n",
    "\n",
    "- Para isso vamos utilizar a ```flag --rm```;\n",
    "\n",
    "- O comando seria: docker ```run --rm <container>```;\n",
    "\n",
    "- Desta maneira economizamos espaço no computador e deixamos o ambiente mais organizado;"
   ]
  },
  {
   "cell_type": "code",
   "execution_count": 1,
   "metadata": {},
   "outputs": [
    {
     "name": "stdout",
     "output_type": "stream",
     "text": [
      "aa82fc6a18675660169fe1cdde58f4f6384ae26bf71d9b329ad85e2405ce119e\n"
     ]
    }
   ],
   "source": [
    "! docker run -d -p 3000:3000 --name node-container --rm bruiglesias/node-image"
   ]
  },
  {
   "cell_type": "code",
   "execution_count": 2,
   "metadata": {},
   "outputs": [
    {
     "name": "stdout",
     "output_type": "stream",
     "text": [
      "CONTAINER ID   IMAGE                    COMMAND                  CREATED          STATUS          PORTS                                       NAMES\n",
      "aa82fc6a1867   bruiglesias/node-image   \"docker-entrypoint.s…\"   28 seconds ago   Up 27 seconds   0.0.0.0:3000->3000/tcp, :::3000->3000/tcp   node-container\n"
     ]
    }
   ],
   "source": [
    "! docker ps"
   ]
  },
  {
   "cell_type": "code",
   "execution_count": 12,
   "metadata": {},
   "outputs": [
    {
     "name": "stdout",
     "output_type": "stream",
     "text": [
      "node-container\n"
     ]
    }
   ],
   "source": [
    "! docker stop node-container"
   ]
  },
  {
   "cell_type": "code",
   "execution_count": 13,
   "metadata": {},
   "outputs": [
    {
     "name": "stdout",
     "output_type": "stream",
     "text": [
      "CONTAINER ID   IMAGE     COMMAND   CREATED   STATUS    PORTS     NAMES\n"
     ]
    }
   ],
   "source": [
    "! docker ps -a"
   ]
  },
  {
   "cell_type": "markdown",
   "metadata": {},
   "source": [
    "<b>Copiando arquivos entre containers</b>\n",
    "\n",
    "- Para cópia de arquivos entre containers utilizamos o comando: ```docker cp```\n",
    "\n",
    "- Pode ser utilizado para copiar um arquivo de um diretório para um container;\n",
    "\n",
    "- Ou de um container para um diretório determinado;"
   ]
  },
  {
   "cell_type": "code",
   "execution_count": 7,
   "metadata": {},
   "outputs": [
    {
     "name": "stdout",
     "output_type": "stream",
     "text": [
      "92f422c09151d5c7faa60b3cae4c4aa547bcc56e3de6aae40a02c98c1eca6668\n"
     ]
    }
   ],
   "source": [
    "! docker run -d -p 3000:3000 --name node-container --rm bruiglesias/node-image"
   ]
  },
  {
   "cell_type": "code",
   "execution_count": 8,
   "metadata": {},
   "outputs": [
    {
     "name": "stdout",
     "output_type": "stream",
     "text": [
      "Successfully copied 2.05kB to /home/iglesias/Documentos/curso_docker/backup/\n"
     ]
    }
   ],
   "source": [
    "! docker cp node-container:/app/app.js ../backup/"
   ]
  },
  {
   "cell_type": "markdown",
   "metadata": {},
   "source": [
    "<b>Verificar informações de processamento</b>\n",
    "\n",
    "- Para verificar dados de execução de um container utilizamos: ```docker top <container>```\n",
    "\n",
    "- Desta maneira temos acesso a quando ele foi iniciado, id do processo, descrição do comando ```CMD```;"
   ]
  },
  {
   "cell_type": "code",
   "execution_count": 9,
   "metadata": {},
   "outputs": [
    {
     "name": "stdout",
     "output_type": "stream",
     "text": [
      "UID                 PID                 PPID                C                   STIME               TTY                 TIME                CMD\n",
      "root                5963                5944                0                   18:02               ?                   00:00:00            node app.js\n"
     ]
    }
   ],
   "source": [
    "! docker top node-container"
   ]
  },
  {
   "cell_type": "markdown",
   "metadata": {},
   "source": [
    "<b>Verificar dados de um container</b>\n",
    "\n",
    "- Para verificar diversas informações como: id, data de criação, imagem e muito mais;\n",
    "\n",
    "- Utilizamos o comando ```docker inspect <container>```\n",
    "\n",
    "- Desta maneira conseguimos entender como o container está configurado;"
   ]
  },
  {
   "cell_type": "code",
   "execution_count": 10,
   "metadata": {},
   "outputs": [
    {
     "name": "stdout",
     "output_type": "stream",
     "text": [
      "[\n",
      "    {\n",
      "        \"Id\": \"92f422c09151d5c7faa60b3cae4c4aa547bcc56e3de6aae40a02c98c1eca6668\",\n",
      "        \"Created\": \"2024-11-24T22:02:46.847130343Z\",\n",
      "        \"Path\": \"docker-entrypoint.sh\",\n",
      "        \"Args\": [\n",
      "            \"node\",\n",
      "            \"app.js\"\n",
      "        ],\n",
      "        \"State\": {\n",
      "            \"Status\": \"running\",\n",
      "            \"Running\": true,\n",
      "            \"Paused\": false,\n",
      "            \"Restarting\": false,\n",
      "            \"OOMKilled\": false,\n",
      "            \"Dead\": false,\n",
      "            \"Pid\": 5963,\n",
      "            \"ExitCode\": 0,\n",
      "            \"Error\": \"\",\n",
      "            \"StartedAt\": \"2024-11-24T22:02:46.906261772Z\",\n",
      "            \"FinishedAt\": \"0001-01-01T00:00:00Z\"\n",
      "        },\n",
      "        \"Image\": \"sha256:dbe77b3f4f424753c1a7004b6d76ee31e4f01fd98c51c1f8718f18b528fbe378\",\n",
      "        \"ResolvConfPath\": \"/var/lib/docker/containers/92f422c09151d5c7faa60b3cae4c4aa547bcc56e3de6aae40a02c98c1eca6668/resolv.conf\",\n",
      "        \"HostnamePath\": \"/var/lib/docker/containers/92f422c09151d5c7faa60b3cae4c4aa547bcc56e3de6aae40a02c98c1eca6668/hostname\",\n",
      "        \"HostsPath\": \"/var/lib/docker/containers/92f422c09151d5c7faa60b3cae4c4aa547bcc56e3de6aae40a02c98c1eca6668/hosts\",\n",
      "        \"LogPath\": \"/var/lib/docker/containers/92f422c09151d5c7faa60b3cae4c4aa547bcc56e3de6aae40a02c98c1eca6668/92f422c09151d5c7faa60b3cae4c4aa547bcc56e3de6aae40a02c98c1eca6668-json.log\",\n",
      "        \"Name\": \"/node-container\",\n",
      "        \"RestartCount\": 0,\n",
      "        \"Driver\": \"overlay2\",\n",
      "        \"Platform\": \"linux\",\n",
      "        \"MountLabel\": \"\",\n",
      "        \"ProcessLabel\": \"\",\n",
      "        \"AppArmorProfile\": \"docker-default\",\n",
      "        \"ExecIDs\": null,\n",
      "        \"HostConfig\": {\n",
      "            \"Binds\": null,\n",
      "            \"ContainerIDFile\": \"\",\n",
      "            \"LogConfig\": {\n",
      "                \"Type\": \"json-file\",\n",
      "                \"Config\": {}\n",
      "            },\n",
      "            \"NetworkMode\": \"bridge\",\n",
      "            \"PortBindings\": {\n",
      "                \"3000/tcp\": [\n",
      "                    {\n",
      "                        \"HostIp\": \"\",\n",
      "                        \"HostPort\": \"3000\"\n",
      "                    }\n",
      "                ]\n",
      "            },\n",
      "            \"RestartPolicy\": {\n",
      "                \"Name\": \"no\",\n",
      "                \"MaximumRetryCount\": 0\n",
      "            },\n",
      "            \"AutoRemove\": true,\n",
      "            \"VolumeDriver\": \"\",\n",
      "            \"VolumesFrom\": null,\n",
      "            \"ConsoleSize\": [\n",
      "                24,\n",
      "                80\n",
      "            ],\n",
      "            \"CapAdd\": null,\n",
      "            \"CapDrop\": null,\n",
      "            \"CgroupnsMode\": \"private\",\n",
      "            \"Dns\": [],\n",
      "            \"DnsOptions\": [],\n",
      "            \"DnsSearch\": [],\n",
      "            \"ExtraHosts\": null,\n",
      "            \"GroupAdd\": null,\n",
      "            \"IpcMode\": \"private\",\n",
      "            \"Cgroup\": \"\",\n",
      "            \"Links\": null,\n",
      "            \"OomScoreAdj\": 0,\n",
      "            \"PidMode\": \"\",\n",
      "            \"Privileged\": false,\n",
      "            \"PublishAllPorts\": false,\n",
      "            \"ReadonlyRootfs\": false,\n",
      "            \"SecurityOpt\": null,\n",
      "            \"UTSMode\": \"\",\n",
      "            \"UsernsMode\": \"\",\n",
      "            \"ShmSize\": 67108864,\n",
      "            \"Runtime\": \"runc\",\n",
      "            \"Isolation\": \"\",\n",
      "            \"CpuShares\": 0,\n",
      "            \"Memory\": 0,\n",
      "            \"NanoCpus\": 0,\n",
      "            \"CgroupParent\": \"\",\n",
      "            \"BlkioWeight\": 0,\n",
      "            \"BlkioWeightDevice\": [],\n",
      "            \"BlkioDeviceReadBps\": [],\n",
      "            \"BlkioDeviceWriteBps\": [],\n",
      "            \"BlkioDeviceReadIOps\": [],\n",
      "            \"BlkioDeviceWriteIOps\": [],\n",
      "            \"CpuPeriod\": 0,\n",
      "            \"CpuQuota\": 0,\n",
      "            \"CpuRealtimePeriod\": 0,\n",
      "            \"CpuRealtimeRuntime\": 0,\n",
      "            \"CpusetCpus\": \"\",\n",
      "            \"CpusetMems\": \"\",\n",
      "            \"Devices\": [],\n",
      "            \"DeviceCgroupRules\": null,\n",
      "            \"DeviceRequests\": null,\n",
      "            \"MemoryReservation\": 0,\n",
      "            \"MemorySwap\": 0,\n",
      "            \"MemorySwappiness\": null,\n",
      "            \"OomKillDisable\": null,\n",
      "            \"PidsLimit\": null,\n",
      "            \"Ulimits\": [],\n",
      "            \"CpuCount\": 0,\n",
      "            \"CpuPercent\": 0,\n",
      "            \"IOMaximumIOps\": 0,\n",
      "            \"IOMaximumBandwidth\": 0,\n",
      "            \"MaskedPaths\": [\n",
      "                \"/proc/asound\",\n",
      "                \"/proc/acpi\",\n",
      "                \"/proc/kcore\",\n",
      "                \"/proc/keys\",\n",
      "                \"/proc/latency_stats\",\n",
      "                \"/proc/timer_list\",\n",
      "                \"/proc/timer_stats\",\n",
      "                \"/proc/sched_debug\",\n",
      "                \"/proc/scsi\",\n",
      "                \"/sys/firmware\",\n",
      "                \"/sys/devices/virtual/powercap\"\n",
      "            ],\n",
      "            \"ReadonlyPaths\": [\n",
      "                \"/proc/bus\",\n",
      "                \"/proc/fs\",\n",
      "                \"/proc/irq\",\n",
      "                \"/proc/sys\",\n",
      "                \"/proc/sysrq-trigger\"\n",
      "            ]\n",
      "        },\n",
      "        \"GraphDriver\": {\n",
      "            \"Data\": {\n",
      "                \"LowerDir\": \"/var/lib/docker/overlay2/4aa417741646469abfea2e4a6d8c12d1e92607bbac236a12ca18d0dd9c33b8c0-init/diff:/var/lib/docker/overlay2/wkuc7p04n6wrl88u2kp0l2f0s/diff:/var/lib/docker/overlay2/qf5hnob1krj8424cyqc74m06o/diff:/var/lib/docker/overlay2/irqm5mz9ygxrv8eohv3nqtpmm/diff:/var/lib/docker/overlay2/tjj0binoqztxuz06jfdndxaqe/diff:/var/lib/docker/overlay2/be52b06f728831c2b140e454723c60f3a34c18fee8e2a9e57c78538772f73fd8/diff:/var/lib/docker/overlay2/2c3e8cd1b879b9828abf1127daa67d0a72756cdf04b4bb7042ff525019d5104e/diff:/var/lib/docker/overlay2/12ebbb1f71620d7af2cde9e0ed724aa6d0c3d91afb2d86a646650fd4cdc44df3/diff:/var/lib/docker/overlay2/f5bb6d91e9fcc552861d2e0f5476c56a501f4bae4f753f34dafd8c9835bbcb1e/diff:/var/lib/docker/overlay2/d57eaf3667cbe0499007553e4ab9edea43a8161768d50cc17bf2b75314134bac/diff:/var/lib/docker/overlay2/00c52f73818a3f5a700d18e8c5905e57ff224294156b1346e7df6d822712b6b4/diff:/var/lib/docker/overlay2/982380a58abbdd3c88997f21c2eb05fb015217620cd9c0fe0201bc412b54b309/diff:/var/lib/docker/overlay2/23f5d809d1855805c4d0a4ed8f9699b6509004889e8d473fd403580029e1030e/diff\",\n",
      "                \"MergedDir\": \"/var/lib/docker/overlay2/4aa417741646469abfea2e4a6d8c12d1e92607bbac236a12ca18d0dd9c33b8c0/merged\",\n",
      "                \"UpperDir\": \"/var/lib/docker/overlay2/4aa417741646469abfea2e4a6d8c12d1e92607bbac236a12ca18d0dd9c33b8c0/diff\",\n",
      "                \"WorkDir\": \"/var/lib/docker/overlay2/4aa417741646469abfea2e4a6d8c12d1e92607bbac236a12ca18d0dd9c33b8c0/work\"\n",
      "            },\n",
      "            \"Name\": \"overlay2\"\n",
      "        },\n",
      "        \"Mounts\": [],\n",
      "        \"Config\": {\n",
      "            \"Hostname\": \"92f422c09151\",\n",
      "            \"Domainname\": \"\",\n",
      "            \"User\": \"\",\n",
      "            \"AttachStdin\": false,\n",
      "            \"AttachStdout\": false,\n",
      "            \"AttachStderr\": false,\n",
      "            \"ExposedPorts\": {\n",
      "                \"3000/tcp\": {}\n",
      "            },\n",
      "            \"Tty\": false,\n",
      "            \"OpenStdin\": false,\n",
      "            \"StdinOnce\": false,\n",
      "            \"Env\": [\n",
      "                \"PATH=/usr/local/sbin:/usr/local/bin:/usr/sbin:/usr/bin:/sbin:/bin\",\n",
      "                \"NODE_VERSION=23.3.0\",\n",
      "                \"YARN_VERSION=1.22.22\"\n",
      "            ],\n",
      "            \"Cmd\": [\n",
      "                \"node\",\n",
      "                \"app.js\"\n",
      "            ],\n",
      "            \"Image\": \"bruiglesias/node-image\",\n",
      "            \"Volumes\": null,\n",
      "            \"WorkingDir\": \"/app\",\n",
      "            \"Entrypoint\": [\n",
      "                \"docker-entrypoint.sh\"\n",
      "            ],\n",
      "            \"OnBuild\": null,\n",
      "            \"Labels\": {}\n",
      "        },\n",
      "        \"NetworkSettings\": {\n",
      "            \"Bridge\": \"\",\n",
      "            \"SandboxID\": \"8093a4797735414a7b9a56add205c2ff5846e431ac28ea9d8bd2f9d06fe8fc62\",\n",
      "            \"SandboxKey\": \"/var/run/docker/netns/8093a4797735\",\n",
      "            \"Ports\": {\n",
      "                \"3000/tcp\": [\n",
      "                    {\n",
      "                        \"HostIp\": \"0.0.0.0\",\n",
      "                        \"HostPort\": \"3000\"\n",
      "                    },\n",
      "                    {\n",
      "                        \"HostIp\": \"::\",\n",
      "                        \"HostPort\": \"3000\"\n",
      "                    }\n",
      "                ]\n",
      "            },\n",
      "            \"HairpinMode\": false,\n",
      "            \"LinkLocalIPv6Address\": \"\",\n",
      "            \"LinkLocalIPv6PrefixLen\": 0,\n",
      "            \"SecondaryIPAddresses\": null,\n",
      "            \"SecondaryIPv6Addresses\": null,\n",
      "            \"EndpointID\": \"6c12db28b618441d75164bad1a43c4120ae3726b82451462348cd6575aa6a30d\",\n",
      "            \"Gateway\": \"172.17.0.1\",\n",
      "            \"GlobalIPv6Address\": \"\",\n",
      "            \"GlobalIPv6PrefixLen\": 0,\n",
      "            \"IPAddress\": \"172.17.0.2\",\n",
      "            \"IPPrefixLen\": 16,\n",
      "            \"IPv6Gateway\": \"\",\n",
      "            \"MacAddress\": \"02:42:ac:11:00:02\",\n",
      "            \"Networks\": {\n",
      "                \"bridge\": {\n",
      "                    \"IPAMConfig\": null,\n",
      "                    \"Links\": null,\n",
      "                    \"Aliases\": null,\n",
      "                    \"MacAddress\": \"02:42:ac:11:00:02\",\n",
      "                    \"DriverOpts\": null,\n",
      "                    \"NetworkID\": \"a51633146e773379e2de8d8adaee03cffbc8c01eeed6a548099e8f5c7c28ed1e\",\n",
      "                    \"EndpointID\": \"6c12db28b618441d75164bad1a43c4120ae3726b82451462348cd6575aa6a30d\",\n",
      "                    \"Gateway\": \"172.17.0.1\",\n",
      "                    \"IPAddress\": \"172.17.0.2\",\n",
      "                    \"IPPrefixLen\": 16,\n",
      "                    \"IPv6Gateway\": \"\",\n",
      "                    \"GlobalIPv6Address\": \"\",\n",
      "                    \"GlobalIPv6PrefixLen\": 0,\n",
      "                    \"DNSNames\": null\n",
      "                }\n",
      "            }\n",
      "        }\n",
      "    }\n",
      "]\n"
     ]
    }
   ],
   "source": [
    "! docker inspect node-container"
   ]
  },
  {
   "cell_type": "markdown",
   "metadata": {},
   "source": [
    "<b>Verificar processamento</b>\n",
    "\n",
    "- Para verificar os processos que estão sendo executados em um container, utilizamos o comando: ```docker stats```\n",
    "\n",
    "- Desta maneira temos acesso ao andamento do processamento e memória gasta pelo mesmo;"
   ]
  },
  {
   "cell_type": "code",
   "execution_count": null,
   "metadata": {},
   "outputs": [],
   "source": [
    "! docker stats"
   ]
  },
  {
   "cell_type": "markdown",
   "metadata": {},
   "source": [
    "<b>Autenticação no Docker Hub</b>\n",
    "\n",
    "- Para concluir esta aula vamos precisar criar uma conta no: https://hub.docker.com\n",
    "\n",
    "- Para autenticar-se pelo terminal vamos utilizar o comando ```docker login```;\n",
    "\n",
    "- E então inserir usuário e senha;\n",
    "\n",
    "- Agora podemos enviar nossas próprias imagens para o HUB! =)"
   ]
  },
  {
   "cell_type": "code",
   "execution_count": null,
   "metadata": {},
   "outputs": [],
   "source": [
    "! docker login"
   ]
  },
  {
   "cell_type": "markdown",
   "metadata": {},
   "source": [
    "<b>Logout do Docker Hub</b>\n",
    "\n",
    "- Para remover a conexão entre nossa máquina e o Docker Hub, vamos utilizar o comando ```docker logout```;\n",
    "\n",
    "- Agora não podemos mais enviar imagens, pois não estamos autenticados;"
   ]
  },
  {
   "cell_type": "code",
   "execution_count": null,
   "metadata": {},
   "outputs": [],
   "source": [
    "! docker logout"
   ]
  },
  {
   "cell_type": "markdown",
   "metadata": {},
   "source": [
    "<b>Enviando imagem para o Docker Hub</b>\n",
    "\n",
    "- Para enviar uma imagem nossa ao Docker Hub utilizamos o comando ```docker push <imagem>```;\n",
    "\n",
    "- Porém antes vamos precisar criar o repositório para a mesma no site do Hub;\n",
    "\n",
    "- Também será necessário estar autenticado;"
   ]
  },
  {
   "cell_type": "code",
   "execution_count": null,
   "metadata": {},
   "outputs": [],
   "source": [
    "! docker push bruiglesias/node-contaniner"
   ]
  },
  {
   "cell_type": "markdown",
   "metadata": {},
   "source": [
    "<b>Enviando atualização de imagem</b>\n",
    "\n",
    "- Para enviar uma atualização vamos primeiramente fazer o build;\n",
    "\n",
    "- Trocando a tag da imagem para a versão atualizada;\n",
    "\n",
    "- Depois vamos fazer um push novamente para o repositório;\n",
    "\n",
    "- Assim todas as versões estarão disponíveis para serem utilizadas;"
   ]
  },
  {
   "cell_type": "code",
   "execution_count": null,
   "metadata": {},
   "outputs": [],
   "source": [
    "! docker build -t bruiglesias/node-contaniner ."
   ]
  },
  {
   "cell_type": "code",
   "execution_count": null,
   "metadata": {},
   "outputs": [],
   "source": [
    "! docker push bruiglesias/node-contaniner"
   ]
  },
  {
   "cell_type": "markdown",
   "metadata": {},
   "source": [
    "<b>Baixando e utilizando a imagem</b>\n",
    "\n",
    "- Para baixar a imagem podemos utilizar o comando ```docker pull <imagem>```\n",
    "\n",
    "- E depois criar um novo container com ```docker run <imagem>```\n",
    "\n",
    "- E pronto! Estaremos utilizando a nossa imagem com um container;"
   ]
  },
  {
   "cell_type": "code",
   "execution_count": null,
   "metadata": {},
   "outputs": [],
   "source": [
    "! docker pull bruiglesias/node-contaniner"
   ]
  },
  {
   "cell_type": "code",
   "execution_count": null,
   "metadata": {},
   "outputs": [],
   "source": [
    "! docker run -d -p 3000:3000 --name node-container --rm bruiglesias/node-image"
   ]
  }
 ],
 "metadata": {
  "kernelspec": {
   "display_name": "docker-env",
   "language": "python",
   "name": "python3"
  },
  "language_info": {
   "codemirror_mode": {
    "name": "ipython",
    "version": 3
   },
   "file_extension": ".py",
   "mimetype": "text/x-python",
   "name": "python",
   "nbconvert_exporter": "python",
   "pygments_lexer": "ipython3",
   "version": "3.12.3"
  }
 },
 "nbformat": 4,
 "nbformat_minor": 2
}
