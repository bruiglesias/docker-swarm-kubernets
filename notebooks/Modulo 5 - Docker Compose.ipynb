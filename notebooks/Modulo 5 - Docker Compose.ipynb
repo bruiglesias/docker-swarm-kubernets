{
 "cells": [
  {
   "cell_type": "markdown",
   "metadata": {},
   "source": [
    "###  Docker Compose"
   ]
  },
  {
   "cell_type": "markdown",
   "metadata": {},
   "source": [
    "<b>O que é o Docker Compose?</b>\n",
    "\n",
    "- O Docker Compose é uma ferramenta para rodar múltiplos containers;\n",
    "\n",
    "- Teremos apenas um arquivo de configuração, que orquestra totalmente esta situação;\n",
    "\n",
    "- É uma forma de rodar múltiplos builds e runs com um comando;\n",
    "\n",
    "- Em projetos maiores é essencial o uso do Compose;"
   ]
  },
  {
   "cell_type": "markdown",
   "metadata": {},
   "source": [
    "<b>Instalando docker compose no Linux</b>\n",
    "\n",
    "- Usuários do Linux ainda não possuem a ferramenta que utilizaremos nesta seção;\n",
    "\n",
    "- Vamos seguir as instruções de: https://docs.docker.com/compose/install/\n",
    "\n",
    "- O docker compose é essencial para atingirmos os nossos objetos no curso;"
   ]
  },
  {
   "cell_type": "markdown",
   "metadata": {},
   "source": [
    "<b>Criando nosso primeiro Compose</b>\n",
    "\n",
    "- Primeiramente vamos criar um arquivo chamado ```docker-compose.yml``` na raiz do projeto;\n",
    "\n",
    "- Este arquivo vai coordenar os containers e imagens, e possui algumas chaves muito utilizadas;\n",
    "\n",
    "- ```version```: versão do Compose;\n",
    "\n",
    "- ```services```: Containers/serviços que vão rodar nessa aplicação;\n",
    "\n",
    "- ```volumes```: Possível adição de volumes;"
   ]
  },
  {
   "cell_type": "markdown",
   "metadata": {},
   "source": [
    "```yaml\n",
    "version: '3.3'\n",
    "\n",
    "services:\n",
    "  db: \n",
    "    image: mysql:5.7\n",
    "    ports:\n",
    "      - 3306:3306 \n",
    "    volumes:\n",
    "      - db_data:/var/lib/mysql\n",
    "    restart: always\n",
    "    environment:\n",
    "      MYSQL_ROOT_PASSWORD: wordpress\n",
    "      MYSQL_DATABASE: wordpress\n",
    "      MYSQL_USER: bruno\n",
    "      MYSQL_PASSWORD: secret\n",
    "\n",
    "  wordpress:\n",
    "    depends_on: \n",
    "      - db\n",
    "    image: wordpress:latest\n",
    "    ports:\n",
    "      - \"80:80\"\n",
    "    restart: always\n",
    "    environment: \n",
    "      WORDPRESS_DB_HOST: db:3306\n",
    "      WORDPRESS_DB_USER: bruno\n",
    "      WORDPRESS_DB_PASSWORD: secret\n",
    "      WORDPRESS_DB_NAME: wordpress\n",
    "\n",
    "volumes:\n",
    "  db_data: {}\n",
    "```"
   ]
  },
  {
   "cell_type": "markdown",
   "metadata": {},
   "source": [
    "<b>Rodando o Compose</b>\n",
    "\n",
    "- Para rodar nossa estrutura em Compose vamos utilizar o comando: ```docker compose up```;\n",
    "\n",
    "- Isso fará com que as instruções no arquivo sejam executadas;\n",
    "\n",
    "- Da mesma forma que realizamos os builds e também os runs;\n",
    "\n",
    "- Podemos parar o Compose com ```ctrl+c``` no terminal;"
   ]
  },
  {
   "cell_type": "code",
   "execution_count": null,
   "metadata": {
    "vscode": {
     "languageId": "plaintext"
    }
   },
   "outputs": [],
   "source": [
    "! docker compose up"
   ]
  },
  {
   "cell_type": "markdown",
   "metadata": {},
   "source": [
    "<b>Compose em background</b>\n",
    "\n",
    "- O Compose também pode ser executado em modo ```detached```;\n",
    "\n",
    "- Para isso vamos utilizar a ```flag -d``` no comando;\n",
    "\n",
    "- E então os containers estarão rodando em background;\n",
    "\n",
    "- Podemos ver sua execução com ```docker ps```;"
   ]
  },
  {
   "cell_type": "code",
   "execution_count": null,
   "metadata": {
    "vscode": {
     "languageId": "plaintext"
    }
   },
   "outputs": [],
   "source": [
    "! docker compose up -d"
   ]
  },
  {
   "cell_type": "markdown",
   "metadata": {},
   "source": [
    "<b>Parando o Compose</b>\n",
    "\n",
    "- Podemos parar o Compose que roda em background com:```docker compose down```;\n",
    "\n",
    "- Desta maneira o serviço para e temos os containers adicionados no ```docker ps -a```;"
   ]
  },
  {
   "cell_type": "code",
   "execution_count": null,
   "metadata": {
    "vscode": {
     "languageId": "plaintext"
    }
   },
   "outputs": [],
   "source": [
    "! docker compose down"
   ]
  },
  {
   "cell_type": "markdown",
   "metadata": {},
   "source": [
    "<b>Variáveis de ambiente</b>\n",
    "\n",
    "- Podemos definir variáveis de ambiente para o Docker Compose;\n",
    "\n",
    "- Para isso vamos definir um arquivo base em ```env_file```;\n",
    "\n",
    "- As variáveis podem ser chamadas pela sintaxe: ```${VARIAVEL}```\n",
    "\n",
    "- Esta técnica é útil quando o dado a ser inserido é sensível/não pode ser compartilhado, como uma senha;"
   ]
  },
  {
   "cell_type": "markdown",
   "metadata": {},
   "source": [
    "<b>Arquivo db.env</b>"
   ]
  },
  {
   "cell_type": "markdown",
   "metadata": {},
   "source": [
    "```env\n",
    "MYSQL_ROOT_PASSWORD=wordpress\n",
    "MYSQL_DATABASE=wordpress\n",
    "MYSQL_USER=bruno\n",
    "MYSQL_PASSWORD=secret\n",
    "```"
   ]
  },
  {
   "cell_type": "markdown",
   "metadata": {},
   "source": [
    "<b>Arquivo wp.env</b>"
   ]
  },
  {
   "cell_type": "markdown",
   "metadata": {},
   "source": [
    "```env\n",
    "WORDPRESS_DB_HOST=db:3306\n",
    "WORDPRESS_DB_USER=bruno\n",
    "WORDPRESS_DB_PASSWORD=secret\n",
    "WORDPRESS_DB_NAME=wordpress\n",
    "```"
   ]
  },
  {
   "cell_type": "markdown",
   "metadata": {},
   "source": [
    "<b>Arquivo docker-compose.yaml</b>"
   ]
  },
  {
   "cell_type": "markdown",
   "metadata": {},
   "source": [
    "```yaml\n",
    "version: '3.3'\n",
    "\n",
    "services:\n",
    "  db: \n",
    "    image: mysql:5.7\n",
    "    ports:\n",
    "      - 3306:3306 \n",
    "    volumes:\n",
    "      - db_data:/var/lib/mysql\n",
    "    restart: always\n",
    "    env_file:\n",
    "      - ./config/db.env\n",
    "\n",
    "  wordpress:\n",
    "    depends_on: \n",
    "      - db\n",
    "    image: wordpress:latest\n",
    "    ports:\n",
    "      - \"80:80\"\n",
    "    restart: always\n",
    "    env_file:\n",
    "      - ./config/wp.env\n",
    "\n",
    "volumes:\n",
    "  db_data: {}\n",
    "```"
   ]
  },
  {
   "cell_type": "markdown",
   "metadata": {},
   "source": [
    "<b>Redes no Compose</b>\n",
    "\n",
    "- O Compose cria uma rede básica Bridge entre os containers da aplicação;\n",
    "\n",
    "- Porém podemos isolar as redes com a chave ```networks```;\n",
    "\n",
    "- Desta maneira podemos conectar apenas os containers que optarmos;\n",
    "\n",
    "- E podemos definir drivers diferentes também;"
   ]
  },
  {
   "cell_type": "markdown",
   "metadata": {},
   "source": [
    "```yaml\n",
    "version: '3.4'\n",
    "services:\n",
    "  db:\n",
    "    image: mysql:5.7.22\n",
    "    command: mysqld --default_authentication_plugin=mysql_native_password\n",
    "    environment:\n",
    "      TZ: America/Sao_Paulo\n",
    "      MYSQL_ROOT_PASSWORD: docker\n",
    "      MYSQL_USER: docker\n",
    "      MYSQL_PASSWORD: docker\n",
    "      MYSQL_DATABASE: wordpress\n",
    "    ports:\n",
    "      - 3308:3306\n",
    "    networks:\n",
    "      - wordpress-network\n",
    "  wordpress:\n",
    "    image: wordpress:latest\n",
    "    volumes:\n",
    "      - ./config/php.conf.uploads.ini:/usr/local/etc/php/conf.d/uploads.ini\n",
    "      - ./wp-app:/var/www/html\n",
    "    environment:\n",
    "      TZ: America/Sao_Paulo\n",
    "      WORDPRESS_DB_HOST: db\n",
    "      WORDPRESS_DB_NAME: wordpress\n",
    "      WORDPRESS_DB_USER: root\n",
    "      WORDPRESS_DB_PASSWORD: docker\n",
    "    ports:\n",
    "      - 80:80\n",
    "    networks:\n",
    "      - wordpress-network\n",
    "networks:\n",
    "    wordpress-network:\n",
    "      driver: bridge\n",
    "\n",
    "```"
   ]
  },
  {
   "cell_type": "markdown",
   "metadata": {},
   "source": [
    "<b>Vamos incluir o projeto no Compose</b>\n",
    "\n",
    "- Agora vamos inserir o nosso projeto da última seção no Compose;\n",
    "\n",
    "- Para verificar na prática como fazer uma transferência de Dockerfiles para Docker Compose!"
   ]
  },
  {
   "cell_type": "markdown",
   "metadata": {},
   "source": [
    "```yaml\n",
    "version: '3.3'\n",
    "\n",
    "services:\n",
    "  db:\n",
    "    image: mysql\n",
    "    restart: always\n",
    "    env_file:\n",
    "      - ./config/db.env\n",
    "    ports:\n",
    "      - \"3306:3306\"\n",
    "    networks:\n",
    "      - wordpress-network\n",
    "    volumes:\n",
    "      - ./mysql/schema.sql:/docker-entrypoint-initdb.d/init.sql\n",
    "  \n",
    "  flask:\n",
    "    depends_on: \n",
    "      - db\n",
    "    image: bruiglesias/flask-image\n",
    "    ports:\n",
    "      - \"5000:5000\"\n",
    "    restart: always\n",
    "    networks: \n",
    "      - wordpress-network\n",
    "\n",
    "networks:\n",
    "  wordpress-network:\n",
    "\n",
    "```"
   ]
  },
  {
   "cell_type": "code",
   "execution_count": null,
   "metadata": {
    "vscode": {
     "languageId": "plaintext"
    }
   },
   "outputs": [],
   "source": [
    "! docker compose up -d"
   ]
  },
  {
   "cell_type": "markdown",
   "metadata": {},
   "source": [
    "<b>Build no Compose</b>\n",
    "\n",
    "- Podemos gerar o build durante o Compose também;\n",
    "\n",
    "- Isso vai eliminar o processo de gerar o build da imagem a cada atualização;\n",
    "\n",
    "- Vamos ver na prática!"
   ]
  },
  {
   "cell_type": "markdown",
   "metadata": {},
   "source": [
    "```yaml\n",
    "version: '3.3'\n",
    "\n",
    "services:\n",
    "  db:\n",
    "    build: ./mysql/\n",
    "    restart: always\n",
    "    env_file:\n",
    "      - ./config/db.env\n",
    "    ports:\n",
    "      - \"3306:3306\"\n",
    "    networks:\n",
    "      - wordpress-network\n",
    "    volumes:\n",
    "      - ./mysql/schema.sql:/docker-entrypoint-initdb.d/init.sql\n",
    "  \n",
    "  flask:\n",
    "    depends_on: \n",
    "      - db\n",
    "    build: ./flask/\n",
    "    ports:\n",
    "      - \"5000:5000\"\n",
    "    restart: always\n",
    "    networks: \n",
    "      - wordpress-network\n",
    "\n",
    "networks:\n",
    "  wordpress-network:\n",
    "```"
   ]
  },
  {
   "cell_type": "code",
   "execution_count": null,
   "metadata": {
    "vscode": {
     "languageId": "plaintext"
    }
   },
   "outputs": [],
   "source": [
    "! docker compose up -d"
   ]
  },
  {
   "cell_type": "markdown",
   "metadata": {},
   "source": [
    "<b>Bind mount no Compose</b>\n",
    "\n",
    "- O volume de Bind Mount garante atualização em tempo real dos arquivos do container;\n",
    "\n",
    "- Podemos configurar nosso projeto de Compose para utilizar esta funcionalidade também;\n",
    "\n",
    "- Vamos ver na prática!"
   ]
  },
  {
   "cell_type": "markdown",
   "metadata": {},
   "source": [
    "```yaml\n",
    "version: '3.3'\n",
    "\n",
    "services:\n",
    "  db:\n",
    "    build: ./mysql/\n",
    "    restart: always\n",
    "    env_file:\n",
    "      - ./config/db.env\n",
    "    ports:\n",
    "      - \"3306:3306\"\n",
    "    networks:\n",
    "      - wordpress-network\n",
    "    volumes:\n",
    "      - ./mysql/schema.sql:/docker-entrypoint-initdb.d/init.sql\n",
    "  \n",
    "  flask:\n",
    "    depends_on: \n",
    "      - db\n",
    "    build: ./flask/\n",
    "    ports:\n",
    "      - \"5000:5000\"\n",
    "    restart: always\n",
    "    volumes:\n",
    "      - /home/iglesias/Documentos/curso_docker/compose/5_bind/flask:/app\n",
    "    networks: \n",
    "      - wordpress-network\n",
    "\n",
    "networks:\n",
    "  wordpress-network:\n",
    "```"
   ]
  },
  {
   "cell_type": "markdown",
   "metadata": {},
   "source": [
    "<b>Verificando o que tem no Compose</b>\n",
    "\n",
    "- Podemos fazer a verificação do compose com: ```docker-compose ps```\n",
    "\n",
    "- Receberemos um resumo dos serviços que sobem ao rodar o compose;\n",
    "\n",
    "- Desta maneira podemos avaliar rapidamente o projeto;"
   ]
  },
  {
   "cell_type": "code",
   "execution_count": null,
   "metadata": {
    "vscode": {
     "languageId": "plaintext"
    }
   },
   "outputs": [],
   "source": [
    "! docker-compose ps"
   ]
  }
 ],
 "metadata": {
  "kernelspec": {
   "display_name": "docker-env",
   "language": "python",
   "name": "python3"
  },
  "language_info": {
   "codemirror_mode": {
    "name": "ipython",
    "version": 3
   },
   "file_extension": ".py",
   "mimetype": "text/x-python",
   "name": "python",
   "nbconvert_exporter": "python",
   "pygments_lexer": "ipython3",
   "version": "3.12.3"
  }
 },
 "nbformat": 4,
 "nbformat_minor": 2
}
