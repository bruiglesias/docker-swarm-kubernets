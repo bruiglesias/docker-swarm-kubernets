{
 "cells": [
  {
   "cell_type": "markdown",
   "metadata": {},
   "source": [
    "### Volumes"
   ]
  },
  {
   "cell_type": "markdown",
   "metadata": {},
   "source": [
    "<b>O que são volumes?</b>\n",
    "\n",
    "- Uma forma prática de persistir dados em aplicações e não depender de containers para isso;\n",
    "\n",
    "- Todo dado criado por um container é salvo nele, quando o container é removido perdemos os dados;\n",
    "\n",
    "- Então precisamos dos volumes para gerenciar os dados e também conseguir fazer backups de forma mais simples;"
   ]
  },
  {
   "cell_type": "markdown",
   "metadata": {},
   "source": [
    "<b>Tipos de volumes</b>\n",
    "\n",
    "- ```Anônimos (anonymous)```: Diretórios criados pela ```flag -v```, porém com um nome aleatório;\n",
    "\n",
    "- ```Nomeados (named)```: São volumes com nomes, podemos nos referir a estes facilmente e saber para que são utilizados no nosso ambiente;\n",
    "\n",
    "- ```Bind mounts```: Uma forma de salvar dados na nossa máquina, sem o gerenciamento do Docker, informamos um diretório para este fim;\n"
   ]
  },
  {
   "cell_type": "markdown",
   "metadata": {},
   "source": [
    "<b>O problema da persistência</b>\n",
    "\n",
    "- Se criarmos um container com alguma imagem, todos os arquivos que geramos dentro dele serão do container;\n",
    "\n",
    "- Quando o container for removido, perderemos estes arquivos;\n",
    "\n",
    "- Por isso precisamos os volumes;\n",
    "\n",
    "- Vamos criar um exemplo prático!"
   ]
  },
  {
   "cell_type": "markdown",
   "metadata": {},
   "source": [
    "```Dockerfile\n",
    "FROM php:8-apache\n",
    "\n",
    "WORKDIR /var/www/html/\n",
    "\n",
    "COPY . .\n",
    "\n",
    "EXPOSE 80\n",
    "\n",
    "RUN chown -R www-data:www-data /var/www \n",
    "\n",
    "```"
   ]
  },
  {
   "cell_type": "code",
   "execution_count": null,
   "metadata": {},
   "outputs": [],
   "source": [
    "! docker build -t bruiglesias/php-image ."
   ]
  },
  {
   "cell_type": "code",
   "execution_count": null,
   "metadata": {},
   "outputs": [],
   "source": [
    "! docker run -d -p 80:80 --name php-container bruiglesias/php-image"
   ]
  },
  {
   "cell_type": "markdown",
   "metadata": {},
   "source": [
    "<b>Volumes anônimos</b>\n",
    "\n",
    "- Podemos criar um volume ```anônimo (anonymous```) da seguinte maneira: ```docker run -v /data```\n",
    "\n",
    "- Onde ```/data``` será o diretório que contém o volume anônimo;\n",
    "\n",
    "- E este container estará atrelado ao volume anônimo;\n",
    "\n",
    "- Com o comando ```docker volume ls```, podemos ver todos os volumes do nosso ambiente;\n"
   ]
  },
  {
   "cell_type": "code",
   "execution_count": 1,
   "metadata": {},
   "outputs": [
    {
     "name": "stdout",
     "output_type": "stream",
     "text": [
      "php-container\n"
     ]
    }
   ],
   "source": [
    "! docker stop php-container"
   ]
  },
  {
   "cell_type": "code",
   "execution_count": 2,
   "metadata": {},
   "outputs": [
    {
     "name": "stdout",
     "output_type": "stream",
     "text": [
      "php-container\n"
     ]
    }
   ],
   "source": [
    "! docker container rm php-container"
   ]
  },
  {
   "cell_type": "code",
   "execution_count": 3,
   "metadata": {},
   "outputs": [
    {
     "name": "stdout",
     "output_type": "stream",
     "text": [
      "df3494005fd64c72b4a1400366789ebc8d1a128a787d6d498ed6a44431551982\n"
     ]
    }
   ],
   "source": [
    "! docker run -d -p 80:80 --name php-container --rm -v /data bruiglesias/php-image"
   ]
  },
  {
   "cell_type": "code",
   "execution_count": 4,
   "metadata": {},
   "outputs": [
    {
     "name": "stdout",
     "output_type": "stream",
     "text": [
      "DRIVER    VOLUME NAME\n",
      "local     8b1f7c23ec2b050e880af239eff367b14185bf7ed10f47ec8acafb403007bba9\n"
     ]
    }
   ],
   "source": [
    "! docker volume ls"
   ]
  },
  {
   "cell_type": "markdown",
   "metadata": {},
   "source": [
    "<b>Volumes nomeados</b>\n",
    "\n",
    "- Podemos criar um volume ```nomeado (named)``` da seguinte maneira: ```docker run -v nomedovolume:/data```\n",
    "\n",
    "- Agora o volume tem um nome e pode ser facilmente referenciado;\n",
    "\n",
    "- Em ```docker volume ls``` podemos verificar o container nomeado criado;\n",
    "\n",
    "- Da mesma maneira que o anônimo, este volume tem como função armazenar arquivos;"
   ]
  },
  {
   "cell_type": "code",
   "execution_count": 5,
   "metadata": {},
   "outputs": [
    {
     "name": "stdout",
     "output_type": "stream",
     "text": [
      "php-container\n"
     ]
    }
   ],
   "source": [
    "! docker stop php-container"
   ]
  },
  {
   "cell_type": "code",
   "execution_count": 6,
   "metadata": {},
   "outputs": [
    {
     "name": "stdout",
     "output_type": "stream",
     "text": [
      "11429cc00a54f9d0da047b5c945fdbbceabe5e88fa239a070ffad5bec15f7e35\n"
     ]
    }
   ],
   "source": [
    "! docker run -d -p 80:80 --name php-container --rm -v volume-php:/var/www/html/messages  bruiglesias/php-image"
   ]
  },
  {
   "cell_type": "code",
   "execution_count": 7,
   "metadata": {},
   "outputs": [
    {
     "name": "stdout",
     "output_type": "stream",
     "text": [
      "DRIVER    VOLUME NAME\n",
      "local     volume-php\n"
     ]
    }
   ],
   "source": [
    "! docker volume ls"
   ]
  },
  {
   "cell_type": "code",
   "execution_count": 8,
   "metadata": {},
   "outputs": [
    {
     "name": "stdout",
     "output_type": "stream",
     "text": [
      "php-container\n"
     ]
    }
   ],
   "source": [
    "! docker stop php-container"
   ]
  },
  {
   "cell_type": "markdown",
   "metadata": {},
   "source": [
    "<b>Bind mounts</b>\n",
    "\n",
    "- Bind mount também é um volume, porém ele fica em um diretório que nós especificamos;\n",
    "\n",
    "- Então não criamos um volume em sim, apontamos um diretório;\n",
    "\n",
    "- O comando para criar um bind mount é: ```docker run /dir/data:/data```\n",
    "\n",
    "- Desta maneira o diretório ```/dir/data``` no nosso computador, será o volume deste container;"
   ]
  },
  {
   "cell_type": "code",
   "execution_count": null,
   "metadata": {},
   "outputs": [
    {
     "name": "stdout",
     "output_type": "stream",
     "text": [
      "b00b46fbdba2951c3682d5ca5c18ea006f795d5b91a287526e4416d49d1361d3\n"
     ]
    }
   ],
   "source": [
    "! docker run -d -p 80:80 --user $(id -u):$(id -g) --name php-container --rm -v /home/iglesias/Documentos/curso_docker/volumes/messages:/var/www/html/messages bruiglesias/php-image"
   ]
  },
  {
   "cell_type": "code",
   "execution_count": 22,
   "metadata": {},
   "outputs": [
    {
     "name": "stdout",
     "output_type": "stream",
     "text": [
      "php-container\n"
     ]
    }
   ],
   "source": [
    "! docker stop php-container"
   ]
  },
  {
   "cell_type": "markdown",
   "metadata": {},
   "source": [
    "\n",
    "<b>Atualização do projeto com bind mount</b>\n",
    "\n",
    "- Bind mount não serve apenas para volumes!\n",
    "\n",
    "- Podemos utilizar esta técnica para ```atualização em tempo real do projeto```;\n",
    "\n",
    "- Sem ter que refazer o build a cada atualização do mesmo;\n",
    "\n",
    "- Vamos ver na prática!"
   ]
  },
  {
   "cell_type": "code",
   "execution_count": 16,
   "metadata": {},
   "outputs": [
    {
     "name": "stdout",
     "output_type": "stream",
     "text": [
      "10af2961753d8b3d39bfa50ea99f3dfc48068b85c0116601a544738cf01c1b36\n"
     ]
    }
   ],
   "source": [
    "!docker run -d -p 80:80 --user $(id -u):$(id -g) --name php-container --rm -v /home/iglesias/Documentos/curso_docker/volumes:/var/www/html bruiglesias/php-image"
   ]
  },
  {
   "cell_type": "markdown",
   "metadata": {},
   "source": [
    "<b>Criar um volume</b>\n",
    "\n",
    "- Podemos criar volumes manualmente também;\n",
    "\n",
    "- Utilizamos o comando: ```docker volume create <nome>```;\n",
    "\n",
    "- Desta maneira temos um named volume criado, podemos atrelar a algum container na execução do mesmo;"
   ]
  },
  {
   "cell_type": "code",
   "execution_count": 17,
   "metadata": {},
   "outputs": [
    {
     "name": "stdout",
     "output_type": "stream",
     "text": [
      "volume-manual\n"
     ]
    }
   ],
   "source": [
    "! docker volume create volume-manual"
   ]
  },
  {
   "cell_type": "code",
   "execution_count": 19,
   "metadata": {},
   "outputs": [
    {
     "name": "stdout",
     "output_type": "stream",
     "text": [
      "DRIVER    VOLUME NAME\n",
      "local     volume-manual\n",
      "local     volume-php\n"
     ]
    }
   ],
   "source": [
    "! docker volume ls"
   ]
  },
  {
   "cell_type": "markdown",
   "metadata": {},
   "source": [
    "<b>Listando todos os volumes</b>\n",
    "\n",
    "- Com o comando: ```docker volume ls``` listamos todos todos os volumes;\n",
    "\n",
    "- Desta maneira temos acesso aos ```anonymous``` e os ```named volumes```;\n",
    "\n",
    "- Interessante para saber quais volumes estão criados no nosso ambiente;"
   ]
  },
  {
   "cell_type": "code",
   "execution_count": 20,
   "metadata": {},
   "outputs": [
    {
     "name": "stdout",
     "output_type": "stream",
     "text": [
      "DRIVER    VOLUME NAME\n",
      "local     volume-manual\n",
      "local     volume-php\n"
     ]
    }
   ],
   "source": [
    "! docker volume ls"
   ]
  },
  {
   "cell_type": "markdown",
   "metadata": {},
   "source": [
    "<b>Checar um volume</b>\n",
    "\n",
    "- Podemos verificar os detalhes de um volume em específico com o comando: ```docker volume inspect nome```;\n",
    "\n",
    "- Desta forma temos acesso ao local em que o volume guarda dados, nome, escopo e muito mais;\n",
    "\n",
    "- O docker salva os dados dos volumes em algum diretório do nosso computador, desta forma podemos saber qual é;"
   ]
  },
  {
   "cell_type": "code",
   "execution_count": 21,
   "metadata": {},
   "outputs": [
    {
     "name": "stdout",
     "output_type": "stream",
     "text": [
      "[\n",
      "    {\n",
      "        \"CreatedAt\": \"2024-11-24T20:56:51-04:00\",\n",
      "        \"Driver\": \"local\",\n",
      "        \"Labels\": null,\n",
      "        \"Mountpoint\": \"/var/lib/docker/volumes/volume-php/_data\",\n",
      "        \"Name\": \"volume-php\",\n",
      "        \"Options\": null,\n",
      "        \"Scope\": \"local\"\n",
      "    }\n",
      "]\n"
     ]
    }
   ],
   "source": [
    "! docker volume inspect volume-php"
   ]
  },
  {
   "cell_type": "markdown",
   "metadata": {},
   "source": [
    "<b>Remover um volume</b>\n",
    "\n",
    "- Podemos também remover um volume existente de forma fácil;\n",
    "\n",
    "- Vamos utilizar o comando ```docker volume rm <nome>```\n",
    "\n",
    "- Observe que os dados serão removidos todos também, tome cuidado com este comando;"
   ]
  },
  {
   "cell_type": "code",
   "execution_count": 23,
   "metadata": {},
   "outputs": [
    {
     "name": "stdout",
     "output_type": "stream",
     "text": [
      "volume-manual\n"
     ]
    }
   ],
   "source": [
    "! docker volume rm volume-manual"
   ]
  },
  {
   "cell_type": "markdown",
   "metadata": {},
   "source": [
    "<b>Removendo volumes não utilizados</b>\n",
    "\n",
    "- Podemos remover todos os volumes que não estão sendo utilizados com apenas um comando;\n",
    "\n",
    "- O comando é: ```docker volume prune```\n",
    "\n",
    "- Semelhante ao prune que remove imagens e containers, visto anteriormente;"
   ]
  },
  {
   "cell_type": "code",
   "execution_count": null,
   "metadata": {},
   "outputs": [],
   "source": [
    "! docker volume prune"
   ]
  },
  {
   "cell_type": "markdown",
   "metadata": {},
   "source": [
    "<b>Volume apenas de leitura</b>\n",
    "\n",
    "- Podemos criar um volume que tem apenas permissão de leitura, isso é útil em algumas aplicações;\n",
    "\n",
    "- Para realizar esta configuração devemos utilizar o comando: docker ```run -v volume:/data:ro```\n",
    "\n",
    "- Este ```:ro``` é a abreviação de read only;"
   ]
  }
 ],
 "metadata": {
  "kernelspec": {
   "display_name": "docker-env",
   "language": "python",
   "name": "python3"
  },
  "language_info": {
   "codemirror_mode": {
    "name": "ipython",
    "version": 3
   },
   "file_extension": ".py",
   "mimetype": "text/x-python",
   "name": "python",
   "nbconvert_exporter": "python",
   "pygments_lexer": "ipython3",
   "version": "3.12.3"
  }
 },
 "nbformat": 4,
 "nbformat_minor": 2
}
